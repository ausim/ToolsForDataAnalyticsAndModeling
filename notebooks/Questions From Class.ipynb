{
 "cells": [
  {
   "cell_type": "markdown",
   "id": "cfc26e36-81b4-47d3-98c9-7352664c95bf",
   "metadata": {},
   "source": [
    "### 2021-10-13\n",
    "I am not sure that I fully understand a part of the last session you were talking about <i>kwargs</i>. I am asking about it because you also mentioned that the notion of kwargs is important and it is not specific to Matplotlib.\n",
    "\n",
    "Consider the following logic from https://stackoverflow.com/questions/40178978/python-unpacking-kwargs-in-local-function-call"
   ]
  },
  {
   "cell_type": "code",
   "execution_count": null,
   "id": "ac79dd35-096c-4bff-9725-c4c83f63d04c",
   "metadata": {},
   "outputs": [],
   "source": [
    "# define a function that takes an unpacked dictionary (kwargs) as arguement.  \n",
    "# This allows us to send an arbitrary number of non-positional arguements to the function\n",
    "def myfun(**kwargs):\n",
    "    print(kwargs)"
   ]
  },
  {
   "cell_type": "code",
   "execution_count": null,
   "id": "07a96ab9-acc1-4f86-8fd8-3da4ab8f55b5",
   "metadata": {},
   "outputs": [],
   "source": [
    "d = {'one':1, 'two':2, 'three':[1, 2, 3], 'four':'fourth arguement'}\n",
    "d"
   ]
  },
  {
   "cell_type": "code",
   "execution_count": null,
   "id": "66d0350e-584b-4947-b01a-95de5ab528bd",
   "metadata": {},
   "outputs": [],
   "source": [
    "# Sending the dictionary itself does not work\n",
    "myfun(d)"
   ]
  },
  {
   "cell_type": "code",
   "execution_count": null,
   "id": "75efb9cb-3b7b-4025-8e52-8dd52ea0c235",
   "metadata": {},
   "outputs": [],
   "source": [
    "# Must send the unpacked (**) dictionary\n",
    "myfun(**d)"
   ]
  },
  {
   "cell_type": "code",
   "execution_count": null,
   "id": "459b533c-14a3-4739-9555-341ea82814c6",
   "metadata": {},
   "outputs": [],
   "source": [
    "# Using an anonmyous dictionary as the arguement\n",
    "myfun(**{'dog':18, 'cat':27,'final_list':[1, 2, 3, 4, 5, 6, 7, 8, 9, 10]})"
   ]
  },
  {
   "cell_type": "code",
   "execution_count": null,
   "id": "40e11a63-0cd3-4800-9891-29186478738b",
   "metadata": {},
   "outputs": [],
   "source": []
  }
 ],
 "metadata": {
  "kernelspec": {
   "display_name": "Python 3 (ipykernel)",
   "language": "python",
   "name": "python3"
  },
  "language_info": {
   "codemirror_mode": {
    "name": "ipython",
    "version": 3
   },
   "file_extension": ".py",
   "mimetype": "text/x-python",
   "name": "python",
   "nbconvert_exporter": "python",
   "pygments_lexer": "ipython3",
   "version": "3.8.8"
  }
 },
 "nbformat": 4,
 "nbformat_minor": 5
}
