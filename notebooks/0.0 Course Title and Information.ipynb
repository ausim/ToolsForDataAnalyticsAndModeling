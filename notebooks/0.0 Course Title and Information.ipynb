{
 "cells": [
  {
   "cell_type": "markdown",
   "metadata": {},
   "source": [
    "# INSY 6500/5500 - Modern Tools for Data Science\n",
    "\n",
    "## Current course offering : Fall 2022\n",
    "\n",
    "<b>Jeffrey S. Smith</b>\n",
    "<br>Joe W. Forehand Professor\n",
    "<br>Industrial & Systems Engineering Department\n",
    "<br>Auburn University\n",
    "\n",
    "<b>Jingwei Liu (TA)</b>\n",
    "<br>PhD Student"
   ]
  },
  {
   "cell_type": "markdown",
   "metadata": {},
   "source": [
    "<b>Course Description</b>\n",
    "<br>Introduction to modern data science tools with applications in manufacturing and service industries and operations. Focus on the manipulation and use of small and large datasets. Tools include Jupyter, Python, R, and MySQL along with the related packages that support data modeling, visualization, and analysis."
   ]
  },
  {
   "cell_type": "markdown",
   "metadata": {},
   "source": [
    "<b>Course Objectives</b>\n",
    "<br>By the completion of this class, students should understand the use of our \n",
    "standard toolset (Python, Jupyter, R, Matplotlib, MySQL) and have the ability to \n",
    "manipulate and visualize datasets of all sizes.  In addition, students should \n",
    "have a basic understating of data science and the available tools/resources related to this topic."
   ]
  },
  {
   "cell_type": "markdown",
   "metadata": {},
   "source": [
    "<b>Topics by Week</b>\n",
    "<br>(subect to change based on course progress)\n",
    "<ol>\n",
    "<li>Course introduction, technology toolkit\n",
    "<li>Introduction to Python, Jupyter\n",
    "<li>Python Programming Basics\n",
    "<li>Python Programming Basics\n",
    "<li>Python Programming Basics\n",
    "<li>Python – Numpy, SciPy\n",
    "<li>Python – Pandas\n",
    "<li>Exam 1 + Fall Break\n",
    "<li>Python – Matplotlib + Modeling\n",
    "<li>Python – Modeling with Scikitllearn\n",
    "<li>Modeling\n",
    "<li>R, RStudio, Data Manipulation with R DataFrames\n",
    "<li>Data Visualization and Data Manipulation\n",
    "<li>Data Manipulation and Exploratory Data Analysis (EDA)\n",
    "<li>Thanksgiving Week\n",
    "<li>Modeling + Exam 2\n",
    "</ol>"
   ]
  },
  {
   "cell_type": "code",
   "execution_count": null,
   "metadata": {},
   "outputs": [],
   "source": []
  }
 ],
 "metadata": {
  "kernelspec": {
   "display_name": "Python 3 (ipykernel)",
   "language": "python",
   "name": "python3"
  },
  "language_info": {
   "codemirror_mode": {
    "name": "ipython",
    "version": 3
   },
   "file_extension": ".py",
   "mimetype": "text/x-python",
   "name": "python",
   "nbconvert_exporter": "python",
   "pygments_lexer": "ipython3",
   "version": "3.8.5"
  }
 },
 "nbformat": 4,
 "nbformat_minor": 4
}
