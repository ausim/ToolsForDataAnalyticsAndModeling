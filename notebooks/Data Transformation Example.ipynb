{
 "cells": [
  {
   "cell_type": "markdown",
   "metadata": {},
   "source": [
    "# Data Transformation Example\n",
    "\n",
    "Datafile: \"14_Foreign_Exchange_Rates_PureNumeric.csv\" - A modified version with only numeric data.\n",
    "\n",
    "2020-10-20 - Jingwei Liu\n",
    "<br>2022-10-16 - Jeff Smith"
   ]
  },
  {
   "cell_type": "code",
   "execution_count": null,
   "metadata": {},
   "outputs": [],
   "source": [
    "#import the tools:numpy,pandas and matplotlib\n",
    "%matplotlib inline\n",
    "import numpy as np\n",
    "import pandas as pd\n",
    "import matplotlib.pyplot as plt"
   ]
  },
  {
   "cell_type": "code",
   "execution_count": null,
   "metadata": {},
   "outputs": [],
   "source": [
    "# Read the data and get the dataframe\n",
    "fname = \"../data/14_Foreign_Exchange_Rates_PureNumeric.csv\"\n",
    "df = pd.read_csv(fname)\n",
    "df"
   ]
  },
  {
   "cell_type": "code",
   "execution_count": null,
   "metadata": {},
   "outputs": [],
   "source": [
    "# some statistics\n",
    "df.describe()"
   ]
  },
  {
   "cell_type": "code",
   "execution_count": null,
   "metadata": {},
   "outputs": [],
   "source": [
    "# Before applying the normalizations, let's look at Japan's raw data\n",
    "df['JAPAN - YEN/US$'].describe()"
   ]
  },
  {
   "cell_type": "code",
   "execution_count": null,
   "metadata": {},
   "outputs": [],
   "source": [
    "# Min-Max Normaliztion\n",
    "def MinMax(column):\n",
    "    minv = column.min()\n",
    "    maxv = column.max()\n",
    "    normcolumn = column.apply(lambda x: (x-minv)/(maxv-minv))\n",
    "    return(normcolumn)\n",
    "    "
   ]
  },
  {
   "cell_type": "code",
   "execution_count": null,
   "metadata": {},
   "outputs": [],
   "source": [
    "# Using Min-Max normalization to transform Japan column\n",
    "MinMaxJP = MinMax(df['JAPAN - YEN/US$'])\n",
    "MinMaxJP.describe()"
   ]
  },
  {
   "cell_type": "code",
   "execution_count": null,
   "metadata": {},
   "outputs": [],
   "source": [
    "# Z-Score Normalization\n",
    "def ZScore(column):\n",
    "    meanv = column.mean()\n",
    "    stdv = column.std()  # sample std\n",
    "    normcolumn = column.apply(lambda x: (x-meanv)/stdv)\n",
    "    return(normcolumn)"
   ]
  },
  {
   "cell_type": "code",
   "execution_count": null,
   "metadata": {},
   "outputs": [],
   "source": [
    "# Using Z-Score normalization to transform Japan column\n",
    "ZScoreJP = ZScore(df['JAPAN - YEN/US$'])\n",
    "ZScoreJP.describe()"
   ]
  },
  {
   "cell_type": "code",
   "execution_count": null,
   "metadata": {},
   "outputs": [],
   "source": [
    "# Decimal Scaling\n",
    "def DScaling(column, d):\n",
    "    normcolumn = column.apply(lambda x: x/(10**d))\n",
    "    return(normcolumn)"
   ]
  },
  {
   "cell_type": "code",
   "execution_count": null,
   "metadata": {},
   "outputs": [],
   "source": [
    "# Using Decimal Scaling normalization to transform Japan column\n",
    "DScaleJP = DScaling(df['JAPAN - YEN/US$'],2)\n",
    "DScaleJP.describe()"
   ]
  },
  {
   "cell_type": "markdown",
   "metadata": {},
   "source": [
    "### Now we can answer the question from the slides"
   ]
  },
  {
   "cell_type": "code",
   "execution_count": null,
   "metadata": {},
   "outputs": [],
   "source": [
    "# Apply Min-Max normolization to Australia, UK and Japan columns and check the stddev\n",
    "MMAUS = MinMax(df['AUSTRALIA - AUSTRALIAN DOLLAR/US$'])\n",
    "MMUK = MinMax(df['UNITED KINGDOM - UNITED KINGDOM POUND/US$'])\n",
    "MMJP = MinMax(df['JAPAN - YEN/US$'])\n",
    "# form new dataframe\n",
    "MMdf = pd.concat([MMAUS, MMUK, MMJP], axis = 1)\n",
    "MMdf.describe()"
   ]
  },
  {
   "cell_type": "markdown",
   "metadata": {},
   "source": [
    "And we see that under the same range [0,1], Japan exchange rate is not more unstable."
   ]
  },
  {
   "cell_type": "code",
   "execution_count": null,
   "metadata": {},
   "outputs": [],
   "source": [
    "# Apply Z-score normolization to Australia, UK and Japan columns and check the stddev\n",
    "ZScoreAUS = ZScore(df['AUSTRALIA - AUSTRALIAN DOLLAR/US$'])\n",
    "ZScoreUK = ZScore(df['UNITED KINGDOM - UNITED KINGDOM POUND/US$'])\n",
    "ZScoreJP = ZScore(df['JAPAN - YEN/US$'])\n",
    "# form new dataframe\n",
    "Zdf = pd.concat([ZScoreAUS, ZScoreUK, ZScoreJP], axis = 1)\n",
    "Zdf.describe()"
   ]
  },
  {
   "cell_type": "markdown",
   "metadata": {},
   "source": [
    "Of course the intent of Z-score normailization is to scale such that the mean 0 and the std dev is 1, so it's not a great comparison!"
   ]
  },
  {
   "cell_type": "code",
   "execution_count": null,
   "metadata": {},
   "outputs": [],
   "source": [
    "# Comparing to the original data\n",
    "df[['AUSTRALIA - AUSTRALIAN DOLLAR/US$','UNITED KINGDOM - UNITED KINGDOM POUND/US$','JAPAN - YEN/US$']].describe()"
   ]
  },
  {
   "cell_type": "code",
   "execution_count": null,
   "metadata": {},
   "outputs": [],
   "source": []
  }
 ],
 "metadata": {
  "kernelspec": {
   "display_name": "Python 3 (ipykernel)",
   "language": "python",
   "name": "python3"
  },
  "language_info": {
   "codemirror_mode": {
    "name": "ipython",
    "version": 3
   },
   "file_extension": ".py",
   "mimetype": "text/x-python",
   "name": "python",
   "nbconvert_exporter": "python",
   "pygments_lexer": "ipython3",
   "version": "3.8.13"
  }
 },
 "nbformat": 4,
 "nbformat_minor": 4
}
