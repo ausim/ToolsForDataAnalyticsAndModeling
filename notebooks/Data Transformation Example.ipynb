{
 "cells": [
  {
   "cell_type": "markdown",
   "metadata": {},
   "source": [
    "# Data Transformation Example\n",
    "\n",
    "Datafile: \"14_Foreign_Exchange_Rates_PureNumeric.csv\"\n",
    "\n",
    "2020-10-20 - Jingwei Liu"
   ]
  },
  {
   "cell_type": "code",
   "execution_count": null,
   "metadata": {},
   "outputs": [],
   "source": [
    "#import the tools:numpy,pandas and matplotlib\n",
    "%matplotlib inline\n",
    "import numpy as np\n",
    "import pandas as pd\n",
    "import matplotlib.pyplot as plt"
   ]
  },
  {
   "cell_type": "code",
   "execution_count": null,
   "metadata": {},
   "outputs": [],
   "source": [
    "# Read the data and get the dataframe\n",
    "fname = \"../data/14_Foreign_Exchange_Rates_PureNumeric.csv\"\n",
    "df = pd.read_csv(fname)\n",
    "df"
   ]
  },
  {
   "cell_type": "code",
   "execution_count": null,
   "metadata": {},
   "outputs": [],
   "source": [
    "# some statistics\n",
    "df.describe()"
   ]
  },
  {
   "cell_type": "code",
   "execution_count": null,
   "metadata": {},
   "outputs": [],
   "source": [
    "# Min-Max Normaliztion\n",
    "def MinMax(column):\n",
    "    minv = column.min()\n",
    "    maxv = column.max()\n",
    "    normcolumn = column.apply(lambda x: (x-minv)/(maxv-minv))\n",
    "    return(normcolumn)\n",
    "    "
   ]
  },
  {
   "cell_type": "code",
   "execution_count": null,
   "metadata": {},
   "outputs": [],
   "source": [
    "# Using Min-Max normalization to transform Japan column\n",
    "MinMaxJP = MinMax(df['JAPAN - YEN/US$'])\n",
    "MinMaxJP.describe()"
   ]
  },
  {
   "cell_type": "code",
   "execution_count": null,
   "metadata": {},
   "outputs": [],
   "source": [
    "# Z-Score Normalization\n",
    "def ZScore(column):\n",
    "    meanv = column.mean()\n",
    "    stdv = column.std()  # sample std\n",
    "    normcolumn = column.apply(lambda x: (x-meanv)/stdv)\n",
    "    return(normcolumn)"
   ]
  },
  {
   "cell_type": "code",
   "execution_count": null,
   "metadata": {},
   "outputs": [],
   "source": [
    "# Using Z-Score normalization to transform Japan column\n",
    "ZScoreJP = ZScore(df['JAPAN - YEN/US$'])\n",
    "ZScoreJP.describe()"
   ]
  },
  {
   "cell_type": "code",
   "execution_count": null,
   "metadata": {},
   "outputs": [],
   "source": [
    "# Decimal Scaling\n",
    "def DScaling(column, d):\n",
    "    normcolumn = column.apply(lambda x: x/(10**d))\n",
    "    return(normcolumn)"
   ]
  },
  {
   "cell_type": "code",
   "execution_count": null,
   "metadata": {},
   "outputs": [],
   "source": [
    "# Using Decimal Scaling normalization to transform Japan column\n",
    "DScaleJP = DScaling(df['JAPAN - YEN/US$'],2)\n",
    "DScaleJP.describe()"
   ]
  },
  {
   "cell_type": "markdown",
   "metadata": {},
   "source": [
    "### Now we can answer the question from the slides"
   ]
  },
  {
   "cell_type": "code",
   "execution_count": null,
   "metadata": {},
   "outputs": [],
   "source": [
    "# Apply Min-Max normolization to Australia, UK and Japan columns and check the stddev\n",
    "ZScoreAUS = MinMax(df['AUSTRALIA - AUSTRALIAN DOLLAR/US$'])\n",
    "ZScoreUK = MinMax(df['UNITED KINGDOM - UNITED KINGDOM POUND/US$'])\n",
    "ZScoreJP = MinMax(df['JAPAN - YEN/US$'])\n",
    "# form new dataframe\n",
    "newdf = pd.concat([ZScoreAUS, ZScoreUK, ZScoreJP], axis = 1)\n",
    "newdf.describe()"
   ]
  },
  {
   "cell_type": "markdown",
   "metadata": {},
   "source": [
    "### We can find that under the same range [0,1], Japan exchange rate is not more unstable."
   ]
  },
  {
   "cell_type": "markdown",
   "metadata": {},
   "source": []
  }
 ],
 "metadata": {
  "kernelspec": {
   "display_name": "Python 3 (ipykernel)",
   "language": "python",
   "name": "python3"
  },
  "language_info": {
   "codemirror_mode": {
    "name": "ipython",
    "version": 3
   },
   "file_extension": ".py",
   "mimetype": "text/x-python",
   "name": "python",
   "nbconvert_exporter": "python",
   "pygments_lexer": "ipython3",
   "version": "3.8.13"
  }
 },
 "nbformat": 4,
 "nbformat_minor": 4
}
