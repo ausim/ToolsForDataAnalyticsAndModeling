{
 "cells": [
  {
   "cell_type": "markdown",
   "metadata": {},
   "source": [
    "# Data Cleaning Exampling Using the Foreign Exchange Rate Data\n",
    "\n",
    "Datafile: \"14_Foreign_Exchange_Rates _WithErrors.csv\" - Note that this is a version of the same dataset that we've used before except that we added some errors.\n",
    "\n",
    "2020-10-20 - Jingwei Liu\n",
    "<br>2022-10-17 - Jeff Smith"
   ]
  },
  {
   "cell_type": "code",
   "execution_count": null,
   "metadata": {},
   "outputs": [],
   "source": [
    "#import the tools:numpy,pandas and matplotlib\n",
    "%matplotlib inline\n",
    "import numpy as np\n",
    "import pandas as pd\n",
    "import matplotlib.pyplot as plt"
   ]
  },
  {
   "cell_type": "markdown",
   "metadata": {},
   "source": [
    "## In the beginning, understanding the data is very important\n",
    "If you know the meaning of each column, the expected data type of each column, the range of values for each column (if applicable), all those can give you a great help in cleaning the data"
   ]
  },
  {
   "cell_type": "markdown",
   "metadata": {},
   "source": [
    "## First, let's read the data as a pandas dataframe\n",
    "Generally, pandas dataframe can provide an easy way for us to check the data. After learning the pandas dataframe, you should know that the columns of a pandas dataframe are homogeneous (if type), which means all cells in a same column have the same data type."
   ]
  },
  {
   "cell_type": "code",
   "execution_count": null,
   "metadata": {},
   "outputs": [],
   "source": [
    "# Read the dataset as a dataframe\n",
    "fname = \"../data/14_Foreign_Exchange_Rates _WithErrors.csv\"\n",
    "df = pd.read_csv(fname)\n",
    "df.head()"
   ]
  },
  {
   "cell_type": "markdown",
   "metadata": {},
   "source": [
    "We see that the first column should be an index and the second column should be a date. All other columns are numbers because they are monetary exchange rates."
   ]
  },
  {
   "cell_type": "markdown",
   "metadata": {},
   "source": [
    "## Then, let's check whether all cells in the exchange rates are (as expected), numbers\n",
    "Generally, we should clean the data column by column rather than row by row. Let's take the column \"AUSTRALIA - AUSTRALIAN DOLLAR/US$\" as an example"
   ]
  },
  {
   "cell_type": "code",
   "execution_count": null,
   "metadata": {},
   "outputs": [],
   "source": [
    "# Check the data type of the column. We can just check the first element in the column.\n",
    "type(df['AUSTRALIA - AUSTRALIAN DOLLAR/US$'][1])"
   ]
  },
  {
   "cell_type": "code",
   "execution_count": null,
   "metadata": {},
   "outputs": [],
   "source": [
    "# OR you can use describe function to check the datatype\n",
    "df['AUSTRALIA - AUSTRALIAN DOLLAR/US$'].describe()"
   ]
  },
  {
   "cell_type": "markdown",
   "metadata": {},
   "source": [
    "Based on our understanding of the data, the data type of the cell should be numeric (float) rather than string (str). In addition, according to this result, we should notice that there are cells which contain some non-number-string values (ND). Now, let's first find those non-number-strings."
   ]
  },
  {
   "cell_type": "markdown",
   "metadata": {},
   "source": [
    "## So, how to find the non-number-strings \n",
    "### Assume we have two strings: '123' and 'abc'. how can we distinguish them?\n",
    "In Python, the string '123' can be converted to a number using the float() function. "
   ]
  },
  {
   "cell_type": "code",
   "execution_count": null,
   "metadata": {},
   "outputs": [],
   "source": [
    "str1 = '123'\n",
    "str2 = 'abc'"
   ]
  },
  {
   "cell_type": "code",
   "execution_count": null,
   "metadata": {},
   "outputs": [],
   "source": [
    "float(str1)"
   ]
  },
  {
   "cell_type": "code",
   "execution_count": null,
   "metadata": {},
   "outputs": [],
   "source": [
    "float(str2)"
   ]
  },
  {
   "cell_type": "markdown",
   "metadata": {},
   "source": [
    "The error is useful in interactive mode, but we need something that will indicate the problem, but not fail.  One option is Excepting Handling.  You can find a good overview of this method here: https://docs.python.org/3/tutorial/errors.html"
   ]
  },
  {
   "cell_type": "code",
   "execution_count": null,
   "metadata": {},
   "outputs": [],
   "source": [
    "# Simple exception handling\n",
    "try:\n",
    "    float(str2)\n",
    "except ValueError:\n",
    "    print('could not convert string {} to float'.format(str2))"
   ]
  },
  {
   "cell_type": "markdown",
   "metadata": {},
   "source": [
    "Note that the error (called an *exeption*) was \"caught\" and we were allowed to continue processing the statement.\n",
    "\n",
    "Using this method, we can use float() function to help us distinguish non-number-strings without triggering an error. The \"try except\" structure is very powerful in Python (see the link above for a more detailed introduction). "
   ]
  },
  {
   "cell_type": "markdown",
   "metadata": {},
   "source": [
    "## Now, let's try to locate the cells that contain non-number-strings\n",
    "Let's define a function that returns the indices of the cells contain non-number-strings:"
   ]
  },
  {
   "cell_type": "code",
   "execution_count": null,
   "metadata": {},
   "outputs": [],
   "source": [
    "# Define the function that returns indices the non-number strings\n",
    "# column : a column from a dataframe\n",
    "def CheckIfNumInCol(column):\n",
    "    # create a empty list to store the element index \n",
    "    indexlist = []\n",
    "    # from the start to the end\n",
    "    for i in range(column.count()):\n",
    "        # check whether float() function is working\n",
    "        try:\n",
    "            float(column[i])\n",
    "        except ValueError:\n",
    "            # if float() is not working, that cell contain non-number string. Then, we add the cell's index to the list\n",
    "            indexlist.append(i)        \n",
    "    return(indexlist)"
   ]
  },
  {
   "cell_type": "code",
   "execution_count": null,
   "metadata": {},
   "outputs": [],
   "source": [
    "# Use the above function and get the indices of non-number strings \n",
    "resultlist = CheckIfNumInCol(df['AUSTRALIA - AUSTRALIAN DOLLAR/US$'])\n",
    "resultlist"
   ]
  },
  {
   "cell_type": "code",
   "execution_count": null,
   "metadata": {},
   "outputs": [],
   "source": [
    "# Now filter the original dataframe using the list of indices\n",
    "df['AUSTRALIA - AUSTRALIAN DOLLAR/US$'][resultlist]"
   ]
  },
  {
   "cell_type": "markdown",
   "metadata": {},
   "source": [
    "Based on the result, we can find that there are 199 cells that contain non-number-strings"
   ]
  },
  {
   "cell_type": "markdown",
   "metadata": {},
   "source": [
    "## Before we move on, you should think about this question: Are there perticular meanings for these non-number-strings? Are they supposed to be a number-strings? These questions are important because it will affect how you deal with this non-number-strings.\n",
    "\n",
    "For this particular data, if you open the csv file and find the rows that contain 'ND', you'll find that the corresponding dates are all holidays. So, thee are two different potential situations: 1. There is no data for holidays, or 2. The data provider doesn't record exchange rate during holidays. You need to make a decision in order to \"fix\" the dataset.\n",
    "\n",
    "In addition to the ND values, the 89th row contains 'ABC'. Since we don't see any logical reason for this, we assume that it is a \"typo\" and that the value should be a number-string originally."
   ]
  },
  {
   "cell_type": "markdown",
   "metadata": {},
   "source": [
    "## After finding the non-number-strings, all the remaining values are number-strings and can easily be converted into a numeric datatype. But how can we know that the cells that contain number-strings are correct?\n",
    "\n",
    "For different data, there is no universal rule to judge \"correctness\". As indicated at the begining of this code, understanding the data will help you make the decision. For this exchange rate data, here, we will plot the rate values to check if there are seemingly abnormal values (i.e., *outliers*).\n",
    "\n",
    "Let's first convert those number-strings to float "
   ]
  },
  {
   "cell_type": "code",
   "execution_count": null,
   "metadata": {},
   "outputs": [],
   "source": [
    "# get the index list of the dataframe\n",
    "dflist = list(df.index)"
   ]
  },
  {
   "cell_type": "code",
   "execution_count": null,
   "metadata": {},
   "outputs": [],
   "source": [
    "# substract the non-number-strings indices from the above list\n",
    "leftlist = [item for item in dflist if item not in resultlist]"
   ]
  },
  {
   "cell_type": "code",
   "execution_count": null,
   "metadata": {},
   "outputs": [],
   "source": [
    "# an alternative way to find the number-string indices\n",
    "leftlist= list(set(dflist).difference(resultlist))"
   ]
  },
  {
   "cell_type": "code",
   "execution_count": null,
   "metadata": {},
   "outputs": [],
   "source": [
    "# convert the number-strings to numbers\n",
    "leftdf = df['AUSTRALIA - AUSTRALIAN DOLLAR/US$'][leftlist]\n",
    "leftdf = leftdf.apply(lambda x: float(x))\n",
    "# check the data type \n",
    "leftdf.dtype"
   ]
  },
  {
   "cell_type": "code",
   "execution_count": null,
   "metadata": {},
   "outputs": [],
   "source": [
    "# or just have a quick look\n",
    "leftdf"
   ]
  },
  {
   "cell_type": "markdown",
   "metadata": {},
   "source": [
    "### Now we can do some simple plots to check the values for outliers"
   ]
  },
  {
   "cell_type": "code",
   "execution_count": null,
   "metadata": {},
   "outputs": [],
   "source": [
    "# modify the figure size\n",
    "plt.rcParams['figure.figsize'] = (10.0, 5.0)\n",
    "# do plot\n",
    "plt.plot(leftdf,'o');\n",
    "# add x and y axis label\n",
    "plt.xlabel('Observation Index');\n",
    "plt.ylabel('Value');"
   ]
  },
  {
   "cell_type": "markdown",
   "metadata": {},
   "source": [
    "From the plot, you see that the vast majority of values are around 2, but between index 0 and 1000, there seem to be several values greater than 16. We can also use histogram plot to check this. "
   ]
  },
  {
   "cell_type": "code",
   "execution_count": null,
   "metadata": {},
   "outputs": [],
   "source": [
    "# histogram plot\n",
    "plt.hist(leftdf, bins = 50);\n",
    "# add x and y axis label\n",
    "plt.xlabel('Value');\n",
    "plt.ylabel('Frequency');"
   ]
  },
  {
   "cell_type": "code",
   "execution_count": null,
   "metadata": {},
   "outputs": [],
   "source": [
    "# find the value greater than 16\n",
    "abnormal = leftdf.apply(lambda x: x>16)\n",
    "leftdf[abnormal]"
   ]
  },
  {
   "cell_type": "markdown",
   "metadata": {},
   "source": [
    "Since we know what this data represents (exchange rates for Australian dollars vs. the US dollar), we assume that these are data errors."
   ]
  },
  {
   "cell_type": "markdown",
   "metadata": {},
   "source": [
    "## Now, we've identified all of the incorrect values (non-number-strings and abnormal numbers). What should we do next?\n",
    "\n",
    "### Two options: Replace them with other values OR just get rid of the records with wrong values\n",
    "To deal with the wrong values, generally, you can choose either of the above methods. But there are some pros and cons for these two method:\n",
    "\n",
    "For Replaceing wrong values, you need to carefully decide what values you will put into the cells. without careful consideration, the cleaned data may have a negative influence on your future analysis.\n",
    "\n",
    "For getting rid of the wrong values, sometimes you will end up with few observations without any wrong values.\n",
    "\n",
    "Here, we will show both methods."
   ]
  },
  {
   "cell_type": "markdown",
   "metadata": {},
   "source": [
    "## Replacing methods"
   ]
  },
  {
   "cell_type": "code",
   "execution_count": null,
   "metadata": {},
   "outputs": [],
   "source": [
    "# Replacing wrong values with a constant value. We will replace those wrong values with 1.6\n",
    "# let's define a functions that can help use do this\n",
    "# cell is the value in that cell\n",
    "# value is the constant value\n",
    "def ReplaceWithConstantValue(cell,value = 1.6):\n",
    "    try:\n",
    "        newcell = float(cell)\n",
    "        if newcell > 16:\n",
    "            return(value)\n",
    "        return(newcell)\n",
    "    except:\n",
    "        return(value)\n"
   ]
  },
  {
   "cell_type": "code",
   "execution_count": null,
   "metadata": {},
   "outputs": [],
   "source": [
    "# apply the function\n",
    "newcol = df['AUSTRALIA - AUSTRALIAN DOLLAR/US$'].apply(lambda x: ReplaceWithConstantValue(x))\n",
    "# check the resulting data\n",
    "newcol"
   ]
  },
  {
   "cell_type": "markdown",
   "metadata": {},
   "source": [
    "### Now we can plot the new column to check"
   ]
  },
  {
   "cell_type": "code",
   "execution_count": null,
   "metadata": {},
   "outputs": [],
   "source": [
    "# plot new column\n",
    "plt.plot(newcol)"
   ]
  },
  {
   "cell_type": "markdown",
   "metadata": {},
   "source": [
    "### We see that the values are in a reasonable range, but the values are not necessarily consistent. \n",
    "The inconsistency seems to be caused by replacing the ND values with a fixed value of 1.6.  Why does this seem inconsistent?  We have to understand the data to know that.\n",
    "\n",
    "We will provide another way to replace the wrong values with a dynamic value (imputed value)"
   ]
  },
  {
   "cell_type": "code",
   "execution_count": null,
   "metadata": {},
   "outputs": [],
   "source": [
    "# Still first define a function to help us do the replacement\n",
    "# This function will replace the wrong values with the last correct value\n",
    "# cell is the value in that cell\n",
    "# value will be used if the first cell is a wrong value\n",
    "def ReplaceWithDynamicValue(cell, value = 1.6):\n",
    "    # initialize the lastvalue if it doesn't exist yet\n",
    "    if not hasattr(ReplaceWithDynamicValue, \"lastvalue\"):\n",
    "        ReplaceWithDynamicValue.lastvalue = value\n",
    "    try:\n",
    "        newcell = float(cell)\n",
    "        if newcell > 16:\n",
    "            newcell = ReplaceWithDynamicValue.lastvalue\n",
    "    except:\n",
    "            newcell = ReplaceWithDynamicValue.lastvalue\n",
    "    \n",
    "    ReplaceWithDynamicValue.lastvalue = newcell\n",
    "    return(newcell)"
   ]
  },
  {
   "cell_type": "code",
   "execution_count": null,
   "metadata": {},
   "outputs": [],
   "source": [
    "# apply the function\n",
    "newcol = df['AUSTRALIA - AUSTRALIAN DOLLAR/US$'].apply(lambda x: ReplaceWithDynamicValue(x))\n",
    "# plot the new column\n",
    "plt.plot(newcol)"
   ]
  },
  {
   "cell_type": "markdown",
   "metadata": {},
   "source": [
    "Now, the plot looks consistent with our expectations. Note that this doesn't necessarily make it \"correct.\"\n",
    "\n",
    "Next, we will show the getting rid of wrong values method."
   ]
  },
  {
   "cell_type": "markdown",
   "metadata": {},
   "source": [
    "## Getting rid of the incorrect values\n",
    "\n",
    "Here, we'll start with the original dataset that has the non-numeric valuse (ND and ABC) and the outliers."
   ]
  },
  {
   "cell_type": "code",
   "execution_count": null,
   "metadata": {},
   "outputs": [],
   "source": [
    "# Define a function to generate a mask for us to select those correct values\n",
    "def MaskCorrectValue(cell):\n",
    "    try:\n",
    "        newcell = float(cell)\n",
    "        if newcell > 16:\n",
    "            return(False)\n",
    "        return(True)\n",
    "    except:\n",
    "        return(False)"
   ]
  },
  {
   "cell_type": "code",
   "execution_count": null,
   "metadata": {},
   "outputs": [],
   "source": [
    "mask = df['AUSTRALIA - AUSTRALIAN DOLLAR/US$'].apply(lambda x: MaskCorrectValue(x))\n",
    "mask"
   ]
  },
  {
   "cell_type": "code",
   "execution_count": null,
   "metadata": {},
   "outputs": [],
   "source": [
    "newcol2 = df['AUSTRALIA - AUSTRALIAN DOLLAR/US$'][mask]\n",
    "newcol2"
   ]
  },
  {
   "cell_type": "code",
   "execution_count": null,
   "metadata": {},
   "outputs": [],
   "source": [
    "# Now we only have \"good\" values, but they're still strings\n",
    "newcol2 = newcol2.apply(lambda x: float(x))\n",
    "newcol2.describe()"
   ]
  },
  {
   "cell_type": "code",
   "execution_count": null,
   "metadata": {},
   "outputs": [],
   "source": [
    "# The original column.\n",
    "df['AUSTRALIA - AUSTRALIAN DOLLAR/US$'].describe()"
   ]
  },
  {
   "cell_type": "markdown",
   "metadata": {},
   "source": [
    "So, we can find that we remove 207 observations (199 non-numeric values and 8 numeric values greater than 16)"
   ]
  },
  {
   "cell_type": "code",
   "execution_count": null,
   "metadata": {},
   "outputs": [],
   "source": [
    "# And looking at the new plot\n",
    "plt.plot(newcol2)"
   ]
  },
  {
   "cell_type": "code",
   "execution_count": null,
   "metadata": {},
   "outputs": [],
   "source": []
  }
 ],
 "metadata": {
  "kernelspec": {
   "display_name": "Python 3 (ipykernel)",
   "language": "python",
   "name": "python3"
  },
  "language_info": {
   "codemirror_mode": {
    "name": "ipython",
    "version": 3
   },
   "file_extension": ".py",
   "mimetype": "text/x-python",
   "name": "python",
   "nbconvert_exporter": "python",
   "pygments_lexer": "ipython3",
   "version": "3.8.13"
  }
 },
 "nbformat": 4,
 "nbformat_minor": 4
}
