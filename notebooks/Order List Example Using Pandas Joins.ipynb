{
 "cells": [
  {
   "cell_type": "markdown",
   "metadata": {},
   "source": [
    "# Order List Example Using Pandas Joins\n",
    "\n",
    "This is an extended example based on the example originally in notebook 3.1.  \n",
    "\n",
    "Here we are modeling a simple order system.  A store stocks SKUs (stock keeping units -- i.e., \"things\" that people buy).  Customers place orders and orders contain items.  In a system like this, the data are stored in separate tables that are combined for analysis and reporting."
   ]
  },
  {
   "cell_type": "code",
   "execution_count": null,
   "metadata": {},
   "outputs": [],
   "source": [
    "import numpy as np\n",
    "import pandas as pd\n",
    "np.__version__, pd.__version__"
   ]
  },
  {
   "cell_type": "markdown",
   "metadata": {},
   "source": [
    "## Manually Create the DataFrames\n",
    "See the bottom of the notebook for code that reads the DataFrames from csv files."
   ]
  },
  {
   "cell_type": "code",
   "execution_count": null,
   "metadata": {},
   "outputs": [],
   "source": [
    "# Customer list.  Note that this data would normally be stored in a data file (e.g., a csv file)\n",
    "# or database table.  For simplicty, we'll build it here instead:\n",
    "customers = pd.DataFrame({\n",
    "     'customer_id' : [  'C01',     'C02',        'C03',    'C04',        'C05',      'C06',     'C07',    'C08']\n",
    "    ,  'last_name' : [ 'Smith',  'Jones',    'Johnson',  'Black',      'Green',    'Kholm',  'Tester',  'Krock']\n",
    "    , 'first_name' : [  'Jeff',   'Kale',       'Cara',  'Linda',     'Howard',    'Genie',    'John', 'Barbra']\n",
    "    ,       'city' : ['Auburn', 'Mobile', 'Birmingham', 'Dothan', 'Greenville', 'Norcross', 'Columbus','Selina']\n",
    "    ,      'state' : [    'AL',     'AL',         'AL',     'AL',         'AL',       'GA',       'OH',    'KS']\n",
    "})\n",
    "customers"
   ]
  },
  {
   "cell_type": "code",
   "execution_count": null,
   "metadata": {},
   "outputs": [],
   "source": [
    "# SKU List - the item (SKU) information.\n",
    "skus = pd.DataFrame({\n",
    "      'sku' : [   'A100',    'A109',    'A200',    'A227',    'A300',    'A876',    'A904',   'A1021',   'A1776'],\n",
    "    'descr' : ['Widget1', 'Widget2', 'Widget3', 'Widget4', 'Widget5', 'Widget6', 'Widget7', 'Widget8', 'Widget9'],\n",
    "     'cost' : [    12.50,    423.50,      6.50,      6.34,   1850.45,      3.23,      7.50,     18.55,    127.22]})\n",
    "skus"
   ]
  },
  {
   "cell_type": "code",
   "execution_count": null,
   "metadata": {},
   "outputs": [],
   "source": [
    "# Order List\n",
    "orders = pd.DataFrame({\n",
    "           'order' : [       123,        456,        789,        823,        950,       1024,       1223,       1552]\n",
    "    ,'customer_id' : [     'C01',      'C05',      'C04',      'C01',      'C03',      'C03',      'C06',      'C02']\n",
    "    , 'order_date' : ['01/07/17', '01/09/17', '01/09/17', '01/10/17', '01/15/17', '01/16/17', '01/16/17', '01/17/17']\n",
    "})\n",
    "orders"
   ]
  },
  {
   "cell_type": "code",
   "execution_count": null,
   "metadata": {},
   "outputs": [],
   "source": [
    "# And we have a separate dataframe with the items in each order\n",
    "items = pd.DataFrame({\n",
    "        'order' : [   123,    123,    123,    456,    456,    789,    823,     950,    950,   1024, 1223, 1223, 1552],\n",
    "          'sku' : ['A109', 'A100', 'A200', 'A109', 'A227', 'A109', 'A100',  'A300', 'A904', 'A200', 'A300', 'A1021', 'A876'],\n",
    "        'price' : [765.55, 227.83,  12.50, 665.55,  10.68, 760.00, 225.55, 2650.55,  15.22,  12.25, 10.25, 17.50, 42.75]})\n",
    "items"
   ]
  },
  {
   "cell_type": "code",
   "execution_count": null,
   "metadata": {},
   "outputs": [],
   "source": [
    "# First, join (merge) the customers with the orders\n",
    "pd.merge(customers,orders)\n",
    "# Why not store all of this information in a single file?"
   ]
  },
  {
   "cell_type": "code",
   "execution_count": null,
   "metadata": {},
   "outputs": [],
   "source": [
    "# We'd like to join (merge) the data so that the item information can be \n",
    "# easily combined with the order information.\n",
    "pd.merge(pd.merge(customers,orders), items)"
   ]
  },
  {
   "cell_type": "code",
   "execution_count": null,
   "metadata": {},
   "outputs": [],
   "source": [
    "# And now add in the item/SKU information (and save the resulting dataframe)\n",
    "sales = pd.merge(pd.merge(pd.merge(customers,orders), items),skus)\n",
    "sales"
   ]
  },
  {
   "cell_type": "code",
   "execution_count": null,
   "metadata": {},
   "outputs": [],
   "source": [
    "# now that we have the data we need, let's add a calculated column\n",
    "sales['profit'] = sales['price'] - sales['cost']\n",
    "sales"
   ]
  },
  {
   "cell_type": "code",
   "execution_count": null,
   "metadata": {},
   "outputs": [],
   "source": [
    "# Grab all my stuff ...\n",
    "sales[sales.first_name == 'Jeff']"
   ]
  },
  {
   "cell_type": "code",
   "execution_count": null,
   "metadata": {},
   "outputs": [],
   "source": [
    "# Total the profit ... How does this work (i.e., can you explain steps?\n",
    "# What an awesome test question this would be ... :-)).\n",
    "sales[sales.first_name == 'Jeff'].profit.sum()"
   ]
  },
  {
   "cell_type": "code",
   "execution_count": null,
   "metadata": {},
   "outputs": [],
   "source": [
    "# All items sold with profit > 250\n",
    "sales[sales.profit > 250]"
   ]
  },
  {
   "cell_type": "code",
   "execution_count": null,
   "metadata": {},
   "outputs": [],
   "source": [
    "# What if we use a left join on the second merge/join ...\n",
    "a = pd.merge(skus, pd.merge(pd.merge(customers,orders), items), how=\"left\")\n",
    "a"
   ]
  },
  {
   "cell_type": "code",
   "execution_count": null,
   "metadata": {},
   "outputs": [],
   "source": [
    "# Now, suppose that we define a mask to identify those entries\n",
    "# with no orders ...\n",
    "pd.isna(a['order'])"
   ]
  },
  {
   "cell_type": "code",
   "execution_count": null,
   "metadata": {},
   "outputs": [],
   "source": [
    "# ... and then apply that mask to the left-join dataset ...\n",
    "a[pd.isna(a['customer_id'])][['sku', 'descr', 'cost']]\n",
    "# to produce a list of SKUs that haven't been ordered"
   ]
  },
  {
   "cell_type": "code",
   "execution_count": null,
   "metadata": {},
   "outputs": [],
   "source": [
    "# What about customers with no orders?\n",
    "b = pd.merge(customers,orders, how=\"left\")\n",
    "b[pd.isna(b['order'])]"
   ]
  },
  {
   "cell_type": "code",
   "execution_count": null,
   "metadata": {},
   "outputs": [],
   "source": [
    "# orders on 01/17/17\n",
    "sales[sales.order_date == '01/17/17']"
   ]
  },
  {
   "cell_type": "code",
   "execution_count": null,
   "metadata": {},
   "outputs": [],
   "source": [
    "# orders for SKU A227\n",
    "sales[sales.sku == 'A227']"
   ]
  },
  {
   "cell_type": "markdown",
   "metadata": {},
   "source": [
    "## Reading the Data Frames from csv Files\n"
   ]
  },
  {
   "cell_type": "code",
   "execution_count": null,
   "metadata": {},
   "outputs": [],
   "source": [
    "customers = pd.read_csv(\"../data/orders/customers.csv\")\n",
    "customers"
   ]
  },
  {
   "cell_type": "code",
   "execution_count": null,
   "metadata": {},
   "outputs": [],
   "source": [
    "orders = pd.read_csv(\"../data/orders/orders.csv\")\n",
    "orders"
   ]
  },
  {
   "cell_type": "code",
   "execution_count": null,
   "metadata": {},
   "outputs": [],
   "source": [
    "skus = pd.read_csv(\"../data/orders/skus.csv\")\n",
    "skus"
   ]
  },
  {
   "cell_type": "code",
   "execution_count": null,
   "metadata": {},
   "outputs": [],
   "source": [
    "items = pd.read_csv(\"../data/orders/items.csv\")\n",
    "items"
   ]
  },
  {
   "cell_type": "code",
   "execution_count": null,
   "metadata": {},
   "outputs": [],
   "source": [
    "# re-create the sales data frame\n",
    "sales = pd.merge(pd.merge(pd.merge(customers,orders), items),skus)\n",
    "sales['profit'] = sales['price'] - sales['cost']\n",
    "sales"
   ]
  },
  {
   "cell_type": "markdown",
   "metadata": {},
   "source": [
    "## Aggregation and Grouping\n",
    "\n",
    "Now that we have \"complete\" dataframe, we can use the aggregation and grouping functions to analyze the data.\n",
    "\n",
    "Reference the \"split, apply, combine\" approace from the VP book and the couse slide set"
   ]
  },
  {
   "cell_type": "code",
   "execution_count": null,
   "metadata": {},
   "outputs": [],
   "source": [
    "# Cost and profit by Customer\n",
    "sales.groupby('customer_id')[['cost','profit']].sum()"
   ]
  },
  {
   "cell_type": "code",
   "execution_count": null,
   "metadata": {},
   "outputs": [],
   "source": [
    "# Profit by SKU\n",
    "sales.groupby('sku')[['profit']].sum()"
   ]
  },
  {
   "cell_type": "code",
   "execution_count": null,
   "metadata": {},
   "outputs": [],
   "source": [
    "# Profit by State\n",
    "sales.groupby('state')[['profit']].sum()"
   ]
  },
  {
   "cell_type": "code",
   "execution_count": null,
   "metadata": {},
   "outputs": [],
   "source": [
    "# By customer_id and sku\n",
    "sales.groupby(['customer_id', 'sku'])[['profit']].sum()"
   ]
  },
  {
   "cell_type": "code",
   "execution_count": null,
   "metadata": {},
   "outputs": [],
   "source": [
    "# More aggregate vales by SKU\n",
    "sales.groupby('sku')[['profit']].aggregate(['sum', 'mean', 'median'])"
   ]
  },
  {
   "cell_type": "code",
   "execution_count": null,
   "metadata": {},
   "outputs": [],
   "source": []
  }
 ],
 "metadata": {
  "kernelspec": {
   "display_name": "Python 3",
   "language": "python",
   "name": "python3"
  },
  "language_info": {
   "codemirror_mode": {
    "name": "ipython",
    "version": 3
   },
   "file_extension": ".py",
   "mimetype": "text/x-python",
   "name": "python",
   "nbconvert_exporter": "python",
   "pygments_lexer": "ipython3",
   "version": "3.8.5"
  }
 },
 "nbformat": 4,
 "nbformat_minor": 4
}
