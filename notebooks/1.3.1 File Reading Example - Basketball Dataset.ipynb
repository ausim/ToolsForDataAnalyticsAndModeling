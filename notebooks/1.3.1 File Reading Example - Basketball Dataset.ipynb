{
 "cells": [
  {
   "cell_type": "markdown",
   "metadata": {},
   "source": [
    "# 1.3.1 File Reading Example - College Basketball Dataset\n",
    "Datafile: \"College Basketball Dataset.csv\"<br>\n",
    "Datafile description:\"College basketball-Description.pdf\"\n",
    "\n",
    "Updated by Jingwei Liu (2021-2-15)\n"
   ]
  },
  {
   "cell_type": "markdown",
   "metadata": {},
   "source": [
    "### Let's first define some functions to show the data we will read and help us get some basic information about the dataset.\n",
    "In this example, the dataset will be read as<font color = \"red\"> **a list of lists** </font>, so we will define a small function to show the values in the list of lists"
   ]
  },
  {
   "cell_type": "code",
   "execution_count": 23,
   "metadata": {},
   "outputs": [
    {
     "name": "stdout",
     "output_type": "stream",
     "text": [
      "one\ttwo\tthree\n",
      "four\tfive\tsix\n",
      "seven\teight\tnine\n"
     ]
    }
   ],
   "source": [
    "# Define a \"ShowData\" function \n",
    "#  dataset is a list of lists\n",
    "def ShowData(dataset = [[\"No dataset sent\"]]):\n",
    "    for r in dataset:\n",
    "        # print elements in a tab-separated format\n",
    "        print (\"\\t\".join(r))\n",
    "\n",
    "# sample calls\n",
    "ShowData([[\"one\", \"two\", \"three\"], [\"four\", \"five\", \"six\"], [\"seven\", \"eight\", \"nine\"]])"
   ]
  },
  {
   "cell_type": "markdown",
   "metadata": {},
   "source": [
    "In the above cell, we define a function named <font color = \"blue\">**ShowData**</font> and this function has only one input parameter which is called **dataset**. The **dataset** parameter has a default value which means the function can work even you don't manually assign a value to it. You can try it yourself."
   ]
  },
  {
   "cell_type": "markdown",
   "metadata": {},
   "source": [
    "### Also, it is always good to check the shape of the dataset you read \n",
    "*The function below will show the number of rows and columns in the list of lists.*\n",
    "<br>\n",
    "**Here, Row number means how many elements in the list. Column number means how many elements in each element list.**"
   ]
  },
  {
   "cell_type": "code",
   "execution_count": 24,
   "metadata": {},
   "outputs": [
    {
     "name": "stdout",
     "output_type": "stream",
     "text": [
      "There are 2 rows in the dataset\n",
      "There are 3 columns in the dataset\n"
     ]
    }
   ],
   "source": [
    "# Define a \"ShowRowsAndCols\" function which show the number of rows and columns in the dataset\n",
    "# dataset is a list of list. Row number means how many elements in the list. Column number means how many elements in each element list.\n",
    "def ShowRowsAndCols(dataset = [[\"No dataset sent\"]]): \n",
    "    print(\"There are {} rows in the dataset\".format(len(dataset)))\n",
    "    print(\"There are {} columns in the dataset\".format(len(dataset[1])))\n",
    "    \n",
    "# sample calls\n",
    "ShowRowsAndCols([[\"one\", \"two\", \"three\"], [\"four\", \"five\", \"six\"]])"
   ]
  },
  {
   "cell_type": "markdown",
   "metadata": {},
   "source": [
    "### Now, let's read the data set into a list of lists using three different program patterns."
   ]
  },
  {
   "cell_type": "markdown",
   "metadata": {},
   "source": [
    "Note that in the following examples, all elements in the list of lists are stored <font color = \"red\">**as strings**</font>, even those that look like numbers.  In Homework 2, we will convert some of these elements."
   ]
  },
  {
   "cell_type": "code",
   "execution_count": 4,
   "metadata": {},
   "outputs": [],
   "source": [
    "# Initial version - \"standard programming\"\n",
    "#\n",
    "# Define a list for the data.  Will be a list of lists.\n",
    "data1 = []\n",
    "# open the file\n",
    "fname = \"../Data/College Basketball Dataset.csv\"\n",
    "f = open(fname, \"r\")\n",
    "# you can select which part of the dataset you want to read\n",
    "# Ex. we can ignore the first 5 lines\n",
    "for i in range(6):\n",
    "    line = f.readline()\n",
    "# loop until we run out of lines\n",
    "while (line):\n",
    "    # strip the newline and tokenize (split on commas, in this case)\n",
    "    tokens = line.rstrip().split(',')\n",
    "    # append this record to the dataset\n",
    "    data1.append(tokens)\n",
    "    # read the next line\n",
    "    line = f.readline()\n",
    "# close the file\n",
    "f.close()\n"
   ]
  },
  {
   "cell_type": "code",
   "execution_count": null,
   "metadata": {},
   "outputs": [],
   "source": [
    "# show the data\n",
    "ShowData(data1)"
   ]
  },
  {
   "cell_type": "markdown",
   "metadata": {},
   "source": [
    "After running the above cell, you should see the data is read as a list of lists. We read all rows in the dataset and each row is a list and also an element of a bigger list. **So, that's why we call this a list of lists**\n",
    "\n",
    "Let's look at the first \"row\" of data (i.e., the first list in the list of lists) *(keep in mind that the subscript in python starts from 0)*:"
   ]
  },
  {
   "cell_type": "code",
   "execution_count": 3,
   "metadata": {},
   "outputs": [
    {
     "data": {
      "text/plain": [
       "['Kentucky',\n",
       " 'SEC',\n",
       " '40',\n",
       " '29',\n",
       " '117.2',\n",
       " '96.2',\n",
       " '0.9062',\n",
       " '49.9',\n",
       " '46.0',\n",
       " '18.1',\n",
       " '16.1',\n",
       " '42.0',\n",
       " '29.7',\n",
       " '51.8',\n",
       " '36.8',\n",
       " '50.0',\n",
       " '44.9',\n",
       " '33.2',\n",
       " '32.2',\n",
       " '65.9',\n",
       " '3.9',\n",
       " '2ND',\n",
       " '8.0',\n",
       " '2014']"
      ]
     },
     "execution_count": 3,
     "metadata": {},
     "output_type": "execute_result"
    }
   ],
   "source": [
    "data1[0]"
   ]
  },
  {
   "cell_type": "markdown",
   "metadata": {},
   "source": [
    "Now, Let's try to check the value and data type of the <font color = \"red\">**third**</font> element of the <font color = \"red\">**first**</font> row:"
   ]
  },
  {
   "cell_type": "code",
   "execution_count": 26,
   "metadata": {},
   "outputs": [
    {
     "data": {
      "text/plain": [
       "'39'"
      ]
     },
     "execution_count": 26,
     "metadata": {},
     "output_type": "execute_result"
    }
   ],
   "source": [
    "data1[0][2]"
   ]
  },
  {
   "cell_type": "code",
   "execution_count": 27,
   "metadata": {},
   "outputs": [
    {
     "data": {
      "text/plain": [
       "str"
      ]
     },
     "execution_count": 27,
     "metadata": {},
     "output_type": "execute_result"
    }
   ],
   "source": [
    "type(data1[0][3])"
   ]
  },
  {
   "cell_type": "markdown",
   "metadata": {},
   "source": [
    "#### A Python-esque version of the code.\n",
    "You can see in this cell, it uses fewer lines to do the same work.  For your assignment, you are free to use any of the code versions as a starting point."
   ]
  },
  {
   "cell_type": "code",
   "execution_count": null,
   "metadata": {},
   "outputs": [],
   "source": [
    "#\n",
    "# Python-esque version 1\n",
    "#\n",
    "# Grab all the lines from the file starting with line 1, strip\n",
    "# the newline and tokenize\n",
    "with open(\"../Data/College Basketball Dataset.csv\") as f:\n",
    "    data2 = [line.rstrip().split(',') for line in f.readlines()[1:]]\n",
    "# show the data\n",
    "ShowData(data2)\n"
   ]
  },
  {
   "cell_type": "markdown",
   "metadata": {},
   "source": [
    "#### Another Python-esque version of the codes\n",
    "This time we use a module to help us read the dataset and we will read all rows.  Note that this version retains the column heading rows."
   ]
  },
  {
   "cell_type": "code",
   "execution_count": null,
   "metadata": {},
   "outputs": [],
   "source": [
    "#\n",
    "# Python-esque version 2 \n",
    "#\n",
    "# use the csv module\n",
    "import csv\n",
    "data3 = []\n",
    "with open(\"../Data/College Basketball Dataset.csv\") as f:\n",
    "    reader = csv.reader(f)\n",
    "    for row in reader:\n",
    "        data3.append(row)\n",
    "# show the data\n",
    "ShowData(data3)"
   ]
  },
  {
   "cell_type": "markdown",
   "metadata": {},
   "source": [
    "### After reading the file, check row and column number in the list of lists (all three versions)\n",
    "You can find that the rows of these 3 data we read is different because we drop different amount of lines when we read our dataset. Here, for **data1**, we drop 5 lines; for **data2**, we drop 1 line,; for **data3**, we drop no lines. Make sure you understand how we achieve this."
   ]
  },
  {
   "cell_type": "code",
   "execution_count": 30,
   "metadata": {},
   "outputs": [
    {
     "name": "stdout",
     "output_type": "stream",
     "text": [
      "There are 1753 rows in the dataset\n",
      "There are 24 columns in the dataset\n",
      "There are 1757 rows in the dataset\n",
      "There are 24 columns in the dataset\n",
      "There are 1758 rows in the dataset\n",
      "There are 24 columns in the dataset\n"
     ]
    }
   ],
   "source": [
    "ShowRowsAndCols(data1)\n",
    "ShowRowsAndCols(data2)\n",
    "ShowRowsAndCols(data3)"
   ]
  },
  {
   "cell_type": "markdown",
   "metadata": {},
   "source": [
    "### We can do some simple calculation with the dataset we read\n",
    "Here, I just show you about calculating the mean value of the number of games played by a team during 2015-2020. "
   ]
  },
  {
   "cell_type": "code",
   "execution_count": 31,
   "metadata": {},
   "outputs": [
    {
     "data": {
      "text/plain": [
       "31.52305065452476"
      ]
     },
     "execution_count": 31,
     "metadata": {},
     "output_type": "execute_result"
    }
   ],
   "source": [
    "sum = 0\n",
    "# iterate from first row to last row\n",
    "for i in data2:\n",
    "    # add Australia data of every row to sum\n",
    "    sum = sum + float(i[2])\n",
    "mean = sum/len(data2)\n",
    "mean"
   ]
  },
  {
   "cell_type": "markdown",
   "metadata": {},
   "source": [
    "### Look at the column headers"
   ]
  },
  {
   "cell_type": "code",
   "execution_count": 32,
   "metadata": {},
   "outputs": [
    {
     "data": {
      "text/plain": [
       "['TEAM',\n",
       " 'CONF',\n",
       " 'G',\n",
       " 'W',\n",
       " 'ADJOE',\n",
       " 'ADJDE',\n",
       " 'BARTHAG',\n",
       " 'EFG_O',\n",
       " 'EFG_D',\n",
       " 'TOR',\n",
       " 'TORD',\n",
       " 'ORB',\n",
       " 'DRB',\n",
       " 'FTR',\n",
       " 'FTRD',\n",
       " '2P_O',\n",
       " '2P_D',\n",
       " '3P_O',\n",
       " '3P_D',\n",
       " 'ADJ_T',\n",
       " 'WAB',\n",
       " 'POSTSEASON',\n",
       " 'SEED',\n",
       " 'YEAR']"
      ]
     },
     "execution_count": 32,
     "metadata": {},
     "output_type": "execute_result"
    }
   ],
   "source": [
    "# Use the dataset that includes the headers (data3)\n",
    "data3[0]"
   ]
  }
 ],
 "metadata": {
  "kernelspec": {
   "display_name": "Python 3 (ipykernel)",
   "language": "python",
   "name": "python3"
  },
  "language_info": {
   "codemirror_mode": {
    "name": "ipython",
    "version": 3
   },
   "file_extension": ".py",
   "mimetype": "text/x-python",
   "name": "python",
   "nbconvert_exporter": "python",
   "pygments_lexer": "ipython3",
   "version": "3.8.5"
  }
 },
 "nbformat": 4,
 "nbformat_minor": 4
}
