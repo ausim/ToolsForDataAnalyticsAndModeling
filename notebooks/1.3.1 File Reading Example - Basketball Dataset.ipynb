{
 "cells": [
  {
   "cell_type": "markdown",
   "metadata": {},
   "source": [
    "# 1.3.1 File Reading Example - College Basketball Dataset\n",
    "Datafile: \"College Basketball Dataset.csv\"<br>\n",
    "Datafile description:\"College basketball-Description.pdf\"\n",
    "\n",
    "Updated by Jingwei Liu (2021-2-15)\n",
    "<br>Updated by Jeff Smith (2022-08-16)"
   ]
  },
  {
   "cell_type": "markdown",
   "metadata": {},
   "source": [
    "### Let's first define some functions to show the data we will read and help us get some basic information about the dataset.\n",
    "In this example, the dataset will be read as<font color = \"red\"> **a list of lists** </font>, so we will define a small function to show the values in the list of lists"
   ]
  },
  {
   "cell_type": "code",
   "execution_count": null,
   "metadata": {},
   "outputs": [],
   "source": [
    "# Define a \"ShowData\" function \n",
    "#  dataset is a list of lists\n",
    "def ShowData(dataset = [[\"No dataset sent\"]]):\n",
    "    for r in dataset:\n",
    "        # print elements in a tab-separated format\n",
    "        print (\"\\t\".join(r))\n",
    "\n",
    "# sample calls\n",
    "ShowData([[\"one\", \"two\", \"three\"], [\"four\", \"five\", \"six\"], [\"seven\", \"eight\", \"nine\"]])\n",
    "#\n",
    "# Note that this is a simplistic function that shows all of the data.  You would probably want\n",
    "# to add some arguments that controlled how much of the data to show (e.g., the first 10 \"rows\").\n",
    "# We'll get to that later, though."
   ]
  },
  {
   "cell_type": "markdown",
   "metadata": {},
   "source": [
    "In the above cell, we define a function named <font color = \"blue\">**ShowData**</font> and this function has only one input parameter which is called **dataset**. The **dataset** parameter has a default value which means the function can work even you don't manually assign a value to it. You can try it yourself."
   ]
  },
  {
   "cell_type": "markdown",
   "metadata": {},
   "source": [
    "### Also, it is always good to check the shape of the dataset you read \n",
    "*The function below will show the number of rows and columns in the list of lists.*\n",
    "<br>\n",
    "**Here, Row number means how many elements in the list. Column number means how many elements in each element list.**"
   ]
  },
  {
   "cell_type": "code",
   "execution_count": null,
   "metadata": {},
   "outputs": [],
   "source": [
    "# Define a \"ShowRowsAndCols\" function which show the number of rows and columns in the dataset\n",
    "# dataset is a list of list. Row number means how many elements in the list. Column number \n",
    "# means how many elements in each element list.\n",
    "def ShowShape(dataset = [[\"No dataset sent\"]]): \n",
    "    print(\"There are {} rows in the dataset\".format(len(dataset)))\n",
    "    print(\"There are {} columns in the dataset\".format(len(dataset[0])))\n",
    "    \n",
    "# sample calls\n",
    "ShowShape([[\"one\", \"two\", \"three\"], [\"four\", \"five\", \"six\"]])\n",
    "#\n",
    "# This one is also simplistic.  Later, we will see a single \"show\" function that shows the \n",
    "# structure information and, optionally, some or all of the data."
   ]
  },
  {
   "cell_type": "markdown",
   "metadata": {},
   "source": [
    "### Now, let's read the data set into a list of lists using three different program patterns."
   ]
  },
  {
   "cell_type": "markdown",
   "metadata": {},
   "source": [
    "Note that in the following examples, all elements in the list of lists are stored <font color = \"red\">**as strings**</font>, even those that look like numbers.  In Homework 2, we will convert some of these elements."
   ]
  },
  {
   "cell_type": "code",
   "execution_count": null,
   "metadata": {},
   "outputs": [],
   "source": [
    "# Initial version - \"standard programming\"\n",
    "#\n",
    "# Define a list for the data.  Will be a list of lists.\n",
    "data1 = []\n",
    "# open the file\n",
    "fname = \"../Data/College Basketball Dataset.csv\"\n",
    "f = open(fname, \"r\")\n",
    "# you can select which part of the dataset you want to read\n",
    "# Ex. we can ignore the first 5 lines.  Note that we read 6 lines\n",
    "# (0, 1, 2, ... 5) in this loop, but we use the last one read \n",
    "for i in range(6):\n",
    "    line = f.readline()\n",
    "# loop until we run out of lines.  Start the loop with the last row read.\n",
    "while (line):\n",
    "    # strip the newline and tokenize (split on commas, in this case)\n",
    "    tokens = line.rstrip().split(',')\n",
    "    # append this record to the dataset\n",
    "    data1.append(tokens)\n",
    "    # read the next line\n",
    "    line = f.readline()\n",
    "# close the file\n",
    "f.close()\n",
    "# Show the shape\n",
    "ShowShape(data1)"
   ]
  },
  {
   "cell_type": "code",
   "execution_count": null,
   "metadata": {},
   "outputs": [],
   "source": [
    "# show the data\n",
    "ShowData(data1)"
   ]
  },
  {
   "cell_type": "markdown",
   "metadata": {},
   "source": [
    "After running the above cell, you should see the data is read as a list of lists. We read all rows in the dataset and each row is a list and also an element of a bigger list. **So, that's why we call this a list of lists**\n",
    "\n",
    "Let's look at the first \"row\" of data (i.e., the first list in the list of lists) *(keep in mind that the subscript in python starts from 0)*:"
   ]
  },
  {
   "cell_type": "code",
   "execution_count": null,
   "metadata": {},
   "outputs": [],
   "source": [
    "data1[0]"
   ]
  },
  {
   "cell_type": "markdown",
   "metadata": {},
   "source": [
    "Now, Let's try to check the value and data type of the <font color = \"red\">**third**</font> element of the <font color = \"red\">**first**</font> row (remember, since Python lists are zero-based, both indices start with 0):"
   ]
  },
  {
   "cell_type": "code",
   "execution_count": null,
   "metadata": {},
   "outputs": [],
   "source": [
    "data1[0][2], type(data1[0][2])\n",
    "# Note that the output is an anonymous touple."
   ]
  },
  {
   "cell_type": "markdown",
   "metadata": {},
   "source": [
    "#### A Python-esque version of the code.\n",
    "You can see in this cell, it uses fewer lines to do the same work.  For your assignment, you are free to use any of the code versions as a starting point."
   ]
  },
  {
   "cell_type": "code",
   "execution_count": null,
   "metadata": {},
   "outputs": [],
   "source": [
    "#\n",
    "# Python-esque version 1\n",
    "#\n",
    "# Grab all the lines from the file starting with line 1, strip\n",
    "# the newline and tokenize\n",
    "with open(\"../Data/College Basketball Dataset.csv\") as f:\n",
    "    data2 = [line.rstrip().split(',') for line in f.readlines()[1:]]\n",
    "\n",
    "# Note the use of the comprehension and the list slicing here.  Both are very useful."
   ]
  },
  {
   "cell_type": "code",
   "execution_count": null,
   "metadata": {},
   "outputs": [],
   "source": [
    "# show the data\n",
    "ShowData(data2)"
   ]
  },
  {
   "cell_type": "markdown",
   "metadata": {},
   "source": [
    "#### Another Python-esque version of the codes\n",
    "This time we use a module to help us read the dataset and we will read all rows.  Note that this version retains the column heading rows."
   ]
  },
  {
   "cell_type": "code",
   "execution_count": null,
   "metadata": {},
   "outputs": [],
   "source": [
    "#\n",
    "# Python-esque version 2 \n",
    "#\n",
    "# use the csv module\n",
    "import csv\n",
    "data3 = []\n",
    "with open(\"../Data/College Basketball Dataset.csv\") as f:\n",
    "    reader = csv.reader(f)\n",
    "    for row in reader:\n",
    "        data3.append(row)\n"
   ]
  },
  {
   "cell_type": "code",
   "execution_count": null,
   "metadata": {},
   "outputs": [],
   "source": [
    "# show the data\n",
    "ShowData(data3)"
   ]
  },
  {
   "cell_type": "markdown",
   "metadata": {},
   "source": [
    "### After reading the file, check row and column number in the list of lists (all three versions)\n",
    "You can find that the rows of these 3 data we read is different because we drop different amount of lines when we read our dataset. Here, for **data1**, we drop 5 lines; for **data2**, we drop 1 line,; for **data3**, we drop no lines. Make sure you understand how we achieve this."
   ]
  },
  {
   "cell_type": "code",
   "execution_count": null,
   "metadata": {},
   "outputs": [],
   "source": [
    "ShowShape(data1)\n",
    "ShowShape(data2)\n",
    "ShowShape(data3)"
   ]
  },
  {
   "cell_type": "markdown",
   "metadata": {},
   "source": [
    "### We can do some simple calculation with the dataset we read\n",
    "Here, I just show you about calculating the mean value of the number of games played by a team during 2015-2020. "
   ]
  },
  {
   "cell_type": "code",
   "execution_count": null,
   "metadata": {},
   "outputs": [],
   "source": [
    "total = 0\n",
    "# iterate from first row to last row\n",
    "for i in data2:\n",
    "    # add Australia data of every row to sum\n",
    "    total = total + float(i[2])\n",
    "mean = total/len(data2)\n",
    "mean"
   ]
  },
  {
   "cell_type": "code",
   "execution_count": null,
   "metadata": {},
   "outputs": [],
   "source": [
    "# Or with a comprehension\n",
    "sum([float(i[2]) for i in data2])/len(data2)"
   ]
  },
  {
   "cell_type": "code",
   "execution_count": null,
   "metadata": {},
   "outputs": [],
   "source": [
    "# Or with a more user-friendly format\n",
    "print(f\"\")"
   ]
  },
  {
   "cell_type": "markdown",
   "metadata": {},
   "source": [
    "### Look at the column headers"
   ]
  },
  {
   "cell_type": "code",
   "execution_count": null,
   "metadata": {},
   "outputs": [],
   "source": [
    "# Use the dataset that includes the headers (data3)\n",
    "data3[0]"
   ]
  },
  {
   "cell_type": "code",
   "execution_count": null,
   "metadata": {},
   "outputs": [],
   "source": []
  }
 ],
 "metadata": {
  "kernelspec": {
   "display_name": "Python 3 (ipykernel)",
   "language": "python",
   "name": "python3"
  },
  "language_info": {
   "codemirror_mode": {
    "name": "ipython",
    "version": 3
   },
   "file_extension": ".py",
   "mimetype": "text/x-python",
   "name": "python",
   "nbconvert_exporter": "python",
   "pygments_lexer": "ipython3",
   "version": "3.8.5"
  }
 },
 "nbformat": 4,
 "nbformat_minor": 4
}
