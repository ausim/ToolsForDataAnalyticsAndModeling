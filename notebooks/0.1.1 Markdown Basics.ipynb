{
 "cells": [
  {
   "cell_type": "markdown",
   "id": "82a26b79",
   "metadata": {},
   "source": [
    "# 0.1.1 Markdown Basics\n",
    "\n",
    "The cells below illustrate some of the very basic uses/methods for Markdown.  There is much more including internal and external link, images, paragraph spacing, tables, etc.  \n",
    "\n",
    "References/Links:\n",
    "- https://jupyter-notebook.readthedocs.io/en/stable/examples/Notebook/Working%20With%20Markdown%20Cells.html\n",
    "- https://medium.com/analytics-vidhya/the-ultimate-markdown-guide-for-jupyter-notebook-d5e5abf728fd\n",
    "- https://www.datacamp.com/tutorial/markdown-in-jupyter-notebook\n",
    "- Lots and lots of others\n"
   ]
  },
  {
   "cell_type": "markdown",
   "id": "dd406904",
   "metadata": {},
   "source": [
    "# Headings:\n",
    "\n",
    "# Level 1 Headings\n",
    "\n",
    "## Level 2 Headings\n",
    "\n",
    "### Level 3 Headings\n",
    "\n",
    "#### Level 4 Headings"
   ]
  },
  {
   "cell_type": "markdown",
   "id": "ba0b4266",
   "metadata": {},
   "source": [
    "# Text Formatting\n",
    "\n",
    "*Italics* (use \\*)\n",
    "\n",
    "**Bold** (use \\**)\n",
    "\n",
    "***Bold Italics*** (use \\***)\n",
    "\n",
    "~~strikethrough~~ (use \\~~)"
   ]
  },
  {
   "cell_type": "markdown",
   "id": "059d34b7",
   "metadata": {},
   "source": [
    "# Lists\n",
    "\n",
    "## Ordered\n",
    "\n",
    "1. One\n",
    "2. Two\n",
    "3. Three\n",
    "\n",
    "\n",
    "## Unordered\n",
    "\n",
    "- One\n",
    "- Two\n",
    "- three"
   ]
  },
  {
   "cell_type": "markdown",
   "id": "bcac1a14",
   "metadata": {},
   "source": [
    "## New Lines\n",
    "\n",
    "To insert a new line (without the standard html-based space), use \\<br><br>to make the split.\n",
    "\n",
    "\\<hr> will add a horizontal line -- see below\n",
    "<hr>"
   ]
  },
  {
   "cell_type": "markdown",
   "id": "6e653253",
   "metadata": {},
   "source": [
    "## LaTeX\n",
    "\n",
    "For you LaTeX users, markdown supports LaTeX natively.  \n",
    "\n",
    "$\\text{Max}_{j} \\quad \\left| \\sum_{i} s_{i}x_{ij} - \\frac{\\sum_{i} s_{i}}{n}\\right|$\n",
    "\n"
   ]
  },
  {
   "cell_type": "code",
   "execution_count": null,
   "id": "d7eeb4f2",
   "metadata": {},
   "outputs": [],
   "source": []
  }
 ],
 "metadata": {
  "kernelspec": {
   "display_name": "Python 3 (ipykernel)",
   "language": "python",
   "name": "python3"
  },
  "language_info": {
   "codemirror_mode": {
    "name": "ipython",
    "version": 3
   },
   "file_extension": ".py",
   "mimetype": "text/x-python",
   "name": "python",
   "nbconvert_exporter": "python",
   "pygments_lexer": "ipython3",
   "version": "3.8.5"
  }
 },
 "nbformat": 4,
 "nbformat_minor": 5
}
