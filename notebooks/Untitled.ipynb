{
 "cells": [
  {
   "cell_type": "markdown",
   "id": "b6b032ae-d0c5-41f0-af24-48c28ce7ab27",
   "metadata": {},
   "source": [
    "# Simple Notebook"
   ]
  },
  {
   "cell_type": "code",
   "execution_count": 2,
   "id": "2d1af5df-e0ac-43d1-91a9-80fcba1783eb",
   "metadata": {},
   "outputs": [
    {
     "name": "stdout",
     "output_type": "stream",
     "text": [
      "1 Hello, World!\n",
      "2 Hello, World!\n",
      "3 Hello, World!\n",
      "4 Hello, World!\n",
      "5 Hello, World!\n"
     ]
    }
   ],
   "source": [
    "for i in range(5):\n",
    "    j = i + 1\n",
    "    print(f\"{j} Hello, World!\")"
   ]
  },
  {
   "cell_type": "code",
   "execution_count": 3,
   "id": "5bfd8fe3-83eb-4c49-b2ab-c63a75e3dbb9",
   "metadata": {},
   "outputs": [],
   "source": [
    "import os"
   ]
  },
  {
   "cell_type": "code",
   "execution_count": 4,
   "id": "a21ce12c-96a4-4fd7-93af-685994a53de0",
   "metadata": {},
   "outputs": [
    {
     "name": "stdout",
     "output_type": "stream",
     "text": [
      "C:\\GitHub\\ToolsForDataAnalyticsAndModeling\\notebooks\n"
     ]
    }
   ],
   "source": [
    "print(os.getcwd())"
   ]
  },
  {
   "cell_type": "code",
   "execution_count": null,
   "id": "ed18e952-56a2-4b28-8fe0-b6259bffdb5c",
   "metadata": {},
   "outputs": [],
   "source": []
  }
 ],
 "metadata": {
  "kernelspec": {
   "display_name": "Python 3 (ipykernel)",
   "language": "python",
   "name": "python3"
  },
  "language_info": {
   "codemirror_mode": {
    "name": "ipython",
    "version": 3
   },
   "file_extension": ".py",
   "mimetype": "text/x-python",
   "name": "python",
   "nbconvert_exporter": "python",
   "pygments_lexer": "ipython3",
   "version": "3.8.5"
  }
 },
 "nbformat": 4,
 "nbformat_minor": 5
}
