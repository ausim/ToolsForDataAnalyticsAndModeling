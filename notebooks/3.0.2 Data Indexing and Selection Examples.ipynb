{
 "cells": [
  {
   "cell_type": "markdown",
   "metadata": {},
   "source": [
    "# Data Indexing and Selection Examples\n",
    "\n",
    "2020-09-28 - Jeff Smith"
   ]
  },
  {
   "cell_type": "code",
   "execution_count": null,
   "metadata": {},
   "outputs": [],
   "source": [
    "# Getting things ready\n",
    "import numpy as np\n",
    "import pandas as pd\n",
    "from datetime import datetime\n",
    "\n",
    "def show(data, show_data = 0):\n",
    "    print (\"   Type: {:}\".format(type(data)))\n",
    "    print (\"  Index: {:}\".format(data.index))\n",
    "    print (\"  Shape: {:}\".format(data.shape))\n",
    "    print (\"Columns: {:}\".format(data.columns))\n",
    "    for col in data.columns:\n",
    "        print (\"    {:} ({:})\".format(col,data[col].dtype))\n",
    "    if show_data == 1:\n",
    "        print(data.head())\n",
    "    elif show_data == 2:\n",
    "        print(data.values)\n",
    "        \n",
    "print(\"Pandas version: {:}\".format(pd.__version__))\n",
    "\n",
    "filepath = \"../data/\""
   ]
  },
  {
   "cell_type": "markdown",
   "metadata": {},
   "source": [
    "## US Economic Data dataset\n",
    "## Default read_csv()"
   ]
  },
  {
   "cell_type": "code",
   "execution_count": null,
   "metadata": {},
   "outputs": [],
   "source": [
    "# Start with the US Economic Data dataset.\n",
    "df1 = pd.read_csv(filepath + '10_us_economic_data.csv')\n",
    "show(df1,1)"
   ]
  },
  {
   "cell_type": "code",
   "execution_count": null,
   "metadata": {},
   "outputs": [],
   "source": [
    "# Or, using the built-in display function\n",
    "df1.head(7)"
   ]
  },
  {
   "cell_type": "code",
   "execution_count": null,
   "metadata": {},
   "outputs": [],
   "source": [
    "# Extracting a single column (as a Series)\n",
    "# Month - Either syntax works since the column name is alpha and is not a keyword.\n",
    "df1.Month\n",
    "#df1[\"Month\"]"
   ]
  },
  {
   "cell_type": "code",
   "execution_count": null,
   "metadata": {},
   "outputs": [],
   "source": [
    "# Extracting multiple Columns\n",
    "df1[['Month', 'UnemploymentRate']]\n",
    "# note the double brackets"
   ]
  },
  {
   "cell_type": "code",
   "execution_count": null,
   "metadata": {},
   "outputs": [],
   "source": [
    "# What about the first 12 entries (the first year of data)?\n",
    "df1.loc[0:11]\n",
    "# why does the row for index 11 show up?  For normal Python slices, it would not (why not?)\n",
    "# Try iloc rather than loc."
   ]
  },
  {
   "cell_type": "code",
   "execution_count": null,
   "metadata": {},
   "outputs": [],
   "source": [
    "# What month had the highest unemployment rate?\n",
    "rate = df1.UnemploymentRate.max()\n",
    "df1.loc[df1.UnemploymentRate == rate]"
   ]
  },
  {
   "cell_type": "code",
   "execution_count": null,
   "metadata": {},
   "outputs": [],
   "source": [
    "df1.UnemploymentRate == rate"
   ]
  },
  {
   "cell_type": "code",
   "execution_count": null,
   "metadata": {},
   "outputs": [],
   "source": [
    "# or all at once\n",
    "df1.loc[df1.UnemploymentRate == df1.UnemploymentRate.max()]"
   ]
  },
  {
   "cell_type": "code",
   "execution_count": null,
   "metadata": {},
   "outputs": [],
   "source": [
    "# Can also apply the max function to the DataFrame\n",
    "df1.max()\n",
    "# Also try min(), sum(), std() and others ..\n",
    "# https://pandas.pydata.org/pandas-docs/stable/reference/frame.html"
   ]
  },
  {
   "cell_type": "code",
   "execution_count": null,
   "metadata": {},
   "outputs": [],
   "source": [
    "# What months had the unemployment rate greater than or equal to 9.5\n",
    "df1[df1.UnemploymentRate >= 9.5]\n",
    "# Here the index expression is a mask -- see the next cell"
   ]
  },
  {
   "cell_type": "code",
   "execution_count": null,
   "metadata": {},
   "outputs": [],
   "source": [
    "# the mask\n",
    "df1.UnemploymentRate >= 9.5"
   ]
  },
  {
   "cell_type": "code",
   "execution_count": null,
   "metadata": {},
   "outputs": [],
   "source": [
    "# What about the Unemployment Rate and Jobs Added numbers for \n",
    "# the year 2010?\n",
    "df1[['Month', 'UnemploymentRate','JobsAdded']].loc[24:35]"
   ]
  },
  {
   "cell_type": "code",
   "execution_count": null,
   "metadata": {},
   "outputs": [],
   "source": [
    "# or\n",
    "df1.iloc[24:36, :3]"
   ]
  },
  {
   "cell_type": "code",
   "execution_count": null,
   "metadata": {},
   "outputs": [],
   "source": [
    "# or\n",
    "df1.loc[24:35,['Month', 'UnemploymentRate','JobsAdded']]"
   ]
  },
  {
   "cell_type": "code",
   "execution_count": null,
   "metadata": {},
   "outputs": [],
   "source": [
    "# What aobut the JobsAdded for the 12 month period after the month \n",
    "# with the maximum unemployment rate\n",
    "# From the previous query, I know that max unemployment occured at loc 21\n",
    "df1[['Month', 'JobsAdded', 'UnemploymentRate']].loc[22:33]"
   ]
  },
  {
   "cell_type": "code",
   "execution_count": null,
   "metadata": {},
   "outputs": [],
   "source": [
    "# or -- by using the argmax (\"argument for entry with maximum value\") function:\n",
    "df1[['Month', 'JobsAdded', 'UnemploymentRate']].loc[df1.UnemploymentRate.argmax()+1:df1.UnemploymentRate.argmax()+12]"
   ]
  },
  {
   "cell_type": "markdown",
   "metadata": {},
   "source": [
    "## Enhanced call to read_csv()\n",
    "\n",
    "In the default version of the DataFrame, the date was read as string objects.  This makes date arithmetic clunky.  Let's try reading them in as datetime objects and setting the month to be the DataFrame index."
   ]
  },
  {
   "cell_type": "code",
   "execution_count": null,
   "metadata": {},
   "outputs": [],
   "source": [
    "# Here, if I want to use the Month as the index AND specify that Pandas\n",
    "# parse the dates for the index:\n",
    "df2 = pd.read_csv(filepath + '10_us_economic_data.csv', parse_dates = ['Month'], index_col=0)\n",
    "show(df2,1)"
   ]
  },
  {
   "cell_type": "code",
   "execution_count": null,
   "metadata": {},
   "outputs": [],
   "source": [
    "# Note that we can alway using the native Python (implicit) referencing.\n",
    "df2.iloc[0:12]"
   ]
  },
  {
   "cell_type": "code",
   "execution_count": null,
   "metadata": {},
   "outputs": [],
   "source": [
    "# But now we can use dates.  Note also that we're using a string rather\n",
    "# that a datetime object\n",
    "df2.loc['2008-02-01']"
   ]
  },
  {
   "cell_type": "code",
   "execution_count": null,
   "metadata": {},
   "outputs": [],
   "source": [
    "# what about a different date format?\n",
    "df2.loc['02/01/08']"
   ]
  },
  {
   "cell_type": "code",
   "execution_count": null,
   "metadata": {},
   "outputs": [],
   "source": [
    "# Now we can do a direct date range.\n",
    "df2.loc['2012-01-01':'2012-12-01']"
   ]
  },
  {
   "cell_type": "code",
   "execution_count": null,
   "metadata": {},
   "outputs": [],
   "source": [
    "df2.JobsAdded.loc['2012-01-01':'2012-12-01']"
   ]
  },
  {
   "cell_type": "markdown",
   "metadata": {},
   "source": [
    "## Dealing with Missing Values - None and NaN Values"
   ]
  },
  {
   "cell_type": "code",
   "execution_count": null,
   "metadata": {},
   "outputs": [],
   "source": [
    "# what about null values?\n",
    "df2.isnull().head(10)\n",
    "# GDP is reported quarterly rather than monthly\n",
    "# Note that the .head(10) is because I only want to see the first 10 rows."
   ]
  },
  {
   "cell_type": "code",
   "execution_count": null,
   "metadata": {},
   "outputs": [],
   "source": [
    "# NumPy functions do not handle NA and NaN value \"well.\"\n",
    "x = np.array(df2.GDP)\n",
    "np.mean(x)\n",
    "# Why the quotes on \"well\"?  It's not technically incorrect,\n",
    "# but it's generally not what we want (unless we do)."
   ]
  },
  {
   "cell_type": "code",
   "execution_count": null,
   "metadata": {},
   "outputs": [],
   "source": [
    "# Remove the NA values.  Note that the entire\n",
    "# records (rows) are removed, not just the specific values.\n",
    "df2.dropna()"
   ]
  },
  {
   "cell_type": "code",
   "execution_count": null,
   "metadata": {},
   "outputs": [],
   "source": [
    "# Now we can use NumPy on the \"good\" values\n",
    "x = np.array(df2.dropna()['GDP'])\n",
    "np.mean(x)\n",
    "# Why the quotes on \"good\"?"
   ]
  },
  {
   "cell_type": "code",
   "execution_count": null,
   "metadata": {},
   "outputs": [],
   "source": [
    "# Or we can just use Pandas on the Series with the NA and NaN values\n",
    "df2.GDP.mean()"
   ]
  },
  {
   "cell_type": "code",
   "execution_count": null,
   "metadata": {},
   "outputs": [],
   "source": [
    "# And we can use the Pandas functions across the DataFrame\n",
    "df2.mean()"
   ]
  },
  {
   "cell_type": "code",
   "execution_count": null,
   "metadata": {},
   "outputs": [],
   "source": [
    "# What about non-numeric columns?  Recall that df1 has a Date (object) column.\n",
    "df1.mean()"
   ]
  },
  {
   "cell_type": "code",
   "execution_count": null,
   "metadata": {},
   "outputs": [],
   "source": [
    "# We can tell Pandas to apply the function to non-numeric columns (not\n",
    "# sure why we'd want to do this, but we can).\n",
    "df1.mean(numeric_only=False)\n",
    "# See https://pandas.pydata.org/pandas-docs/stable/reference/api/pandas.DataFrame.mean.html for details."
   ]
  },
  {
   "cell_type": "markdown",
   "metadata": {},
   "source": [
    "## Example Use-case With Pandas and Concatenation\n",
    "See the slide set for details of the problem."
   ]
  },
  {
   "cell_type": "code",
   "execution_count": null,
   "metadata": {},
   "outputs": [],
   "source": [
    "# start with df2\n",
    "df2 = pd.read_csv(filepath + '10_us_economic_data.csv', parse_dates = ['Month'], index_col=0)\n",
    "df2.head(6)"
   ]
  },
  {
   "cell_type": "code",
   "execution_count": null,
   "metadata": {},
   "outputs": [],
   "source": [
    "# Extract the gdp data and drop the nan values\n",
    "g = df2.GDP.dropna()\n",
    "g.head(6)"
   ]
  },
  {
   "cell_type": "code",
   "execution_count": null,
   "metadata": {},
   "outputs": [],
   "source": [
    "# Create a series using the 2008 data (first 4 rows)\n",
    "y1 = pd.Series(data = g.iloc[0:4].values, index=['Q1', 'Q2', 'Q3', 'Q4'], name=\"2008\")\n",
    "y1"
   ]
  },
  {
   "cell_type": "code",
   "execution_count": null,
   "metadata": {},
   "outputs": [],
   "source": [
    "# Replicate for year 2\n",
    "y2 = pd.Series(data = g.iloc[4:8].values, index=['Q1', 'Q2', 'Q3', 'Q4'], name=\"2009\")\n",
    "y2"
   ]
  },
  {
   "cell_type": "code",
   "execution_count": null,
   "metadata": {},
   "outputs": [],
   "source": [
    "# Concatenate them together\n",
    "gdp = pd.concat([y1, y2], axis=1)\n",
    "show(gdp,1)"
   ]
  },
  {
   "cell_type": "code",
   "execution_count": null,
   "metadata": {},
   "outputs": [],
   "source": [
    "gdp.head()"
   ]
  },
  {
   "cell_type": "code",
   "execution_count": null,
   "metadata": {},
   "outputs": [],
   "source": [
    "# Now just replicate for years 3, 4,and 5 .... or create a small loop that automates the process."
   ]
  }
 ],
 "metadata": {
  "kernelspec": {
   "display_name": "Python 3 (ipykernel)",
   "language": "python",
   "name": "python3"
  },
  "language_info": {
   "codemirror_mode": {
    "name": "ipython",
    "version": 3
   },
   "file_extension": ".py",
   "mimetype": "text/x-python",
   "name": "python",
   "nbconvert_exporter": "python",
   "pygments_lexer": "ipython3",
   "version": "3.8.13"
  }
 },
 "nbformat": 4,
 "nbformat_minor": 4
}
