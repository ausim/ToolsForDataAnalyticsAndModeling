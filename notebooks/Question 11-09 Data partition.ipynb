{
 "cells": [
  {
   "cell_type": "markdown",
   "id": "3e29d821",
   "metadata": {},
   "source": [
    "## 2021-11-09\n",
    "\n",
    "Can you go over where in the Homework/how you partitioned the data? I understand why you partition but not how in python. "
   ]
  },
  {
   "cell_type": "code",
   "execution_count": null,
   "id": "b9c5ab61-a788-42a8-87f3-6e71b96b696a",
   "metadata": {},
   "outputs": [],
   "source": [
    "# import tools\n",
    "import pandas as pd\n",
    "from IPython.display import display"
   ]
  },
  {
   "cell_type": "code",
   "execution_count": null,
   "id": "18dc9617-1e5a-47d7-aa34-c4473c443fdf",
   "metadata": {},
   "outputs": [],
   "source": [
    "# use BankChurnersTrainSet.csv as an example\n",
    "df = pd.read_csv(\"../Data/BankChurnersTrainSet.csv\")\n",
    "df.head()"
   ]
  },
  {
   "cell_type": "code",
   "execution_count": null,
   "id": "6e1fcbbe",
   "metadata": {},
   "outputs": [],
   "source": [
    "# get some simple information about dataframe\n",
    "df.info()"
   ]
  },
  {
   "cell_type": "code",
   "execution_count": null,
   "id": "4a18faee-7242-442f-9cef-d95c46a9cf41",
   "metadata": {
    "scrolled": true
   },
   "outputs": [],
   "source": [
    "# use masks to first seperate the dataframe into sub-dataframes based on the classes\n",
    "df_target=df[df['Attrition_Flag']!='Existing Customer']\n",
    "df_left=df[df['Attrition_Flag']=='Existing Customer']\n",
    "display(df_target.head())\n",
    "display(df_target.describe())\n",
    "display(df_left.head())\n",
    "display(df_left.describe())"
   ]
  },
  {
   "cell_type": "code",
   "execution_count": null,
   "id": "c43de4a3-6655-42d0-9680-bd2a09d60ca7",
   "metadata": {},
   "outputs": [],
   "source": [
    "# We pick several rows from class \"Existing Customer\" and several rows from class \"Attrited Customer\". \n",
    "# The goal is to have sufficient number of rows for us to train our model. Here I will choose half the data for training\n",
    "target_train = df_target.sample(408, random_state = 10)\n",
    "left_train = df_left.sample(2792, random_state = 10)"
   ]
  },
  {
   "cell_type": "code",
   "execution_count": null,
   "id": "3e0f063d-29a5-456d-b1a9-262b3874b82c",
   "metadata": {},
   "outputs": [],
   "source": [
    "# create masks to indicate which rows are selected to build the training set\n",
    "cond1=df_target['CLIENTNUM'].isin(target_train['CLIENTNUM'])\n",
    "cond2=df_left['CLIENTNUM'].isin(left_train['CLIENTNUM'])\n",
    "cond2"
   ]
  },
  {
   "cell_type": "code",
   "execution_count": null,
   "id": "9788d7ba-b1df-4b2f-97d7-e7beec787a1a",
   "metadata": {},
   "outputs": [],
   "source": [
    "# drop the rows in training set\n",
    "target_test=df_target.drop(df_target[cond1].index)\n",
    "left_test = df_left.drop(df_left[cond2].index)"
   ]
  },
  {
   "cell_type": "code",
   "execution_count": null,
   "id": "51d364d1-71d7-4ea9-a97a-c8f674c7b255",
   "metadata": {},
   "outputs": [],
   "source": [
    "# form the training set and re-order the rows\n",
    "df_train_raw = pd.concat([target_train,left_train])\n",
    "df_train = df_train_raw.sample(frac=1,random_state=10)\n",
    "df_train.describe()"
   ]
  },
  {
   "cell_type": "code",
   "execution_count": null,
   "id": "e6d3ccb6-9add-48fc-9d01-abaf5e7a9981",
   "metadata": {},
   "outputs": [],
   "source": [
    "# form the test set and re-order the rows\n",
    "df_test = pd.concat([target_test,left_test]).sample(frac=1,random_state=10)\n",
    "df_test.describe()"
   ]
  },
  {
   "cell_type": "code",
   "execution_count": null,
   "id": "bfc0222a-b05a-4604-b87d-fac01f3a96d3",
   "metadata": {},
   "outputs": [],
   "source": [
    "# create csv files for trainin and test sets\n",
    "df_train.to_csv('BankChurnersTrainSet.csv', index=False)\n",
    "df_test.to_csv('BankChurnersTestSet.csv', index=False)"
   ]
  }
 ],
 "metadata": {
  "kernelspec": {
   "display_name": "Python 3",
   "language": "python",
   "name": "python3"
  },
  "language_info": {
   "codemirror_mode": {
    "name": "ipython",
    "version": 3
   },
   "file_extension": ".py",
   "mimetype": "text/x-python",
   "name": "python",
   "nbconvert_exporter": "python",
   "pygments_lexer": "ipython3",
   "version": "3.8.10"
  }
 },
 "nbformat": 4,
 "nbformat_minor": 5
}
