{
 "cells": [
  {
   "cell_type": "markdown",
   "id": "5734ef46",
   "metadata": {},
   "source": [
    "## 2021-10-25\n",
    "![Question descriptions](https://i.imgur.com/p7SwOrr.png)"
   ]
  },
  {
   "cell_type": "code",
   "execution_count": null,
   "id": "714296f8",
   "metadata": {},
   "outputs": [],
   "source": [
    "%matplotlib inline\n",
    "import numpy as np\n",
    "import pandas as pd\n",
    "import matplotlib.pyplot as plt"
   ]
  },
  {
   "cell_type": "code",
   "execution_count": null,
   "id": "ae1a2204",
   "metadata": {},
   "outputs": [],
   "source": [
    "# the file path - Make sure that you understand this ../ notation!\n",
    "fname = \"../Data/College Basketball Dataset.csv\"\n",
    "# read the data into a pandas dataframe and show the fist five lines\n",
    "df = pd.read_csv(fname)\n",
    "df.head()"
   ]
  },
  {
   "cell_type": "code",
   "execution_count": null,
   "id": "a0deaed6",
   "metadata": {},
   "outputs": [],
   "source": [
    "# check unique values\n",
    "df['CONF'].unique()"
   ]
  },
  {
   "cell_type": "code",
   "execution_count": null,
   "id": "60654fa9",
   "metadata": {},
   "outputs": [],
   "source": [
    "# label encoding\n",
    "from sklearn import preprocessing\n",
    "le = preprocessing.LabelEncoder()\n",
    "le.fit(df['CONF'])\n",
    "df['EnCONF']=le.transform(df['CONF'])\n",
    "df.head()"
   ]
  },
  {
   "cell_type": "code",
   "execution_count": null,
   "id": "e256910b",
   "metadata": {},
   "outputs": [],
   "source": []
  }
 ],
 "metadata": {
  "kernelspec": {
   "display_name": "Python 3",
   "language": "python",
   "name": "python3"
  },
  "language_info": {
   "codemirror_mode": {
    "name": "ipython",
    "version": 3
   },
   "file_extension": ".py",
   "mimetype": "text/x-python",
   "name": "python",
   "nbconvert_exporter": "python",
   "pygments_lexer": "ipython3",
   "version": "3.8.10"
  }
 },
 "nbformat": 4,
 "nbformat_minor": 5
}
