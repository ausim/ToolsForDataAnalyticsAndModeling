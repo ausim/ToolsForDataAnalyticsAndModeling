{
 "cells": [
  {
   "cell_type": "markdown",
   "metadata": {},
   "source": [
    "# SKU List Data Structure Example\n",
    "\n",
    "Consider the following list of SKUs (Stock Keeping Units) that are stored in a stockroom.  The information about each inlcudes the SKU (the identifier), the unit cost, the location (in the stockroom), and the quantity on-hand.\n",
    "\n",
    "| SKU   | Cost  | Location | Qty |\n",
    "| ----- | ----- | -------- | --- |\n",
    "| A1004 | 3.45  | A104     | 12  |\n",
    "| A1012 | 19.68 | A105     | 92  |\n",
    "| B1638 | 33.14 | A106     | 2   |\n",
    "| B1849 | 0.78  | A107     | 18  |\n",
    "| C1098 | 1.29  | C204     | 1   |\n",
    "| A2488 | 14.50 | C199     | 123 |\n",
    "| C1120 | 8.42  | B221     | 331 |\n",
    "| B2230 | 18.65 | B222     | 65  |\n",
    "\n",
    "Below, we illustrate the use three different data structures to store the data and illustrate some basic querying of the data.  Note how the format of the object creation statements improves the \"understandability\" of the data structures.\n",
    "\n",
    "See https://jsmith.co/educational-modules/analytics-course-modules/python-related-videos/ for a video module based on this example."
   ]
  },
  {
   "cell_type": "code",
   "execution_count": null,
   "metadata": {},
   "outputs": [],
   "source": [
    "# Example 1\n",
    "# A list of lists\n",
    "inv0 = [\n",
    "     ['A1004',  3.45, 'A104',  12]\n",
    "    ,['A1012', 19.68, 'A105',  92]\n",
    "    ,['B1638', 33.14, 'A106',   2]\n",
    "    ,['B1849',  0.78, 'A107',  18]\n",
    "    ,['C1098',  1.29, 'C204',   1]\n",
    "    ,['A2488', 14.50, 'C199', 123]\n",
    "    ,['C1120',  8.42, 'B221', 331]\n",
    "    ,['B2230', 18.65, 'B222',  65]\n",
    "]"
   ]
  },
  {
   "cell_type": "code",
   "execution_count": null,
   "metadata": {},
   "outputs": [],
   "source": [
    "# Show all items in the dataset\n",
    "for r in inv0:\n",
    "    print(r)"
   ]
  },
  {
   "cell_type": "code",
   "execution_count": null,
   "metadata": {},
   "outputs": [],
   "source": [
    "# List of all SKUs in the dataset\n",
    "[r[0] for r in inv0]"
   ]
  },
  {
   "cell_type": "code",
   "execution_count": null,
   "metadata": {},
   "outputs": [],
   "source": [
    "# Total inventory value\n",
    "sum([r[1]*r[3] for r in inv0])"
   ]
  },
  {
   "cell_type": "code",
   "execution_count": null,
   "metadata": {},
   "outputs": [],
   "source": [
    "# On-hand inventory for SKU B1638\n",
    "inv0[[r[0] for r in inv0].index('B1638')][3]"
   ]
  },
  {
   "cell_type": "code",
   "execution_count": null,
   "metadata": {},
   "outputs": [],
   "source": [
    "# Example 2\n",
    "# A list of dictionaries\n",
    "inv1 = [\n",
    "     {'sku': 'A1004', 'cost':  3.45, 'location': 'A104', 'qty':  12}\n",
    "    ,{'sku': 'A1012', 'cost': 19.68, 'location': 'A105', 'qty':  92}\n",
    "    ,{'sku': 'B1638', 'cost': 33.14, 'location': 'A106', 'qty':   2}\n",
    "    ,{'sku': 'B1849', 'cost':  0.78, 'location': 'A107', 'qty':  18}\n",
    "    ,{'sku': 'C1098', 'cost':  1.29, 'location': 'C204', 'qty':   1}\n",
    "    ,{'sku': 'A2488', 'cost': 14.50, 'location': 'C199', 'qty': 123}\n",
    "    ,{'sku': 'C1120', 'cost':  8.42, 'location': 'B221', 'qty': 331}\n",
    "    ,{'sku': 'B2230', 'cost': 18.65, 'location': 'B222', 'qty':  65}\n",
    "]"
   ]
  },
  {
   "cell_type": "code",
   "execution_count": null,
   "metadata": {},
   "outputs": [],
   "source": [
    "# Show all items in the dataset\n",
    "for r in inv1:\n",
    "    print (r)"
   ]
  },
  {
   "cell_type": "code",
   "execution_count": null,
   "metadata": {},
   "outputs": [],
   "source": [
    "# List of all SKUs in the dataset\n",
    "[r['sku'] for r in inv1]"
   ]
  },
  {
   "cell_type": "code",
   "execution_count": null,
   "metadata": {},
   "outputs": [],
   "source": [
    "# Total inventory value\n",
    "sum([r['cost']*r['qty'] for r in inv1])"
   ]
  },
  {
   "cell_type": "code",
   "execution_count": null,
   "metadata": {},
   "outputs": [],
   "source": [
    "# On-hand inventory for SKU B1638\n",
    "sku = 'B1638'\n",
    "inv1[[s['sku'] for s in inv1].index(sku)]['qty']"
   ]
  },
  {
   "cell_type": "code",
   "execution_count": null,
   "metadata": {},
   "outputs": [],
   "source": [
    "# Example 3\n",
    "# A dictionary of lists\n",
    "inv2 = {\n",
    "     'A1004': [ 3.45, 'A104',  12]\n",
    "    ,'A1012': [19.68, 'A105',  92]\n",
    "    ,'B1638': [33.14, 'A106',   2]\n",
    "    ,'B1849': [ 0.78, 'A107',  18]\n",
    "    ,'C1098': [ 1.29, 'C204',   1]\n",
    "    ,'A2488': [14.50, 'C199', 123]\n",
    "    ,'C1120': [8.42,  'B221', 331]\n",
    "    ,'B2230': [18.65, 'B222',  65]\n",
    "}"
   ]
  },
  {
   "cell_type": "code",
   "execution_count": null,
   "metadata": {},
   "outputs": [],
   "source": [
    "# Show all items in the dataset\n",
    "for k in inv2:\n",
    "    print(k, inv2[k])"
   ]
  },
  {
   "cell_type": "code",
   "execution_count": null,
   "metadata": {},
   "outputs": [],
   "source": [
    "# List all SKUs in the dataset\n",
    "list(inv2.keys())"
   ]
  },
  {
   "cell_type": "code",
   "execution_count": null,
   "metadata": {},
   "outputs": [],
   "source": [
    "# Total inventory value\n",
    "sum([inv2[k][0]*inv2[k][2] for k in inv2])"
   ]
  },
  {
   "cell_type": "code",
   "execution_count": null,
   "metadata": {},
   "outputs": [],
   "source": [
    "# On-hand inventory for SKU B1638\n",
    "inv2['B1638'][2]"
   ]
  },
  {
   "cell_type": "code",
   "execution_count": null,
   "metadata": {},
   "outputs": [],
   "source": [
    "# Example 4\n",
    "# A dictionary of dictionaries\n",
    "inv3 = {\n",
    "     'A1004' : {'cost':  3.45, 'location': 'A104', 'qty':  12}\n",
    "    ,'A1012' : {'cost': 19.68, 'location': 'A105', 'qty':  92}\n",
    "    ,'B1638' : {'cost': 33.14, 'location': 'A106', 'qty':   2}\n",
    "    ,'B1849' : {'cost':  0.78, 'location': 'A107', 'qty':  18}\n",
    "    ,'C1098' : {'cost':  1.29, 'location': 'C204', 'qty':   1}\n",
    "    ,'A2488' : {'cost': 14.50, 'location': 'C199', 'qty': 123}\n",
    "    ,'C1120' : {'cost':  8.42, 'location': 'B221', 'qty': 331}\n",
    "    ,'B2230' : {'cost': 18.65, 'location': 'B222', 'qty':  65}\n",
    "}"
   ]
  },
  {
   "cell_type": "code",
   "execution_count": null,
   "metadata": {},
   "outputs": [],
   "source": [
    "# all SKUS\n",
    "[key for key in inv3.keys()]"
   ]
  },
  {
   "cell_type": "code",
   "execution_count": null,
   "metadata": {},
   "outputs": [],
   "source": [
    "# On-hand inventory for SKU B1638\n",
    "sku = 'B1638'\n",
    "inv3[sku]['qty']"
   ]
  },
  {
   "cell_type": "code",
   "execution_count": null,
   "metadata": {},
   "outputs": [],
   "source": [
    "# total inventory value\n",
    "sum([inv3[k]['cost']*inv3[k]['qty'] for k in inv3])"
   ]
  },
  {
   "cell_type": "code",
   "execution_count": null,
   "metadata": {},
   "outputs": [],
   "source": []
  }
 ],
 "metadata": {
  "kernelspec": {
   "display_name": "Python 3 (ipykernel)",
   "language": "python",
   "name": "python3"
  },
  "language_info": {
   "codemirror_mode": {
    "name": "ipython",
    "version": 3
   },
   "file_extension": ".py",
   "mimetype": "text/x-python",
   "name": "python",
   "nbconvert_exporter": "python",
   "pygments_lexer": "ipython3",
   "version": "3.8.5"
  }
 },
 "nbformat": 4,
 "nbformat_minor": 4
}
