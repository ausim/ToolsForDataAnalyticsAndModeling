{
 "cells": [
  {
   "cell_type": "markdown",
   "id": "9a73206e",
   "metadata": {},
   "source": [
    "# Aggregation and Grouping Example - South Carolina Pay Dataset\n",
    "\n",
    "Demonstration of querying the dataset for \"interesting\" information.  "
   ]
  },
  {
   "cell_type": "code",
   "execution_count": null,
   "id": "d1aab0e9",
   "metadata": {},
   "outputs": [],
   "source": [
    "import pandas as pd\n",
    "# show - displays the Pandas object \n",
    "def show(data, show_data = 0):\n",
    "    print (\"  Index: {:}\".format(data.index))\n",
    "    print (\"Columns: {:}\".format(data.columns))\n",
    "    print (\"  Shape: {:}\".format(data.shape))\n",
    "    if show_data:\n",
    "        print(data.values)\n",
    "\n",
    "print(\"Pandas version: {:}\".format(pd.__version__))"
   ]
  },
  {
   "cell_type": "code",
   "execution_count": null,
   "id": "3cb80d16",
   "metadata": {},
   "outputs": [],
   "source": [
    "# Read the dataset into a data frame (df)\n",
    "df = pd.read_csv(\"../data/04_South_Carolina_State_Employee_Salary_Database.csv\")\n",
    "show(df)\n",
    "df.head(10)"
   ]
  },
  {
   "cell_type": "markdown",
   "id": "1474a866",
   "metadata": {},
   "source": [
    "## Using the whole dataset"
   ]
  },
  {
   "cell_type": "code",
   "execution_count": null,
   "id": "17b54bb2",
   "metadata": {},
   "outputs": [],
   "source": [
    "# Average salary\n",
    "df['Base Salary'].mean()"
   ]
  },
  {
   "cell_type": "code",
   "execution_count": null,
   "id": "180a7bae",
   "metadata": {},
   "outputs": [],
   "source": [
    "# Human-friendly form\n",
    "\"Average salary: ${:,.2f}\".format(df['Base Salary'].mean())"
   ]
  },
  {
   "cell_type": "code",
   "execution_count": null,
   "id": "f52098cb",
   "metadata": {},
   "outputs": [],
   "source": [
    "# Medians are often more informing for highly skewed data\n",
    "\"Median salary: ${:,.2f}\".format(df['Base Salary'].median())"
   ]
  },
  {
   "cell_type": "code",
   "execution_count": null,
   "id": "6adbaeba",
   "metadata": {},
   "outputs": [],
   "source": [
    "# Percentiles can also be very useful\n",
    "p = 0.75\n",
    "\"{:}th percentile salary: ${:,.2f}\".format(int(p*100),df['Base Salary'].quantile(p))"
   ]
  },
  {
   "cell_type": "markdown",
   "id": "57e91e63",
   "metadata": {},
   "source": [
    "## Using Aggregation and Grouping"
   ]
  },
  {
   "cell_type": "code",
   "execution_count": null,
   "id": "87a910ea",
   "metadata": {},
   "outputs": [],
   "source": [
    "# Average salary by Agency\n",
    "df.groupby('Agency')[['Base Salary']].mean()\n",
    "# Split-apply-combine -- see slide."
   ]
  },
  {
   "cell_type": "code",
   "execution_count": null,
   "id": "60bf3d44",
   "metadata": {},
   "outputs": [],
   "source": [
    "# Who pays the most?  Top 10 (of the 96 agencies)\n",
    "df.groupby('Agency')[['Base Salary']].mean().sort_values(by='Base Salary', ascending=False)[:10]\n",
    "# how does this expression work? Split-apply-combine + sort + slice"
   ]
  },
  {
   "cell_type": "code",
   "execution_count": null,
   "id": "adb70260",
   "metadata": {},
   "outputs": [],
   "source": [
    "# Who are those Retirement System people?\n",
    "df[df['Agency']==\"RETIREMENT SYS INVESTMENT COMM\"]"
   ]
  },
  {
   "cell_type": "code",
   "execution_count": null,
   "id": "134f3fb3",
   "metadata": {},
   "outputs": [],
   "source": [
    "# Sort those retirement people\n",
    "df[df['Agency']==\"RETIREMENT SYS INVESTMENT COMM\"].sort_values(by='Base Salary', ascending=False)"
   ]
  },
  {
   "cell_type": "code",
   "execution_count": null,
   "id": "7f49de82",
   "metadata": {},
   "outputs": [],
   "source": [
    "# Average may be deceiving -- let's check the median\n",
    "avg = df[df['Agency']==\"RETIREMENT SYS INVESTMENT COMM\"]['Base Salary'].mean()\n",
    "med = df[df['Agency']==\"RETIREMENT SYS INVESTMENT COMM\"]['Base Salary'].median()\n",
    "\"Average: ${:,.2f}; Median: ${:,.2f}\".format(avg, med)"
   ]
  },
  {
   "cell_type": "code",
   "execution_count": null,
   "id": "ff7786de",
   "metadata": {},
   "outputs": [],
   "source": [
    "# What about Total Compensation?\n",
    "avg = df[df['Agency']==\"RETIREMENT SYS INVESTMENT COMM\"]['Total Compensation'].mean()\n",
    "med = df[df['Agency']==\"RETIREMENT SYS INVESTMENT COMM\"]['Total Compensation'].median()\n",
    "\"Average: ${:,.2f}; Median: ${:,.2f}\".format(avg, med)"
   ]
  },
  {
   "cell_type": "code",
   "execution_count": null,
   "id": "4bbb028e",
   "metadata": {},
   "outputs": [],
   "source": [
    "# Who pays the least?  Bottom 10\n",
    "df.groupby('Agency')[['Base Salary']].mean().sort_values(by='Base Salary', ascending=False)[-10:]"
   ]
  },
  {
   "cell_type": "code",
   "execution_count": null,
   "id": "39be4891",
   "metadata": {},
   "outputs": [],
   "source": [
    "# By job title - Who pays the most?  Top 20\n",
    "df.groupby('Title')[['Base Salary']].mean().sort_values(by='Base Salary', ascending=False)[:20]"
   ]
  },
  {
   "cell_type": "code",
   "execution_count": null,
   "id": "1806ab0d",
   "metadata": {},
   "outputs": [],
   "source": [
    "# Who are these Vice Provost people?\n",
    "df[df['Title'] == \"VICE PROVOST\"].sort_values(by='Base Salary', ascending=False)"
   ]
  },
  {
   "cell_type": "code",
   "execution_count": null,
   "id": "181fa4ef",
   "metadata": {},
   "outputs": [],
   "source": [
    "# By job title - Who pays the least?  Bottom 20\n",
    "df.groupby('Title')[['Base Salary']].mean().sort_values(by='Base Salary', ascending=False)[-20:]"
   ]
  },
  {
   "cell_type": "code",
   "execution_count": null,
   "id": "4c5dc456",
   "metadata": {},
   "outputs": [],
   "source": [
    "# What about professors?\n",
    "df[df['Title']=='PROFESSOR'].groupby('Agency')[['Base Salary']].mean().sort_values(by='Base Salary', ascending=False)"
   ]
  },
  {
   "cell_type": "code",
   "execution_count": null,
   "id": "11f87657",
   "metadata": {},
   "outputs": [],
   "source": [
    "# Top n professors (by pay :-))\n",
    "n = 25\n",
    "df[df['Title']=='PROFESSOR'].sort_values(by='Base Salary', ascending=False)[:n]"
   ]
  },
  {
   "cell_type": "code",
   "execution_count": null,
   "id": "d51b0a7f",
   "metadata": {},
   "outputs": [],
   "source": [
    "# bottom n professors (by pay :-))\n",
    "n = 25\n",
    "df[df['Title']=='PROFESSOR'].sort_values(by='Base Salary', ascending=False)[-n:]"
   ]
  },
  {
   "cell_type": "code",
   "execution_count": null,
   "id": "d87ab187",
   "metadata": {},
   "outputs": [],
   "source": []
  }
 ],
 "metadata": {
  "kernelspec": {
   "display_name": "Python 3 (ipykernel)",
   "language": "python",
   "name": "python3"
  },
  "language_info": {
   "codemirror_mode": {
    "name": "ipython",
    "version": 3
   },
   "file_extension": ".py",
   "mimetype": "text/x-python",
   "name": "python",
   "nbconvert_exporter": "python",
   "pygments_lexer": "ipython3",
   "version": "3.8.13"
  }
 },
 "nbformat": 4,
 "nbformat_minor": 5
}
