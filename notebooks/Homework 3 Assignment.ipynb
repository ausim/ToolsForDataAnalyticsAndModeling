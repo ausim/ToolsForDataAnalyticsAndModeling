{
 "cells": [
  {
   "cell_type": "markdown",
   "metadata": {},
   "source": [
    "# Homework Assignment 3\n",
    "\n",
    "2020-09-15: Developed by Jingwie Liu based on a previous homework assignment.\n",
    "<br/>2021-09-07: Updated.\n",
    "\n",
    "Datafile: \"14_Foreign_Exchange_Rates_PureNumeric.csv\"\n",
    "\n",
    "For all problems that involve displaying numerical data, make sure to use an appropriate 'user friendly' data format.  This means use an appropriate number of decimal places, comma sparators on the thousands, etc.  This can easily be done using the string.format() function."
   ]
  },
  {
   "cell_type": "code",
   "execution_count": null,
   "metadata": {},
   "outputs": [],
   "source": [
    "# Some setup ...\n",
    "# Import some tools\n",
    "import numpy as np\n",
    "# import pandas as pd\n",
    "\n",
    "# function to show a NumyPy arrray with its attributes\n",
    "def show(the_array, show_data = 0):\n",
    "    print(\"  Dimension: {:}\".format(the_array.ndim))\n",
    "    print(\"       Size: {:}\".format(the_array.size))\n",
    "    print(\"      Shape: {:}\".format(the_array.shape))    \n",
    "    print(\"  Data Type: {:}\".format(the_array.dtype))    \n",
    "    print(\"  Item Size: {:}\".format(the_array.itemsize))\n",
    "    print(\"Data Buffer: {:}\".format(the_array.data))\n",
    "    if show_data:\n",
    "        print(the_array)"
   ]
  },
  {
   "cell_type": "markdown",
   "metadata": {},
   "source": [
    "## Read the Data and Create the NumPy Arrays"
   ]
  },
  {
   "cell_type": "code",
   "execution_count": null,
   "metadata": {},
   "outputs": [],
   "source": [
    "import os\n",
    "print(os.getcwd())"
   ]
  },
  {
   "cell_type": "code",
   "execution_count": null,
   "metadata": {},
   "outputs": [],
   "source": [
    "# Read the data into a Pandas dataframe and show the first 5 rows (just to \"see\" the data)\n",
    "df = pd.read_csv(\"../data/14_Foreign_Exchange_Rates_PureNumeric.csv\")\n",
    "df.head()"
   ]
  },
  {
   "cell_type": "code",
   "execution_count": null,
   "metadata": {},
   "outputs": [],
   "source": [
    "# Grab the 'EURO AREA - EURO/US$'values as a NumPy array\n",
    "EUA = df['EURO AREA - EURO/US$'].values\n",
    "print(\"Data Type: {:}\".format(type(EUA)))\n",
    "show(EUA)"
   ]
  },
  {
   "cell_type": "markdown",
   "metadata": {},
   "source": [
    "**Problem 1**: In the next cell or cells, use the NumPy array functions to compute the mean, standard deviation, min, and max values(descriptive statistics) of \"EURO AREA - EURO/US$\" using the variable **EUA** created above. Make sure that you show the computed values and remember to use appropriate 'user friendly' formats for displaying the numbers."
   ]
  },
  {
   "cell_type": "code",
   "execution_count": null,
   "metadata": {},
   "outputs": [],
   "source": [
    "# Start your solution here ... add additional cells as necessary"
   ]
  },
  {
   "cell_type": "code",
   "execution_count": null,
   "metadata": {},
   "outputs": [],
   "source": [
    "# Grab some exchange values from Asian contries: JAPAN,CHINA, and THAILAND , slice as a Pandas dataframe and then store\n",
    "# the values as a NumPy array\n",
    "asiadf = df[['JAPAN - YEN/US$', 'CHINA - YUAN/US$', 'THAILAND - BAHT/US$']]\n",
    "asiaarray = asiadf.values\n",
    "show(asiaarray)"
   ]
  },
  {
   "cell_type": "markdown",
   "metadata": {},
   "source": [
    "**Problem 2**: In the next cell or cells, use the NumPy array functions to compute the mean, standard deviation, min, and max values (descriptive statistics) of the exchange rate of the above three Asian countries using the variable **asiaarray** array created above and then display the computed values. Note that we have three different exchange rates for these three countries - JAPAN, CHINA, and THAILAND - so you need to compute the descriptive statistics for all three countries (hint -- use the axis parameter in the function calls)."
   ]
  },
  {
   "cell_type": "code",
   "execution_count": null,
   "metadata": {},
   "outputs": [],
   "source": [
    "# Start your solution here ... add additional cells as necessary"
   ]
  },
  {
   "cell_type": "markdown",
   "metadata": {},
   "source": [
    "**Problem 3**: Suppose you want to take a vacation (**a week**) this Thanksgiving and you plan to choose one as your destination from the above three countries. After some investigation, you find the daily expense in each country is: \n",
    "\n",
    "1.  JAPAN - 7200 YEN/Day;\n",
    "2.  CHINA - 500 YUAN/Day; \n",
    "3.  THAILAND - 2400 BAHT/Day. \n",
    "\n",
    "You decide to choose the destination country who has the lowest cost (in US dollars). You can use mean, max, or min to help you make the final decision. So, answer the following question in the next cell or cells: \n",
    "\n",
    "1.  What country is your choice?\n",
    "2.  What is the total expected cost of your vacation (in US dollars)? \n",
    "3.  Discuss briefly how you made your decision (use a *Markdown* cell for this discussion)."
   ]
  },
  {
   "cell_type": "code",
   "execution_count": null,
   "metadata": {},
   "outputs": [],
   "source": [
    "# Start your solution here ... add additional cells as necessary"
   ]
  },
  {
   "cell_type": "code",
   "execution_count": null,
   "metadata": {},
   "outputs": [],
   "source": [
    "# Create an array for SWITZERLAND - FRANC/US$ \n",
    "switzerland = df['SWITZERLAND - FRANC/US$'].values\n",
    "show(switzerland)"
   ]
  },
  {
   "cell_type": "markdown",
   "metadata": {},
   "source": [
    "**Problem 4**: In the next cell or cells, count the number of days where the exchange rate for Switzerland was greater than 1.5."
   ]
  },
  {
   "cell_type": "code",
   "execution_count": null,
   "metadata": {},
   "outputs": [],
   "source": [
    "# Start your solution here ... add additional cells as necessary"
   ]
  },
  {
   "cell_type": "markdown",
   "metadata": {},
   "source": [
    "**Problem 5**: In the next cell or cells, count the number of days where the exchange rate for Switzerland was less than 1.0."
   ]
  },
  {
   "cell_type": "code",
   "execution_count": null,
   "metadata": {},
   "outputs": [],
   "source": [
    "# Start your solution here ... add additional cells as necessary"
   ]
  },
  {
   "cell_type": "markdown",
   "metadata": {},
   "source": [
    "**Problem 6**: In the next cell or cells, create masks for the 'Time Series' that \"before year 2008\" and \"after year 2008\"(include year 2008) and compute the mean, std. dev., min, and max values of of the exchange rate for Switzerland that **a)** before year 2008; and **b)** after year 2008 (include year 2008).<br>\n",
    "**Hint**: You can use pd.to_datetime() to convert the string in 'Time Series' to a datetime object which is comparable (numerically). "
   ]
  },
  {
   "cell_type": "code",
   "execution_count": null,
   "metadata": {},
   "outputs": [],
   "source": [
    "# Start your solution here ... add additional cells as necessary"
   ]
  }
 ],
 "metadata": {
  "kernelspec": {
   "display_name": "Python 3",
   "language": "python",
   "name": "python3"
  },
  "language_info": {
   "codemirror_mode": {
    "name": "ipython",
    "version": 3
   },
   "file_extension": ".py",
   "mimetype": "text/x-python",
   "name": "python",
   "nbconvert_exporter": "python",
   "pygments_lexer": "ipython3",
   "version": "3.8.5"
  }
 },
 "nbformat": 4,
 "nbformat_minor": 4
}
