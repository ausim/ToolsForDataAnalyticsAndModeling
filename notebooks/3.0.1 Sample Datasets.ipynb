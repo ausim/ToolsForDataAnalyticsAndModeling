{
 "cells": [
  {
   "cell_type": "markdown",
   "metadata": {},
   "source": [
    "# Sample Datasets\n",
    "Most of these came from: https://opendata.socrata.com/browse\n",
    "\n",
    "Some sample code to read csv files into Pandas DataFrames and \"explore.\"\n"
   ]
  },
  {
   "cell_type": "code",
   "execution_count": null,
   "metadata": {},
   "outputs": [],
   "source": [
    "# getting things ready\n",
    "import pandas as pd\n",
    "\n",
    "# show - displays the Pandas object \n",
    "def show(data, show_data = 0):\n",
    "    print (\"  Index: {:}\".format(data.index))\n",
    "    print (\"Columns: {:}\".format(data.columns))\n",
    "    print (\"  Shape: {:}\".format(data.shape))\n",
    "    if show_data:\n",
    "        print(data.values)\n",
    "\n",
    "print(\"Pandas version: {:}\".format(pd.__version__))"
   ]
  },
  {
   "cell_type": "code",
   "execution_count": null,
   "metadata": {},
   "outputs": [],
   "source": [
    "# Some sample datasets - all from the source above.\n",
    "# Dictionary - key:actual file name\n",
    "fnames = {\n",
    "     \"cities\"    :\"01_U.S._Top_25_Largest_Cities.csv\"\n",
    "    ,\"airports\"  :\"02_Airport_Codes_mapped_to_Latitude_Longitude_in_the_United_States.csv\"\n",
    "    ,\"starbucks\" :\"03_All_Starbucks_Locations_in_the_US_-_Map.csv\"\n",
    "    ,\"scpay\"     :\"04_South_Carolina_State_Employee_Salary_Database.csv\"\n",
    "    ,\"songs\"     :\"05_Top_1_000_Songs_To_Hear_Before_You_Die.csv\"\n",
    "    ,\"bestcos\"   :\"06_Top_5_000_Companies_from_INC.com.csv\"\n",
    "    ,\"accounts\"  :\"07_Unclaimed_bank_accounts.csv\"\n",
    "    ,\"wh2012\"    :\"08_2012_Annual_Report_to_Congress_on_White_House_Staff.csv\"\n",
    "    ,\"washconst\" :\"09_Completed_Construction_Projects_2005_in_Washington_DC.csv\"\n",
    "    ,\"usecon\"    :\"10_us_economic_data.csv\"\n",
    "    ,\"matches\"   :\"11_matches.csv\"\n",
    "    ,\"meals\"     :\"12_meals.csv\"\n",
    "    ,\"ervs\"      :\"13_erv.csv\"\n",
    "    ,\"fexchange\" :\"14_Foreign_Exchange_Rates.csv\"\n",
    "    ,\"gmobility\" :\"15_Global_Mobility_Report.csv\"\n",
    "    ,\"shoppers\"  :\"16_online_shoppers_purchasing_intention.csv\"\n",
    "}"
   ]
  },
  {
   "cell_type": "code",
   "execution_count": null,
   "metadata": {},
   "outputs": [],
   "source": [
    "# Grab a data set using the key and show the first few rows\n",
    "fkey = \"airports\"\n",
    "df = pd.read_csv(\"../data/\"+fnames[fkey])\n",
    "# Pay attention to what's going on with the relative path and file name dictionary.\n",
    "show(df)\n",
    "df.head()"
   ]
  },
  {
   "cell_type": "code",
   "execution_count": null,
   "metadata": {},
   "outputs": [],
   "source": [
    "for col in df.columns:\n",
    "    print (\"{:} ({:})\".format(col,df[col].dtype))"
   ]
  },
  {
   "cell_type": "code",
   "execution_count": null,
   "metadata": {},
   "outputs": [],
   "source": [
    "# If you want to use the first col (index 0) as the row index\n",
    "fkey = \"airports\"\n",
    "df = pd.read_csv(\"../data/\"+fnames[fkey], index_col = 0)\n",
    "# Pay attention to what's going on with the relative path and file name dictionary.\n",
    "show(df)\n",
    "df.head()"
   ]
  },
  {
   "cell_type": "code",
   "execution_count": null,
   "metadata": {},
   "outputs": [],
   "source": [
    "df.loc[0:10]"
   ]
  },
  {
   "cell_type": "code",
   "execution_count": null,
   "metadata": {},
   "outputs": [],
   "source": []
  }
 ],
 "metadata": {
  "kernelspec": {
   "display_name": "Python 3 (ipykernel)",
   "language": "python",
   "name": "python3"
  },
  "language_info": {
   "codemirror_mode": {
    "name": "ipython",
    "version": 3
   },
   "file_extension": ".py",
   "mimetype": "text/x-python",
   "name": "python",
   "nbconvert_exporter": "python",
   "pygments_lexer": "ipython3",
   "version": "3.8.5"
  }
 },
 "nbformat": 4,
 "nbformat_minor": 4
}
