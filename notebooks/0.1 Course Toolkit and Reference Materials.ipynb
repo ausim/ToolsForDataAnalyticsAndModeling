{
 "cells": [
  {
   "cell_type": "markdown",
   "metadata": {},
   "source": [
    "# Course Toolkit and Reference Tools\n",
    "Our toolkit will consist of several computer tools -- most are freely available.  We highly recommend that you install the course toolkit on your personal computer and the first homework assignment will involve installing the sofware in the toolkit.  The toolkit will be installed in the ISE computer labs, but you will have much more flexibility using your own.  You should also feel free to bring your notebook computers to class.\n",
    "\n",
    "The offical OS for the course is Windows 10 - this the OS installed in our labs (I use Windows 11 on my computers).  However, virtually all of the software that we will use is also available for OSX (Mac) and Linux.  I will try to assist where I can, but I do not have much experience with installing the software in these environments.\n",
    "\n",
    "We will also use a variety of books and web references - provided in the section below (note that I will update this as the semester progresses).\n"
   ]
  },
  {
   "cell_type": "markdown",
   "metadata": {},
   "source": [
    "## Books, Video Modules, and Web References\n",
    "Simple Google searches for key terms will lead you to millions of pages and lots of great books, text, video, and interactive content related the the material covered in this course.  Below is a small set that I've specifically identified for this course -- so, don't think of this as any type of comprehensive list.  One of the key skills that you will need is to search the web for material and for answers to specific questions that you will have throughout the semester.\n",
    "\n",
    "### Books\n",
    "<ul>\n",
    "<li />VanderPlas, J. <i>Python Data Science Handbook: Essential Tools for Working with Data</i>, O'Reilly Media, 2016.  Available on \n",
    "Amazon and at https://jakevdp.github.io/PythonDataScienceHandbook/.\n",
    "<li />Grolemund, G. and Wickham, H. <i>R for Data Science</i>, O'Reilly Media, 2017.  Available on Amazon and at http://r4ds.had.co.nz/.\n",
    "<li />Lutz, M. <i>Learning Python, 5th Edition</i>, O'Reilly Media, 2013. (note that this book covers Python 2.7 rather than 3.x).\n",
    "</ul>\n",
    "\n",
    "   \n",
    "### Web References\n",
    "<ul>\n",
    "    <li />Anaconda - https://www.anaconda.com/\n",
    "    <li />Conda User Guide - https://conda.io/docs/user-guide/index.html\n",
    "    <li />SciPy - https://www.scipy.org/\n",
    "    <li />NumPy - http://www.numpy.org/\n",
    "    <li />Pandas - http://pandas.pydata.org/\n",
    "    <li />Matplotlib - https://matplotlib.org/\n",
    "    <li />Seaborn - http://seaborn.pydata.org/index.html\n",
    "    <li />Scikit-Learn - https://scikit-learn.org/stable/\n",
    "    <li />The R Project for Statistical Computing - https://www.r-project.org/\n",
    "    <li />RStudio - https://www.rstudio.com/\n",
    "    <li /> CRAN - https://cran.r-project.org/\n",
    "    <li /> Tidyverse - https://www.tidyverse.org\n",
    "</ul>\n",
    "\n",
    "Many of the documentation links are also available through Anaconda Navigator (the GUI for Anaconda).\n",
    "\n"
   ]
  },
  {
   "cell_type": "markdown",
   "metadata": {},
   "source": [
    "## Python\n",
    "We will use Python 3.8.x for this course (if you already have a 3.y.x version installed, that will be sufficient).  When downloading and installing related pacakges, please make sure that you have the 3.y.x versions and not the 2.7.y versions.  We recommend that youu use the Anaconda Python package (https://www.anaconda.com/download/) -- this is the package that will be installed in the labs.  The standard installation includes most of Python-related packages that we will use in the class and other packages can be easily installed and managed using the Conda package manager (https://conda.io/docs/).  Information about using <em>environments</em> (which let you have different versions of Python and packages installed on the same computer) can be found at https://conda.io/docs/user-guide/tasks/manage-environments.html.\n",
    "\n",
    "The following sections briefly describe the major Python modules that we will use in class.\n",
    "\n",
    "### SciPy\n",
    "\n",
    "(installed as part of the standard Anaconda installation)\n",
    "\n",
    "### NumPy\n",
    "\n",
    "(installed as part of the standard Anaconda installation)\n",
    "\n",
    "\n",
    "### Pandas\n",
    "\n",
    "(installed as part of the standard Anaconda installation)\n",
    "\n",
    "### Matplotlib\n",
    "\n",
    "(installed as part of the standard Anaconda installation)\n",
    "\n",
    "### Scikit-learn\n",
    "\n",
    "Tools for predictive data analysis"
   ]
  },
  {
   "cell_type": "markdown",
   "metadata": {},
   "source": [
    "## R\n",
    "\n",
    "We will use a \"current\" version of R for this course.  I currently have version 4.1.0 installed on my computer, but I recommend that you install the latest stable version (a list of R mirror sites is available at https://cran.r-project.org/mirrors.html).  We will also make significant use of the packages that comprise the Tidyverse (https://tidyverse.org).\n"
   ]
  },
  {
   "cell_type": "code",
   "execution_count": null,
   "metadata": {},
   "outputs": [],
   "source": []
  }
 ],
 "metadata": {
  "kernelspec": {
   "display_name": "Python 3 (ipykernel)",
   "language": "python",
   "name": "python3"
  },
  "language_info": {
   "codemirror_mode": {
    "name": "ipython",
    "version": 3
   },
   "file_extension": ".py",
   "mimetype": "text/x-python",
   "name": "python",
   "nbconvert_exporter": "python",
   "pygments_lexer": "ipython3",
   "version": "3.8.13"
  }
 },
 "nbformat": 4,
 "nbformat_minor": 4
}
