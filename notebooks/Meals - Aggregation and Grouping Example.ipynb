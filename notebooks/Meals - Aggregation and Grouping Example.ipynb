{
 "cells": [
  {
   "cell_type": "markdown",
   "metadata": {},
   "source": [
    "# Meals (tips) Aggregation and Grouping Example\n",
    "\n",
    "Compare to the R versions in data_transformation_chapter.R"
   ]
  },
  {
   "cell_type": "code",
   "execution_count": null,
   "metadata": {},
   "outputs": [],
   "source": [
    "import pandas as pd\n",
    "\n",
    "# show - displays the Pandas object \n",
    "def show(data, show_data = 0):\n",
    "    print (\"  Index: {:}\".format(data.index))\n",
    "    print (\"Columns: {:}\".format(data.columns))\n",
    "    print (\"  Shape: {:}\".format(data.shape))\n",
    "    if show_data:\n",
    "        print(data.values)\n",
    "\n",
    "print(\"Pandas version: {:}\".format(pd.__version__))"
   ]
  },
  {
   "cell_type": "code",
   "execution_count": null,
   "metadata": {},
   "outputs": [],
   "source": [
    "# Read the dataset, compute the tip percentage and show the dataframe\n",
    "meals = pd.read_csv(\"../data/12_meals.csv\")\n",
    "meals['tip_percentage'] = meals['tip']/meals['cost']\n",
    "show(meals)\n",
    "meals.head()"
   ]
  },
  {
   "cell_type": "code",
   "execution_count": null,
   "metadata": {},
   "outputs": [],
   "source": [
    "# overall summary values\n",
    "len(meals), meals['tip'].mean(), meals['cost'].mean(), meals['tip_percentage'].median(), meals['party_size'].sum()"
   ]
  },
  {
   "cell_type": "code",
   "execution_count": null,
   "metadata": {},
   "outputs": [],
   "source": [
    "# summaries by day\n",
    "meals.groupby('day')[['tip', 'cost', 'tip_percentage', 'party_size']].aggregate(['mean', 'median', 'sum'])"
   ]
  },
  {
   "cell_type": "code",
   "execution_count": null,
   "metadata": {},
   "outputs": [],
   "source": [
    "# summaries by meal\n",
    "meals.groupby('meal')[['tip', 'cost', 'tip_percentage', 'party_size']].aggregate(['mean', 'median', 'sum'])"
   ]
  },
  {
   "cell_type": "code",
   "execution_count": null,
   "metadata": {},
   "outputs": [],
   "source": [
    "# summaries by payer\n",
    "meals.groupby('payer')[['tip', 'cost', 'tip_percentage', 'party_size']].aggregate(['mean', 'median', 'sum'])"
   ]
  },
  {
   "cell_type": "code",
   "execution_count": null,
   "metadata": {},
   "outputs": [],
   "source": []
  }
 ],
 "metadata": {
  "kernelspec": {
   "display_name": "Python 3",
   "language": "python",
   "name": "python3"
  },
  "language_info": {
   "codemirror_mode": {
    "name": "ipython",
    "version": 3
   },
   "file_extension": ".py",
   "mimetype": "text/x-python",
   "name": "python",
   "nbconvert_exporter": "python",
   "pygments_lexer": "ipython3",
   "version": "3.8.5"
  }
 },
 "nbformat": 4,
 "nbformat_minor": 4
}
