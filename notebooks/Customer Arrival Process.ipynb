{
 "cells": [
  {
   "cell_type": "markdown",
   "metadata": {},
   "source": [
    "# Customer Arrival Process\n",
    "\n",
    "Here we are interested in making a visual assessment of the stationarity of the customer arrival process using a 10-day sample of customer arrival times.\n",
    "\n",
    "Video Module: https://jsmith.co/educational-modules/analytics-course-modules/python-related-videos/"
   ]
  },
  {
   "cell_type": "code",
   "execution_count": null,
   "metadata": {},
   "outputs": [],
   "source": [
    "%matplotlib inline\n",
    "import numpy as np\n",
    "import matplotlib.pyplot as plt\n",
    "import pandas as pd\n",
    "import seaborn as sns\n",
    "plt.style.use('seaborn-whitegrid')"
   ]
  },
  {
   "cell_type": "code",
   "execution_count": null,
   "metadata": {},
   "outputs": [],
   "source": [
    "# Read the Arrival Times\n",
    "# NOTE -- check the file path -- on my system, I created a subdirectory\n",
    "# for these data files (there are 30 of them).  Adjust as necessary for\n",
    "# your configuration.\n",
    "reps = 10\n",
    "num_bins = 8 # int of the length of the period in hours\n",
    "dataset = 'C' # A, B, or C\n",
    "allarrs = []\n",
    "for j in range(reps):\n",
    "    iats = [float(s) for s in open(\"..\\\\data\\\\arrival_data\\\\day{:}{:}.csv\".format(dataset,j+1))]\n",
    "    allarrs.append(iats)\n",
    "\n",
    "# Compute the IATs\n",
    "alliats = []\n",
    "for j in range(reps):\n",
    "    iats = []\n",
    "    iats.append(allarrs[j][0])\n",
    "    for k in range(1, len(allarrs[j])) :\n",
    "        iats.append(allarrs[j][k] - allarrs[j][k-1])\n",
    "    alliats.append(iats)    "
   ]
  },
  {
   "cell_type": "code",
   "execution_count": null,
   "metadata": {},
   "outputs": [],
   "source": [
    "for j in range(len(allarrs)):\n",
    "    print(\"Day {:2d}: {:} IAT records and {:} Arr records.\".format(j+1, len(alliats[j]), len(allarrs[j])))"
   ]
  },
  {
   "cell_type": "code",
   "execution_count": null,
   "metadata": {},
   "outputs": [],
   "source": [
    "# don't forget the ? (help) option if you need it!\n",
    "plt.hist?"
   ]
  },
  {
   "cell_type": "code",
   "execution_count": null,
   "metadata": {},
   "outputs": [],
   "source": [
    "# ok -- we'll use Auburn primary orange and blue here...\n",
    "au_orange = \"#dd550c\"\n",
    "au_blue   = \"#03244d\"\n",
    "fig, ax = plt.subplots(nrows=reps, ncols=2, figsize=(10, 3*reps))\n",
    "for j in range(reps):\n",
    "    ax[j][0].hist(alliats[j], color=au_orange)\n",
    "    ax[j][1].hist(allarrs[j], bins=num_bins, color=au_blue)"
   ]
  },
  {
   "cell_type": "code",
   "execution_count": null,
   "metadata": {},
   "outputs": [],
   "source": [
    "# If we assume the arrivals are stationary across days, we can combine all of the \n",
    "# indivdiual day datasets ...\n",
    "grandiats = []\n",
    "grandarrs = []\n",
    "for j in range(reps):\n",
    "    grandiats = grandiats + alliats[j]\n",
    "    grandarrs = grandarrs + allarrs[j]\n",
    "fig, ax = plt.subplots(nrows=1, ncols=2, figsize=(12, 3))\n",
    "c1 = ax[0].hist(grandiats, color=au_orange)\n",
    "c2 = ax[1].hist(grandarrs, bins=num_bins, color=au_blue)"
   ]
  },
  {
   "cell_type": "code",
   "execution_count": null,
   "metadata": {},
   "outputs": [],
   "source": [
    "# Try KDE ...\n",
    "fig, ax = plt.subplots(nrows=1, ncols=2, figsize=(12, 5))\n",
    "k1 = sns.distplot(grandiats, ax=ax[0])\n",
    "k2 = sns.distplot(grandarrs, ax=ax[1])"
   ]
  },
  {
   "cell_type": "code",
   "execution_count": null,
   "metadata": {},
   "outputs": [],
   "source": []
  }
 ],
 "metadata": {
  "kernelspec": {
   "display_name": "Python 3 (ipykernel)",
   "language": "python",
   "name": "python3"
  },
  "language_info": {
   "codemirror_mode": {
    "name": "ipython",
    "version": 3
   },
   "file_extension": ".py",
   "mimetype": "text/x-python",
   "name": "python",
   "nbconvert_exporter": "python",
   "pygments_lexer": "ipython3",
   "version": "3.8.5"
  }
 },
 "nbformat": 4,
 "nbformat_minor": 4
}
