{
 "cells": [
  {
   "cell_type": "markdown",
   "id": "25177f38-a941-4b2a-9e4b-701ec0c78388",
   "metadata": {},
   "source": [
    "# Aggregation and Grouping Example - South Carolina Pay Dataset"
   ]
  },
  {
   "cell_type": "code",
   "execution_count": null,
   "id": "5e714348-eccd-4b3b-bd46-fe9b9a4edbc4",
   "metadata": {},
   "outputs": [],
   "source": [
    "import pandas as pd\n",
    "# show - displays the Pandas object \n",
    "def show(data, show_data = 0):\n",
    "    print (\"  Index: {:}\".format(data.index))\n",
    "    print (\"Columns: {:}\".format(data.columns))\n",
    "    print (\"  Shape: {:}\".format(data.shape))\n",
    "    if show_data:\n",
    "        print(data.values)\n",
    "\n",
    "print(\"Pandas version: {:}\".format(pd.__version__))"
   ]
  },
  {
   "cell_type": "code",
   "execution_count": null,
   "id": "4d73cf75-7190-4163-9e52-f9dafa32296d",
   "metadata": {},
   "outputs": [],
   "source": [
    "df = pd.read_csv(\"../data/04_South_Carolina_State_Employee_Salary_Database.csv\")\n",
    "show(df)\n",
    "df.head()"
   ]
  },
  {
   "cell_type": "code",
   "execution_count": null,
   "id": "5c7d7471-faa8-4890-ac7e-ee31d727fc53",
   "metadata": {},
   "outputs": [],
   "source": [
    "# Average salary by Agency\n",
    "df.groupby('Agency')[['Base Salary']].mean()\n"
   ]
  },
  {
   "cell_type": "code",
   "execution_count": null,
   "id": "1ee7b537-9244-4efb-a66e-6560953d95e0",
   "metadata": {},
   "outputs": [],
   "source": [
    "# Who pays the most?  Top 10\n",
    "df.groupby('Agency')[['Base Salary']].mean().sort_values(by='Base Salary', ascending=False)[:10]"
   ]
  },
  {
   "cell_type": "code",
   "execution_count": null,
   "id": "8efd5970-1210-49eb-9584-2ca280bca71b",
   "metadata": {},
   "outputs": [],
   "source": [
    "# Who pays the least?  Bottom 10\n",
    "df.groupby('Agency')[['Base Salary']].mean().sort_values(by='Base Salary', ascending=False)[-10:]"
   ]
  },
  {
   "cell_type": "code",
   "execution_count": null,
   "id": "8f28e1e8-ba59-4897-9589-09dc5fa941fe",
   "metadata": {},
   "outputs": [],
   "source": [
    "# By job title - Who pays the most?  Top 10\n",
    "df.groupby('Title')[['Base Salary']].mean().sort_values(by='Base Salary', ascending=False)[:10]"
   ]
  },
  {
   "cell_type": "code",
   "execution_count": null,
   "id": "db4b7118-a781-4f98-8c69-f0eb18203f5d",
   "metadata": {},
   "outputs": [],
   "source": [
    "# By job title - Who pays the least?  Top 10\n",
    "df.groupby('Title')[['Base Salary']].mean().sort_values(by='Base Salary', ascending=False)[-10:]"
   ]
  },
  {
   "cell_type": "code",
   "execution_count": null,
   "id": "64a65bbf-c159-4925-b0b9-d80b47ecb48d",
   "metadata": {},
   "outputs": [],
   "source": [
    "# What about professors?\n",
    "df[df['Title']=='PROFESSOR'].groupby('Agency')[['Base Salary']].mean().sort_values(by='Base Salary', ascending=False)"
   ]
  },
  {
   "cell_type": "code",
   "execution_count": null,
   "id": "dd04f36b-1f9e-4946-92cd-28ab868e4d7e",
   "metadata": {},
   "outputs": [],
   "source": []
  }
 ],
 "metadata": {
  "kernelspec": {
   "display_name": "Python 3",
   "language": "python",
   "name": "python3"
  },
  "language_info": {
   "codemirror_mode": {
    "name": "ipython",
    "version": 3
   },
   "file_extension": ".py",
   "mimetype": "text/x-python",
   "name": "python",
   "nbconvert_exporter": "python",
   "pygments_lexer": "ipython3",
   "version": "3.8.8"
  }
 },
 "nbformat": 4,
 "nbformat_minor": 5
}
