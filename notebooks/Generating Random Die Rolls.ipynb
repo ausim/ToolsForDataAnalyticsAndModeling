{
 "cells": [
  {
   "cell_type": "markdown",
   "metadata": {},
   "source": [
    "# Generating Random Die Rolls\n",
    "\n",
    "A simple Notebook to demonstrate the use of Python in interactive and script modes. \n",
    "\n",
    "8/20/2019 - Jeff Smith"
   ]
  },
  {
   "cell_type": "code",
   "execution_count": 1,
   "metadata": {},
   "outputs": [],
   "source": [
    "import numpy as np"
   ]
  },
  {
   "cell_type": "code",
   "execution_count": null,
   "metadata": {},
   "outputs": [],
   "source": [
    "# Generate 10,000 random die rolls and compute the mean and std. dev.\n",
    "rolls = np.random.randint(1, 7, 10000)\n",
    "np.mean(rolls), np.std(rolls)"
   ]
  },
  {
   "cell_type": "code",
   "execution_count": null,
   "metadata": {},
   "outputs": [],
   "source": [
    "# count the number of observations of j\n",
    "j = 2\n",
    "list(rolls).count(j)"
   ]
  },
  {
   "cell_type": "code",
   "execution_count": null,
   "metadata": {},
   "outputs": [],
   "source": [
    "# Create and display a list of all count values\n",
    "[list(rolls).count(j) for j in range(1, 7)]"
   ]
  },
  {
   "cell_type": "code",
   "execution_count": null,
   "metadata": {},
   "outputs": [],
   "source": [
    "# calculate the proportions\n",
    "[list(rolls).count(j)/10000 for j in range(1, 7)]"
   ]
  },
  {
   "cell_type": "code",
   "execution_count": 2,
   "metadata": {},
   "outputs": [
    {
     "name": "stdout",
     "output_type": "stream",
     "text": [
      "C:\\Users\\jsmith\\Documents\\GitHub\\ToolsForDataAnalyticsAndModeling\\notebooks\n"
     ]
    }
   ],
   "source": [
    "# What is the current working directory?\n",
    "import os\n",
    "print(os.getcwd())\n",
    "# the Python scripts are up one level then to code\\python"
   ]
  },
  {
   "cell_type": "code",
   "execution_count": 3,
   "metadata": {},
   "outputs": [
    {
     "name": "stdout",
     "output_type": "stream",
     "text": [
      "Mean: 3.500; Std. Dev.: 1.708\n",
      "[1667, 1675, 1646, 1672, 1681, 1659]\n",
      "[0.1667, 0.1675, 0.1646, 0.1672, 0.1681, 0.1659]\n"
     ]
    }
   ],
   "source": [
    "# execute an external script\n",
    "%run \"..\\code\\python\\random_rolls.py\""
   ]
  },
  {
   "cell_type": "code",
   "execution_count": null,
   "metadata": {},
   "outputs": [],
   "source": [
    "for j in range(5):\n",
    "    %run \"..\\code\\python\\random_rolls.py\"\n",
    "    print(\" \")"
   ]
  },
  {
   "cell_type": "code",
   "execution_count": null,
   "metadata": {},
   "outputs": [],
   "source": [
    "#\n",
    "# Code from random_rolls.py\n",
    "#\n",
    "import numpy as np\n",
    "\n",
    "reps = 5000\n",
    "rolls = np.random.randint(1, 7, reps)\n",
    "print(\"Simulating {:,d} die rolls\".format(reps))\n",
    "print(\"Mean: {:.3f}; Std. Dev.: {:.3f}\".format(np.mean(rolls), np.std(rolls)))\n",
    "print([list(rolls).count(j) for j in range(1, 7)])\n",
    "print([list(rolls).count(j)/reps for j in range(1, 7)])\n"
   ]
  },
  {
   "cell_type": "code",
   "execution_count": null,
   "metadata": {},
   "outputs": [],
   "source": []
  }
 ],
 "metadata": {
  "kernelspec": {
   "display_name": "Python 3 (ipykernel)",
   "language": "python",
   "name": "python3"
  },
  "language_info": {
   "codemirror_mode": {
    "name": "ipython",
    "version": 3
   },
   "file_extension": ".py",
   "mimetype": "text/x-python",
   "name": "python",
   "nbconvert_exporter": "python",
   "pygments_lexer": "ipython3",
   "version": "3.8.13"
  }
 },
 "nbformat": 4,
 "nbformat_minor": 4
}
