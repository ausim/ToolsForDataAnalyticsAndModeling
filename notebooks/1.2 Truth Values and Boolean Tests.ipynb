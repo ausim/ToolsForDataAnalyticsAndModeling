{
 "cells": [
  {
   "cell_type": "markdown",
   "metadata": {},
   "source": [
    "# 1.2 Truth Values and Boolean Tests\n",
    "\n",
    "Note - previous classes have struggled with this material.  It's important and can be confusing at first.  These concepts are critical for *decision-making* -- Primary *selection* mechanism and *repetition* control (i.e., loop conditions).\n"
   ]
  },
  {
   "cell_type": "markdown",
   "metadata": {},
   "source": [
    "All Python objects have an inherent *Boolean* value.\n",
    "-  Any nonzero or nonempty object is *True*\n",
    "-  Zero numbers, empty bojects, and the special object *None* are considered *False*\n",
    "\n",
    "*bool(arg)* is a built-in function to test the Boolean value of an argument (expression).\n",
    "\n",
    "Other rules/behaviors:\n",
    "- Comparisons and equality tests are applied recursively to data structures.\n",
    "- Comparisons and equality tests return True or False (custom versions of 1 and 0).\n",
    "- Boolean and and or operators return a true or false operand object.\n",
    "- Boolean operators stop evaluating (“short circuit”) as soon as a result is known.\n"
   ]
  },
  {
   "cell_type": "code",
   "execution_count": null,
   "metadata": {},
   "outputs": [],
   "source": [
    "# typical if statement\n",
    "#   try x = 12, 0, 'abc', [1, 2, 3], [], {'one':1}, (), range(0), range(10), None\n",
    "x = 12\n",
    "if x:\n",
    "    print('yep')\n",
    "else:\n",
    "    print('nope')\n",
    "x, bool(x), type(x)\n",
    "# Note that we usually think of an If Condition to be something like \"if this equals that\" or \"if\n",
    "# this is greater than/less than that.\"  Here, \"if x\" means \"if x is true\""
   ]
  },
  {
   "cell_type": "code",
   "execution_count": null,
   "metadata": {},
   "outputs": [],
   "source": [
    "# Multi-component condition - Change the 'and' to 'or' and vice-versa and notice the difference.  Also\n",
    "#  change x and/or y to be [], [1, 3], \"hello\", etc.\n",
    "#  Make sure you understand the difference before moving on ... it's both confusing and important!\n",
    "x = 12\n",
    "y = 10\n",
    "if x and y:\n",
    "    print('yep')\n",
    "else:\n",
    "    print('nope')\n",
    "x, y, x and y, bool(x and y), type(x and y)\n",
    "# again, our interpretation of the condition is \"if the expression (x and y) is true\""
   ]
  },
  {
   "cell_type": "code",
   "execution_count": null,
   "metadata": {},
   "outputs": [],
   "source": [
    "x = 10\n",
    "while x > 0:\n",
    "    print(x, bool(x))\n",
    "    x = x - 2\n",
    "print(\"Out of loop. x = {:}; bool(x) = {:}\".format(x, bool(x)))"
   ]
  },
  {
   "cell_type": "code",
   "execution_count": null,
   "metadata": {},
   "outputs": [],
   "source": [
    "# Try and then or\n",
    "x = 1\n",
    "y = 2\n",
    "x and y"
   ]
  },
  {
   "cell_type": "code",
   "execution_count": null,
   "metadata": {},
   "outputs": [],
   "source": [
    "# Ditto\n",
    "x = 0\n",
    "y = []\n",
    "x or y"
   ]
  },
  {
   "cell_type": "code",
   "execution_count": null,
   "metadata": {},
   "outputs": [],
   "source": [
    "x = {'a':[1, 2, 3], 'b':[]}\n",
    "bool(x['a'] and x['b'])"
   ]
  },
  {
   "cell_type": "code",
   "execution_count": null,
   "metadata": {},
   "outputs": [],
   "source": []
  },
  {
   "cell_type": "markdown",
   "metadata": {},
   "source": [
    "## Some Examples -- Try to Predict the result of each. \n",
    "\n",
    "Note that thie came from previous exams in my undergraduate course on Python programming -- lots of students miss these.  Make sure you understand them -- these are very important concepts for Python programming!"
   ]
  },
  {
   "cell_type": "code",
   "execution_count": null,
   "metadata": {},
   "outputs": [],
   "source": [
    "# Setting up the data first\n",
    "x = 5\n",
    "y = 6\n",
    "z = \"abc\"\n",
    "l = [1, 2, 3, 4]"
   ]
  },
  {
   "cell_type": "code",
   "execution_count": null,
   "metadata": {},
   "outputs": [],
   "source": [
    "x and y"
   ]
  },
  {
   "cell_type": "code",
   "execution_count": null,
   "metadata": {},
   "outputs": [],
   "source": [
    "x or y"
   ]
  },
  {
   "cell_type": "code",
   "execution_count": null,
   "metadata": {},
   "outputs": [],
   "source": [
    "x and z"
   ]
  },
  {
   "cell_type": "code",
   "execution_count": null,
   "metadata": {},
   "outputs": [],
   "source": [
    "x > 4"
   ]
  },
  {
   "cell_type": "code",
   "execution_count": null,
   "metadata": {},
   "outputs": [],
   "source": [
    "x > 4 and y == 6"
   ]
  },
  {
   "cell_type": "code",
   "execution_count": null,
   "metadata": {},
   "outputs": [],
   "source": [
    "x < 4 and y == 6"
   ]
  },
  {
   "cell_type": "code",
   "execution_count": null,
   "metadata": {},
   "outputs": [],
   "source": [
    "x > 4 or y == 6"
   ]
  },
  {
   "cell_type": "code",
   "execution_count": null,
   "metadata": {},
   "outputs": [],
   "source": [
    "x > 4 and y"
   ]
  },
  {
   "cell_type": "code",
   "execution_count": null,
   "metadata": {},
   "outputs": [],
   "source": [
    "x > 4 and z"
   ]
  },
  {
   "cell_type": "code",
   "execution_count": null,
   "metadata": {},
   "outputs": [],
   "source": [
    "x > 4 or z"
   ]
  },
  {
   "cell_type": "code",
   "execution_count": null,
   "metadata": {},
   "outputs": [],
   "source": [
    "x < 4 or z"
   ]
  },
  {
   "cell_type": "code",
   "execution_count": null,
   "metadata": {},
   "outputs": [],
   "source": [
    "(x or y) and len(l)"
   ]
  },
  {
   "cell_type": "code",
   "execution_count": null,
   "metadata": {},
   "outputs": [],
   "source": [
    "((x or y) and len(l)) and z"
   ]
  },
  {
   "cell_type": "code",
   "execution_count": null,
   "metadata": {},
   "outputs": [],
   "source": [
    "((x or y) and len(l)) or z"
   ]
  },
  {
   "cell_type": "code",
   "execution_count": null,
   "metadata": {},
   "outputs": [],
   "source": [
    "(x == y or l) or z"
   ]
  },
  {
   "cell_type": "code",
   "execution_count": null,
   "metadata": {},
   "outputs": [],
   "source": [
    "bool((x == y or l) or z)"
   ]
  },
  {
   "cell_type": "code",
   "execution_count": null,
   "metadata": {},
   "outputs": [],
   "source": [
    "# Boolean epxression in an assignment statement\n",
    "z = 3 and (x and y)\n",
    "z, x, y"
   ]
  },
  {
   "cell_type": "code",
   "execution_count": null,
   "metadata": {},
   "outputs": [],
   "source": [
    "z = 3 or (x and y)\n",
    "z, x, y"
   ]
  },
  {
   "cell_type": "code",
   "execution_count": null,
   "metadata": {},
   "outputs": [],
   "source": [
    "z = 3 and (x or y)\n",
    "z, x, y"
   ]
  },
  {
   "cell_type": "code",
   "execution_count": null,
   "metadata": {},
   "outputs": [],
   "source": []
  }
 ],
 "metadata": {
  "kernelspec": {
   "display_name": "Python 3 (ipykernel)",
   "language": "python",
   "name": "python3"
  },
  "language_info": {
   "codemirror_mode": {
    "name": "ipython",
    "version": 3
   },
   "file_extension": ".py",
   "mimetype": "text/x-python",
   "name": "python",
   "nbconvert_exporter": "python",
   "pygments_lexer": "ipython3",
   "version": "3.8.13"
  }
 },
 "nbformat": 4,
 "nbformat_minor": 4
}
