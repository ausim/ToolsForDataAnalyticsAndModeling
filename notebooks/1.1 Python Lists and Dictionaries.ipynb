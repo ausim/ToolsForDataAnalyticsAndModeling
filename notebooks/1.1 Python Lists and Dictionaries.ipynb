{
 "cells": [
  {
   "cell_type": "markdown",
   "metadata": {},
   "source": [
    "# 1.1 Python Lists and Dictionaries\n",
    "\n",
    "This section introduces Python lists, dictionaries and comprehensions.  The objects are foundational to Python and are used extensively."
   ]
  },
  {
   "cell_type": "markdown",
   "metadata": {},
   "source": [
    "## Introduction to Lists\n",
    "Lists are *sequences* of objects.  A *sequence* is a \"positionally ordered collection of other objects.\"  Lists can include any types of Python objects (and do not need to be homogeneous - i.e., object types can be different in the same list)."
   ]
  },
  {
   "cell_type": "code",
   "execution_count": null,
   "metadata": {},
   "outputs": [],
   "source": [
    "# Define a list and then show the list.  Note that the list contains objects of \n",
    "# different types (ints, floats, strings).\n",
    "l1 = [1, 2, 3, 17.24, 967, 45, \"dog\", 'cat', [1, 2, 3], {'one':1, 'two':2}]\n",
    "l1"
   ]
  },
  {
   "cell_type": "code",
   "execution_count": null,
   "metadata": {},
   "outputs": [],
   "source": [
    "# element referencing, i, -i, 0-based.\n",
    "l1[0], l1[1]"
   ]
  },
  {
   "cell_type": "code",
   "execution_count": null,
   "metadata": {},
   "outputs": [],
   "source": [
    "# and can be negative (-1 starts at the \"end\" of the list)\n",
    "l1[-1]"
   ]
  },
  {
   "cell_type": "code",
   "execution_count": null,
   "metadata": {},
   "outputs": [],
   "source": [
    "# Lists have \"iterators\" that allow you to easily iterate though the list elements\n",
    "# without using explicit indices\n",
    "for item in l1:\n",
    "    print(item)"
   ]
  },
  {
   "cell_type": "code",
   "execution_count": null,
   "metadata": {},
   "outputs": [],
   "source": [
    "# as compared to the traditional indexing method ...\n",
    "for j in range(len(l1)):\n",
    "    print(l1[j])"
   ]
  },
  {
   "cell_type": "code",
   "execution_count": null,
   "metadata": {},
   "outputs": [],
   "source": [
    "# List slicing - as with string slicing, the slice \n",
    "# icludes elements i, i+1, i+2, up to, but not including j (and is a separate list)\n",
    "l2 = l1[2:6]\n",
    "l2"
   ]
  },
  {
   "cell_type": "code",
   "execution_count": null,
   "metadata": {},
   "outputs": [],
   "source": [
    "# contatenation\n",
    "l3 = l1 + l2 + [86.4, 91.8, 'pony']\n",
    "l3"
   ]
  },
  {
   "cell_type": "code",
   "execution_count": null,
   "metadata": {},
   "outputs": [],
   "source": [
    "# repetition\n",
    "l4 = l3[:3]*3\n",
    "l4"
   ]
  },
  {
   "cell_type": "code",
   "execution_count": null,
   "metadata": {},
   "outputs": [],
   "source": [
    "# Nested lists - this is a \"list of lists.\"\n",
    "l2 = [[1, 2, 3], [4, 5, 6], [7, 8, 9]]\n",
    "l2"
   ]
  },
  {
   "cell_type": "code",
   "execution_count": null,
   "metadata": {},
   "outputs": [],
   "source": [
    "# this one and the previous one are equivalent -- which is clearer (visually)?\n",
    "l2 = [ [1, 2, 3]\n",
    "     , [4, 5, 6]\n",
    "     , [7, 8, 9]\n",
    "     ]\n",
    "l2"
   ]
  },
  {
   "cell_type": "code",
   "execution_count": null,
   "metadata": {},
   "outputs": [],
   "source": [
    "# to view the nested list (list of lists) in matrix form:\n",
    "for r in l2:\n",
    "    print(r)"
   ]
  },
  {
   "cell_type": "markdown",
   "metadata": {},
   "source": [
    "### List Mutability\n",
    "This is IMPORTANT and causes beginners problems.  Unlike simple objects, lists are *mutable* in Python."
   ]
  },
  {
   "cell_type": "code",
   "execution_count": null,
   "metadata": {},
   "outputs": [],
   "source": [
    "# Create a list and assign two references to that list\n",
    "l1 = [1, 2, 3]\n",
    "l2 = l1\n",
    "l1, l2"
   ]
  },
  {
   "cell_type": "code",
   "execution_count": null,
   "metadata": {},
   "outputs": [],
   "source": [
    "# Update the first element of l1\n",
    "l1[0] = \"The dog ate my homework.\"\n",
    "# Now show both lists.  \n",
    "l1, l2"
   ]
  },
  {
   "cell_type": "code",
   "execution_count": null,
   "metadata": {},
   "outputs": [],
   "source": [
    "# compare to the similar actions with simple objects (which are immutable)\n",
    "x = 123\n",
    "y = x\n",
    "x, y"
   ]
  },
  {
   "cell_type": "code",
   "execution_count": null,
   "metadata": {},
   "outputs": [],
   "source": [
    "x = \"The dog ate my homework.\"\n",
    "x, y"
   ]
  },
  {
   "cell_type": "code",
   "execution_count": null,
   "metadata": {},
   "outputs": [],
   "source": [
    "# compare with this version (reset the two lists first)\n",
    "l1 = [1, 2, 3]\n",
    "l2 = l1\n",
    "l1, l2"
   ]
  },
  {
   "cell_type": "code",
   "execution_count": null,
   "metadata": {},
   "outputs": [],
   "source": [
    "# Why was L2 changed last time but not this time?\n",
    "l1 = ['a', 'b']\n",
    "l1, l2"
   ]
  },
  {
   "cell_type": "markdown",
   "metadata": {},
   "source": [
    "### Sample List/Sequence Functions/Methods"
   ]
  },
  {
   "cell_type": "code",
   "execution_count": null,
   "metadata": {},
   "outputs": [],
   "source": [
    "# append\n",
    "l = [1, 2, 3, 'cow']\n",
    "l.append(0)\n",
    "l"
   ]
  },
  {
   "cell_type": "code",
   "execution_count": null,
   "metadata": {},
   "outputs": [],
   "source": [
    "# pop\n",
    "x = l.pop()\n",
    "l, x"
   ]
  },
  {
   "cell_type": "code",
   "execution_count": null,
   "metadata": {},
   "outputs": [],
   "source": [
    "l.remove?"
   ]
  },
  {
   "cell_type": "code",
   "execution_count": null,
   "metadata": {},
   "outputs": [],
   "source": [
    "# remove - try l.remove? and enter (to see the help)\n",
    "l.remove(3)\n",
    "l"
   ]
  },
  {
   "cell_type": "code",
   "execution_count": null,
   "metadata": {},
   "outputs": [],
   "source": [
    "#sort - Note that in the default version (with 'cow' in the list), you'll get an error\n",
    "#  since the default sorting can't process numbers and strings together.  We will revisit\n",
    "#  this limitation later.\n",
    "l.sort()\n",
    "l"
   ]
  },
  {
   "cell_type": "code",
   "execution_count": null,
   "metadata": {},
   "outputs": [],
   "source": [
    "l2 = [1, 22, 3, 9, 2]\n",
    "l2.sort()\n",
    "l2"
   ]
  },
  {
   "cell_type": "code",
   "execution_count": null,
   "metadata": {},
   "outputs": [],
   "source": [
    "l"
   ]
  },
  {
   "cell_type": "code",
   "execution_count": null,
   "metadata": {},
   "outputs": [],
   "source": [
    "# reverse\n",
    "l.reverse()\n",
    "l"
   ]
  },
  {
   "cell_type": "markdown",
   "metadata": {},
   "source": [
    "### Range Objects and Lists\n",
    "\n",
    "A nice (short) discussion on Python 3 iterators - https://stackoverflow.com/questions/22147757/iterators-in-python-3"
   ]
  },
  {
   "cell_type": "code",
   "execution_count": null,
   "metadata": {},
   "outputs": [],
   "source": [
    "# syntax: range([start], stop [, step])\n",
    "# the brackets mean that start and step are optional arguments\n",
    "r = range(10)\n",
    "r, list(r)"
   ]
  },
  {
   "cell_type": "code",
   "execution_count": null,
   "metadata": {},
   "outputs": [],
   "source": [
    "r = range(7, 24, 2)\n",
    "r, list(r)"
   ]
  },
  {
   "cell_type": "code",
   "execution_count": null,
   "metadata": {},
   "outputs": [],
   "source": [
    "# Range objects are often used as iterators for loop operations\n",
    "for j in range(5):\n",
    "    print(j)"
   ]
  },
  {
   "cell_type": "code",
   "execution_count": null,
   "metadata": {},
   "outputs": [],
   "source": [
    "str = \"The dog ate my homework.\"\n",
    "for j in range(len(str)):\n",
    "    print (str[j])\n",
    "# What exactly does the expression range(len(str)) return?"
   ]
  },
  {
   "cell_type": "code",
   "execution_count": null,
   "metadata": {},
   "outputs": [],
   "source": [
    "# Note that since strings are sequences, they also have iterators\n",
    "for char in str:\n",
    "    print(char)"
   ]
  },
  {
   "cell_type": "code",
   "execution_count": null,
   "metadata": {},
   "outputs": [],
   "source": [
    "l = [\"one\", 2, \"three\", 4, 'Five']\n",
    "for j in range(len(l)):\n",
    "    print(l[j])"
   ]
  },
  {
   "cell_type": "code",
   "execution_count": null,
   "metadata": {},
   "outputs": [],
   "source": [
    "# Note that list objects also have built-in iterators\n",
    "for item in l:\n",
    "    print(item)"
   ]
  },
  {
   "cell_type": "markdown",
   "metadata": {},
   "source": [
    "## Introduction to List Comprehensions\n",
    "This is an **important** concept in Python world -- comprehensions are your friends!"
   ]
  },
  {
   "cell_type": "code",
   "execution_count": null,
   "metadata": {},
   "outputs": [],
   "source": [
    "# Define a matrix\n",
    "m = [ [1, 2, 3]\n",
    "    , [4, 5, 6]\n",
    "    , [7, 8, 9]\n",
    "    ]\n",
    "# Now, m is a list of 3 lists\n",
    "# Equivalent to m = [[1, 2, 3], [4,5,6],[7,8,9]] (A list of three three-element lists)\n",
    "m"
   ]
  },
  {
   "cell_type": "code",
   "execution_count": null,
   "metadata": {},
   "outputs": [],
   "source": [
    "# Or in more familar matrix form:\n",
    "for r in m:\n",
    "    print(r)"
   ]
  },
  {
   "cell_type": "code",
   "execution_count": null,
   "metadata": {},
   "outputs": [],
   "source": [
    "# To extract the third row (as a list)\n",
    "m[2]"
   ]
  },
  {
   "cell_type": "code",
   "execution_count": null,
   "metadata": {},
   "outputs": [],
   "source": [
    "# the second element of the third row\n",
    "m[2][1]"
   ]
  },
  {
   "cell_type": "code",
   "execution_count": null,
   "metadata": {},
   "outputs": [],
   "source": [
    "# extract the third column using a standard programatic approach:\n",
    "c = []\n",
    "for i in [0, 1, 2]:\n",
    "    c.append(m[i][2])\n",
    "c"
   ]
  },
  {
   "cell_type": "code",
   "execution_count": null,
   "metadata": {},
   "outputs": [],
   "source": [
    "# more generally (works with any length (number of rows) matrix):\n",
    "c = []\n",
    "for i in range(len(m)):\n",
    "    c.append(m[i][2])\n",
    "c"
   ]
  },
  {
   "cell_type": "code",
   "execution_count": null,
   "metadata": {},
   "outputs": [],
   "source": [
    "# or, y using the list iterator rather than an index:\n",
    "c = []\n",
    "for r in m:\n",
    "    c.append(r[2])\n",
    "c"
   ]
  },
  {
   "cell_type": "code",
   "execution_count": null,
   "metadata": {},
   "outputs": [],
   "source": [
    "# or, equivalently - use a list comprehension\n",
    "c = [r[2] for r in m]\n",
    "c"
   ]
  },
  {
   "cell_type": "code",
   "execution_count": null,
   "metadata": {},
   "outputs": [],
   "source": [
    "# or\n",
    "c = [m[i][2] for i in range(len(m))]\n",
    "c"
   ]
  },
  {
   "cell_type": "code",
   "execution_count": null,
   "metadata": {},
   "outputs": [],
   "source": [
    "# to extract the diagonal (upper left to lower right)\n",
    "[m[i][i] for i in [0, 1, 2]]"
   ]
  },
  {
   "cell_type": "code",
   "execution_count": null,
   "metadata": {},
   "outputs": [],
   "source": [
    "# more generally ... (what does this mean \"more generally?\")\n",
    "[m[i][i] for i in range(len(m))]"
   ]
  },
  {
   "cell_type": "code",
   "execution_count": null,
   "metadata": {},
   "outputs": [],
   "source": [
    "# even elements of the second column\n",
    "[r[1] for r in m if r[1] % 2 == 0]\n",
    "# added an \"if condition\" to the comprehension"
   ]
  },
  {
   "cell_type": "code",
   "execution_count": null,
   "metadata": {},
   "outputs": [],
   "source": [
    "# odd elements of the second column\n",
    "[r[1] for r in m if r[1] % 2]"
   ]
  },
  {
   "cell_type": "code",
   "execution_count": null,
   "metadata": {},
   "outputs": [],
   "source": [
    "# 18 random die rolls\n",
    "import random\n",
    "[random.randint(1, 6) for i in range(18)]\n",
    "# note that the iterator (i) is only used to iterate and isn't used in the expression."
   ]
  },
  {
   "cell_type": "code",
   "execution_count": null,
   "metadata": {},
   "outputs": [],
   "source": [
    "# 100 \"craps\" rolls (rolling a pair of dice in each roll)\n",
    "rolls = [[random.randint(1,6), random.randint(1,6)] for i in range(100)]\n",
    "rolls"
   ]
  },
  {
   "cell_type": "code",
   "execution_count": null,
   "metadata": {},
   "outputs": [],
   "source": [
    "# Or, using Numpy (which is vectorized)\n",
    "import numpy as np\n",
    "rolls = [np.random.randint(1, 7, 2) for i in range(100)]\n",
    "rolls\n",
    "# notice that Numpy uses [low, high) and Random uses [Low, High] -- Look at the help to see this."
   ]
  },
  {
   "cell_type": "code",
   "execution_count": null,
   "metadata": {
    "tags": []
   },
   "outputs": [],
   "source": [
    "# Suppose you'd like to estimate the probability of rolling a '7' ...\n",
    "#  (true prob. is 6/36=.1667)\n",
    "import numpy as np\n",
    "obs = 50000\n",
    "p = len([r for r in [np.random.randint(1, 7, 2) for i in range(obs)] if sum(r) == 7])/obs\n",
    "#\n",
    "# Or, if you want to see it step-by-step - remember, think inside-to-outside, left-to-right.\n",
    "#rolls = [np.random.randint(1, 7, 2) for i in range(obs)]\n",
    "#sevens = [r for r in rolls if sum(r) == 7]\n",
    "#p = len(sevens)/obs\n",
    "\n",
    "\"Estimate or prob. based on {:,d} samples: {:.4f}\".format(obs,p)"
   ]
  },
  {
   "cell_type": "markdown",
   "metadata": {},
   "source": [
    "### Sample List-based Data Structure and Accessing/Processing/Comprehensions"
   ]
  },
  {
   "cell_type": "code",
   "execution_count": null,
   "metadata": {},
   "outputs": [],
   "source": [
    "# Slide 16 of 03 Introduction to Python.pptx\n",
    "#\n",
    "# creating a list to define a person\n",
    "person = [\"Tom Howard\", 54, 6.0]\n",
    "\n",
    "# creating a list of lists to define a team\n",
    "people = [\n",
    "    [\"Tom Howard\",          54,  6.0],\n",
    "    [\"Jane Grimm\",          19,  4.9],\n",
    "    [\"Sam Brown\",           25,  6.2],\n",
    "    [\"Sarah Joan Spade\",    26, 5.25],\n",
    "    [\"Blaine Jones\",        62,  5.8],\n",
    "    [\"Devin Callahan\",      32, 5.92],\n",
    "]"
   ]
  },
  {
   "cell_type": "code",
   "execution_count": null,
   "metadata": {},
   "outputs": [],
   "source": [
    "person"
   ]
  },
  {
   "cell_type": "code",
   "execution_count": null,
   "metadata": {},
   "outputs": [],
   "source": [
    "people"
   ]
  },
  {
   "cell_type": "code",
   "execution_count": null,
   "metadata": {},
   "outputs": [],
   "source": [
    "# How many people on the team\n",
    "len(people)"
   ]
  },
  {
   "cell_type": "code",
   "execution_count": null,
   "metadata": {},
   "outputs": [],
   "source": [
    "# Print each person's name and age\n",
    "for p in people:\n",
    "    print(\"{:} is {:} years old\".format(p[0], p[1]))\n",
    "# In this statement, each p represents a \"record\" in the dataset and\n",
    "# each element of p (it is a list) is an \"attribute\""
   ]
  },
  {
   "cell_type": "code",
   "execution_count": null,
   "metadata": {},
   "outputs": [],
   "source": [
    "# Create a list of all names\n",
    "[p[0] for p in people]"
   ]
  },
  {
   "cell_type": "code",
   "execution_count": null,
   "metadata": {},
   "outputs": [],
   "source": [
    "# Create a list of all last names\n",
    "[p[0].split()[-1] for p in people]"
   ]
  },
  {
   "cell_type": "code",
   "execution_count": null,
   "metadata": {},
   "outputs": [],
   "source": [
    "# Create a list of all ages\n",
    "[p[1] for p in people]"
   ]
  },
  {
   "cell_type": "code",
   "execution_count": null,
   "metadata": {},
   "outputs": [],
   "source": [
    "# Compute the average age\n",
    "sum([p[1] for p in people])/float(len(people))"
   ]
  },
  {
   "cell_type": "code",
   "execution_count": null,
   "metadata": {},
   "outputs": [],
   "source": [
    "# Using a more human-friendly format\n",
    "\"The average age of the team members is {:.1f} years.\".format(\n",
    "    sum([p[1] for p in people])/float(len(people))\n",
    ")\n",
    "# Note that the previous examples create anonymous objects -- nothing\n",
    "# persists after dispalaying the expressions and the memory is \n",
    "# marked for garbage collection."
   ]
  },
  {
   "cell_type": "code",
   "execution_count": null,
   "metadata": {},
   "outputs": [],
   "source": [
    "# Find the oldest person.  Go though step-by-step, uncommenting lines to\n",
    "# see the progress.\n",
    "# max age\n",
    "ages =[p[1] for p in people] \n",
    "max(ages)"
   ]
  },
  {
   "cell_type": "code",
   "execution_count": null,
   "metadata": {},
   "outputs": [],
   "source": [
    "# which is max? - 62\n",
    "ages.index(62)"
   ]
  },
  {
   "cell_type": "code",
   "execution_count": null,
   "metadata": {},
   "outputs": [],
   "source": [
    "# who - person 4\n",
    "people[4][0]"
   ]
  },
  {
   "cell_type": "code",
   "execution_count": null,
   "metadata": {},
   "outputs": [],
   "source": [
    "# all together\n",
    "people[[p[1] for p in people].index(max([p[1] for p in people]))][0]"
   ]
  },
  {
   "cell_type": "code",
   "execution_count": null,
   "metadata": {},
   "outputs": [],
   "source": [
    "# Find the youngest person\n",
    "people[[p[1] for p in people].index(min([p[1] for p in people]))][0]"
   ]
  },
  {
   "cell_type": "code",
   "execution_count": null,
   "metadata": {},
   "outputs": [],
   "source": [
    "# Supposed that we had defined variables to store the \"column numbers\" -- the\n",
    "#  indices into the internal lists for the given data items\n",
    "name   = 0\n",
    "age    = 1\n",
    "height = 2\n",
    "# Now, we can use these instead of the literals in all of the expressions\n",
    "# For example.  \n",
    "people[[p[age] for p in people].index(max([p[age] for p in people]))][name]\n",
    "# now it's a little clearer that we're looking for the name of the oldest person\n",
    "# Further, if we add or remove columns from the data set, can simply update the\n",
    "# index variables and all of the expression code will still work as expected.\n"
   ]
  },
  {
   "cell_type": "markdown",
   "metadata": {},
   "source": [
    "#### Student question - what if there are multiple people with the same min/max age?"
   ]
  },
  {
   "cell_type": "code",
   "execution_count": null,
   "metadata": {},
   "outputs": [],
   "source": [
    "# What if multiple people have the same min/max age?\n",
    "people = [\n",
    "    [\"Tom Howard\",          19,  6.0],\n",
    "    [\"Jane Grimm\",          19,  4.9],\n",
    "    [\"Sam Brown\",           25,  6.2],\n",
    "    [\"Sarah Joan Spade\",    26, 5.25],\n",
    "    [\"Blaine Jones\",        62,  5.8],\n",
    "    [\"Devin Callahan\",      62, 5.92],\n",
    "]"
   ]
  },
  {
   "cell_type": "code",
   "execution_count": null,
   "metadata": {},
   "outputs": [],
   "source": [
    "# Our previous statement:\n",
    "people[[p[1] for p in people].index(max([p[1] for p in people]))][0]"
   ]
  },
  {
   "cell_type": "code",
   "execution_count": null,
   "metadata": {},
   "outputs": [],
   "source": [
    "# Only finds one of the two.  Why and which one?\n",
    "people.index?"
   ]
  },
  {
   "cell_type": "code",
   "execution_count": null,
   "metadata": {},
   "outputs": [],
   "source": [
    "# Need something that supports multiple occurences.  One (of many possible) example(s) is:\n",
    "[p[0] for p in people if p[1] == max([p[1] for p in people])]"
   ]
  },
  {
   "cell_type": "code",
   "execution_count": null,
   "metadata": {},
   "outputs": [],
   "source": [
    "# min age\n",
    "[p[0] for p in people if p[1] == min([p[1] for p in people])]"
   ]
  },
  {
   "cell_type": "markdown",
   "metadata": {},
   "source": [
    "### Dictionaries"
   ]
  },
  {
   "cell_type": "code",
   "execution_count": null,
   "metadata": {},
   "outputs": [],
   "source": [
    "# A dictionary is similar to a list, but uses a 'key' rather than an integer\n",
    "# index to specify 'location' in the dictionary.\n",
    "# Dictionaries are very useful, but there's usually a bit of a learning curve\n",
    "d = {\"a\": 123, \"b\": 345, \"c\": 789}\n",
    "d"
   ]
  },
  {
   "cell_type": "code",
   "execution_count": null,
   "metadata": {},
   "outputs": [],
   "source": [
    "d['a'], d['b'], d['c']"
   ]
  },
  {
   "cell_type": "code",
   "execution_count": null,
   "metadata": {},
   "outputs": [],
   "source": [
    "my_key = 'a'\n",
    "d[my_key]"
   ]
  },
  {
   "cell_type": "code",
   "execution_count": null,
   "metadata": {},
   "outputs": [],
   "source": [
    "for k in ['a', 'b','c']:\n",
    "    print(d[k])"
   ]
  },
  {
   "cell_type": "code",
   "execution_count": null,
   "metadata": {},
   "outputs": [],
   "source": [
    "# all of the keys\n",
    "d.keys()"
   ]
  },
  {
   "cell_type": "code",
   "execution_count": null,
   "metadata": {},
   "outputs": [],
   "source": [
    "# as a list\n",
    "list(d.keys())"
   ]
  },
  {
   "cell_type": "code",
   "execution_count": null,
   "metadata": {},
   "outputs": [],
   "source": [
    "# iterator -- note that the key is the iterator\n",
    "for k in d:\n",
    "    print(d[k])"
   ]
  },
  {
   "cell_type": "code",
   "execution_count": null,
   "metadata": {},
   "outputs": [],
   "source": [
    "d.values()"
   ]
  },
  {
   "cell_type": "code",
   "execution_count": null,
   "metadata": {},
   "outputs": [],
   "source": [
    "list(d.values())"
   ]
  },
  {
   "cell_type": "code",
   "execution_count": null,
   "metadata": {},
   "outputs": [],
   "source": [
    "# a dictionary of lists\n",
    "dl = { \n",
    "     'one' : [1, 2, 3, 4, 5]\n",
    "    ,'two' : [6, 7, 8, 9, 10]\n",
    "    ,'three' : [127, 96, 455, 32, 5] \n",
    "}\n",
    "dl"
   ]
  },
  {
   "cell_type": "code",
   "execution_count": null,
   "metadata": {},
   "outputs": [],
   "source": [
    "for key in dl:\n",
    "    print(dl[key])"
   ]
  },
  {
   "cell_type": "code",
   "execution_count": null,
   "metadata": {},
   "outputs": [],
   "source": [
    "for key in dl:\n",
    "    for e in dl[key]:\n",
    "        print(e)"
   ]
  },
  {
   "cell_type": "code",
   "execution_count": null,
   "metadata": {},
   "outputs": [],
   "source": [
    "student = {'name': 'Joe', 'class':'sr', 'grade':92}\n",
    "student"
   ]
  },
  {
   "cell_type": "code",
   "execution_count": null,
   "metadata": {},
   "outputs": [],
   "source": [
    "student['grade']"
   ]
  },
  {
   "cell_type": "code",
   "execution_count": null,
   "metadata": {},
   "outputs": [],
   "source": [
    "# Nested dictionaries\n",
    "students = {\n",
    "    'Jane Doe'   : {'ID':'b0001','Gender': 'F','HW1':95,'HW2':87, 'HW3':92,'Exam1': 88,'Exam2':93,'FinalExam':90},\n",
    "    'John Blue'  : {'ID':'b0002','Gender': 'M','HW1':55,'HW2':76, 'HW3':89,'Exam1': 77,'Exam2':82,'FinalExam':80},\n",
    "    'Kim Tester' : {'ID':'b0003','Gender': 'F','HW1':80,'HW2':75, 'HW3':65,'Exam1': 70,'Exam2':75,'FinalExam':80},\n",
    "    'Larry Black': {'ID':'b0004','Gender': 'M','HW1':90,'HW2':90, 'HW3':92,'Exam1': 95,'Exam2':85,'FinalExam':94},\n",
    "    'Susan White': {'ID':'b0005','Gender': 'F','HW1':65,'HW2':52, 'HW3':85,'Exam1': 45,'Exam2':80,'FinalExam':82}\n",
    "    }\n"
   ]
  },
  {
   "cell_type": "code",
   "execution_count": null,
   "metadata": {},
   "outputs": [],
   "source": [
    "# show all students\n",
    "for student in students:\n",
    "    print (student)"
   ]
  },
  {
   "cell_type": "code",
   "execution_count": null,
   "metadata": {},
   "outputs": [],
   "source": [
    "# Final Exams\n",
    "for student in students:\n",
    "    print (\"{:} made a {:d} on the final exam\".format(student, students[student]['FinalExam']))"
   ]
  },
  {
   "cell_type": "code",
   "execution_count": null,
   "metadata": {},
   "outputs": [],
   "source": [
    "# Scores on the final exam using a comprehension\n",
    "fe = [students[k]['FinalExam'] for k in students]\n",
    "fe"
   ]
  },
  {
   "cell_type": "code",
   "execution_count": null,
   "metadata": {},
   "outputs": [],
   "source": [
    "# average score\n",
    "sum(fe)/len(students)"
   ]
  },
  {
   "cell_type": "code",
   "execution_count": null,
   "metadata": {},
   "outputs": [],
   "source": [
    "# All together\n",
    "sum([students[k]['FinalExam'] for k in students])/len(students)"
   ]
  },
  {
   "cell_type": "code",
   "execution_count": null,
   "metadata": {},
   "outputs": [],
   "source": [
    "# Human-friendly\n",
    "\"The average score on the final exam (for {:} students) is {:.1f}\".format(\n",
    "    len(students), sum([students[k]['FinalExam'] for k in students])/len(students))"
   ]
  },
  {
   "cell_type": "markdown",
   "metadata": {},
   "source": [
    "See the companion Spyder Python script \"lists_dictionaries.py\" for more more data structure examples."
   ]
  },
  {
   "cell_type": "code",
   "execution_count": null,
   "metadata": {},
   "outputs": [],
   "source": []
  }
 ],
 "metadata": {
  "kernelspec": {
   "display_name": "Python 3",
   "language": "python",
   "name": "python3"
  },
  "language_info": {
   "codemirror_mode": {
    "name": "ipython",
    "version": 3
   },
   "file_extension": ".py",
   "mimetype": "text/x-python",
   "name": "python",
   "nbconvert_exporter": "python",
   "pygments_lexer": "ipython3",
   "version": "3.8.5"
  }
 },
 "nbformat": 4,
 "nbformat_minor": 4
}
