{
 "cells": [
  {
   "cell_type": "markdown",
   "metadata": {},
   "source": [
    "# Pandas Time Series Modeling\n",
    "This notebook focuses on handling date/time values in Pandas.\n",
    "\n",
    "Two reference notebooks: \n",
    "1. Notebook 03.11 Working with Time Series from VanderPlas' book\n",
    "2. Notebook 1.4 Date and Time Handling from our class repository"
   ]
  },
  {
   "cell_type": "code",
   "execution_count": null,
   "metadata": {},
   "outputs": [],
   "source": [
    "%matplotlib inline\n",
    "import datetime\n",
    "import numpy as np\n",
    "import pandas as pd\n",
    "import matplotlib.pyplot as plt\n",
    "np.__version__, pd.__version__"
   ]
  },
  {
   "cell_type": "code",
   "execution_count": null,
   "metadata": {},
   "outputs": [],
   "source": [
    "# Consider our US Economic Data dataset\n",
    "df = pd.read_csv(\"../data/10_us_economic_data.csv\")\n",
    "df.head()"
   ]
  },
  {
   "cell_type": "code",
   "execution_count": null,
   "metadata": {},
   "outputs": [],
   "source": [
    "# Now if we want plot using the date values .... Looks ok, but what if\n",
    "# we want to zoom on specific dates -- i.e., do some date math?\n",
    "df.plot(x=\"Month\", y=\"JobsAdded\")"
   ]
  },
  {
   "cell_type": "code",
   "execution_count": null,
   "metadata": {},
   "outputs": [],
   "source": [
    "# The Month values look like dates (month/year), but what's the datatype?\n",
    "type(df['Month'].iloc[0])"
   ]
  },
  {
   "cell_type": "code",
   "execution_count": null,
   "metadata": {},
   "outputs": [],
   "source": [
    "# let's grab one and see what we can do with it\n",
    "row = 19\n",
    "date_str = df['Month'].iloc[row]\n",
    "date_str, type(date_str)"
   ]
  },
  {
   "cell_type": "code",
   "execution_count": null,
   "metadata": {},
   "outputs": [],
   "source": [
    "# We can convert it to a Datetime object using the Python datetime module\n",
    "date_dtg = datetime.datetime.strptime(date_str, \"%m/%Y\")\n",
    "# Use the default print\n",
    "print(date_dtg)\n",
    "# Show the object and type\n",
    "date_dtg, type(date_dtg)"
   ]
  },
  {
   "cell_type": "code",
   "execution_count": null,
   "metadata": {},
   "outputs": [],
   "source": [
    "# Assuming all the date strings are nice, we could use the parse_date parameter:\n",
    "df = pd.read_csv(\"../data/10_us_economic_data.csv\", parse_dates=['Month'])\n",
    "df.head()"
   ]
  },
  {
   "cell_type": "code",
   "execution_count": null,
   "metadata": {},
   "outputs": [],
   "source": [
    "# Now look at the Month column ...\n",
    "type(df['Month'].iloc[0])"
   ]
  },
  {
   "cell_type": "code",
   "execution_count": null,
   "metadata": {},
   "outputs": [],
   "source": [
    "df['Month'].iloc[12].strftime(\"%B %d, %Y\")"
   ]
  },
  {
   "cell_type": "code",
   "execution_count": null,
   "metadata": {},
   "outputs": [],
   "source": [
    "# Now look at the plot with the month as the x axis\n",
    "df.plot(x=\"Month\", y=\"JobsAdded\")"
   ]
  },
  {
   "cell_type": "code",
   "execution_count": null,
   "metadata": {},
   "outputs": [],
   "source": [
    "# We can do date/time math, now\n",
    "# add a time component to a datetime\n",
    "df['Month'].iloc[12] + datetime.timedelta(hours=5)"
   ]
  },
  {
   "cell_type": "code",
   "execution_count": null,
   "metadata": {},
   "outputs": [],
   "source": [
    "# add a new column with datetime\n",
    "df['DateTime'] = df['Month']\n",
    "df.head()"
   ]
  },
  {
   "cell_type": "code",
   "execution_count": null,
   "metadata": {},
   "outputs": [],
   "source": [
    "# Since we don't have times, let's assign random times for the given day\n",
    "for j in range(len(df)):\n",
    "    df.at[j, 'DateTime'] = df.at[j,'DateTime'] + datetime.timedelta(minutes=np.random.randint(24*60))\n",
    "df.head()"
   ]
  },
  {
   "cell_type": "code",
   "execution_count": null,
   "metadata": {},
   "outputs": [],
   "source": [
    "# Revist formatting\n",
    "date_dtg = df['DateTime'].iloc[3]\n",
    "fmts = [\"%c\",\"%B %d, %Y\", \"%d/%m/%Y\", \"%m/%y\", \"%A %B %d, %Y\", \"%m/%d/%Y %H:%M:%S\", \"%I:%M:%S %p\"]\n",
    "for fmt in fmts:\n",
    "    print (date_dtg.strftime(fmt))"
   ]
  },
  {
   "cell_type": "code",
   "execution_count": null,
   "metadata": {},
   "outputs": [],
   "source": []
  }
 ],
 "metadata": {
  "kernelspec": {
   "display_name": "Python 3",
   "language": "python",
   "name": "python3"
  },
  "language_info": {
   "codemirror_mode": {
    "name": "ipython",
    "version": 3
   },
   "file_extension": ".py",
   "mimetype": "text/x-python",
   "name": "python",
   "nbconvert_exporter": "python",
   "pygments_lexer": "ipython3",
   "version": "3.8.5"
  }
 },
 "nbformat": 4,
 "nbformat_minor": 4
}
