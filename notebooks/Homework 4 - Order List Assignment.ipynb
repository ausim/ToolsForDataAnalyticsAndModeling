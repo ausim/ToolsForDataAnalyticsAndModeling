{
 "cells": [
  {
   "cell_type": "markdown",
   "id": "9bea911a-6709-4b1a-b630-e8aa2fea76e8",
   "metadata": {},
   "source": [
    "# Homework 4 - Order List Assignment\n",
    "\n",
    "This assignment involves creating and manipulating an \"order list\" similar to the example that we went over in class on Tuesday, Sept. 27.  The input dataset includes four csv files:\n",
    "\n",
    "- customers.csv - The customer list\n",
    "- skus.csv - The SKU (stock keeping unit) list\n",
    "- orders.csv - The order list\n",
    "- line_items.csv - The order line item list\n",
    "\n",
    "The input files all have column headers that *should* the relationship structure clear.  Make sure that you look at the files in Excel or your favorite text editor before starting work on the assignment and, if you have questions, ask! \n",
    "\n",
    "The input files are availalbe in the data\\hw4data directory in the course GitHub repository.\n",
    "\n",
    "**This assignment is due on Wednesday, October 19**"
   ]
  },
  {
   "cell_type": "code",
   "execution_count": 2,
   "id": "8ccf5892-6438-4ca5-954a-79dddf919f5d",
   "metadata": {},
   "outputs": [],
   "source": [
    "import pandas as pd"
   ]
  },
  {
   "cell_type": "markdown",
   "id": "697d4ce5-7ef0-4edf-9a28-4791d9b6e048",
   "metadata": {},
   "source": [
    "## Question 1\n",
    "In the cell(s) below, create a separate dataframe for each of the four datasets by reading the corresponding csv files.  When reading the orders file (orders.csv) use the parse_dates option to make sure that the order_dtg column is a datetime type.\n",
    "\n",
    "For each dataframe, please do the following:\n",
    "\n",
    "1. use the head() function/method to dispay the first **10 rows** of the dataset;\n",
    "2. Dispaly the number of records in the dataset in a user-friendly format (i.e., instead of simply displaying a number, incldue something like \"The customers dataset includes x recrods and y columns.\""
   ]
  },
  {
   "cell_type": "code",
   "execution_count": 3,
   "id": "b8be6672-8192-4e4e-9c59-ef0135ae41ca",
   "metadata": {},
   "outputs": [],
   "source": [
    "# Start solution here - add and use as many cells as necessary\n"
   ]
  },
  {
   "cell_type": "markdown",
   "id": "40a72158-4c9e-48dc-aafe-38907483dfdd",
   "metadata": {},
   "source": [
    "## Question 2\n",
    "For this question, you will merge the orders and line_items dataset and provide some analytics from the combined dataset.  Use an inner join-type merge using the order_num column as key and include all columns from the two datasets in the merged dataset.  \n",
    "\n",
    "1. Create the merged dataset and display the first **25 rows**\n",
    "2. Using groupby function, create a series that includes the numbers of line items in each order and display the first **30 values** from the series.\n",
    "3. Using a Boolean mask, show all records for order_num TF1810300011818 (from the merged dataset)\n"
   ]
  },
  {
   "cell_type": "code",
   "execution_count": 2,
   "id": "62d11d35-ecc3-474a-8bd3-5f997f5846b2",
   "metadata": {},
   "outputs": [],
   "source": [
    "# Start solution here - add and use as many cells as necessary\n"
   ]
  },
  {
   "cell_type": "markdown",
   "id": "41248cdf-aee1-42d2-850e-ccb72fd3d89f",
   "metadata": {},
   "source": [
    "## Question 3\n",
    "\n",
    "Starting with the dataframe from Question 2, merge the customer and sku data to create a single, complete dataframe with all of the order information. Use inner join-type merges to create this dataframe.  \n",
    "\n",
    "1.  Create the merged dataframe and display the first 10 rows.\n",
    "2.  Add a total_price column by multiplying the quantity (qty) by the price for each item and display the first 10 rows of the expanded dataframe.\n",
    "3.  Create a function that takes an order number as an argument and displays the order information in a user friendly way.  In particular, this display should incldue three sections:  the general order information; the customer information; and the list of line items in the order.  You can decide exactly how it should look (given that it includes the specified sections).\n",
    "4.  Use the function to show order 608038370."
   ]
  },
  {
   "cell_type": "code",
   "execution_count": 1,
   "id": "67256d0b-4ac6-450c-9d14-ec7221087f1f",
   "metadata": {},
   "outputs": [],
   "source": [
    "# Start solution here - add and use as many cells as necessary\n"
   ]
  },
  {
   "cell_type": "markdown",
   "id": "cb8204e5-6d22-4579-90da-fff861a589f0",
   "metadata": {},
   "source": [
    "## Question 4\n",
    "\n",
    "Using the dataset from Problem 3, create a new dataset that groups the records by order and aggregates (using sum) the numbers of items (qty) and total prices (total_price) for the order.  Show the first 10 records in the new dataset.  To clarify, the resulting dataset should have 1 row for each order and two attributes: the total quantity of items in the order; and the total price for all items in the order.\n"
   ]
  },
  {
   "cell_type": "code",
   "execution_count": 5,
   "id": "3fc21661-de5c-4b31-85c1-57bd04429323",
   "metadata": {},
   "outputs": [],
   "source": [
    "# Start solution here - add and use as many cells as necessary\n"
   ]
  },
  {
   "cell_type": "markdown",
   "id": "b040e7f8-55b4-42f4-8183-f1cebf53f796",
   "metadata": {},
   "source": [
    "## Question 5\n",
    "\n",
    "Using the dataset from Problem 3, create a new datasets that groups the records by sku and aggregates (using count and sum) the numbers of items (qty) for the sku.  Show the first 10 records in the new dataset.  To clarify, the resulting dataset should have 1 row for each sku and two attributes: the number of line items that contain the sku; and the total quantity of the sku over all line items.\n",
    "\n"
   ]
  },
  {
   "cell_type": "code",
   "execution_count": 4,
   "id": "40c657ba-7203-471b-a456-53efd4af63d4",
   "metadata": {},
   "outputs": [],
   "source": [
    "# Start solution here - add and use as many cells as necessary\n"
   ]
  }
 ],
 "metadata": {
  "kernelspec": {
   "display_name": "Python 3 (ipykernel)",
   "language": "python",
   "name": "python3"
  },
  "language_info": {
   "codemirror_mode": {
    "name": "ipython",
    "version": 3
   },
   "file_extension": ".py",
   "mimetype": "text/x-python",
   "name": "python",
   "nbconvert_exporter": "python",
   "pygments_lexer": "ipython3",
   "version": "3.10.6"
  }
 },
 "nbformat": 4,
 "nbformat_minor": 5
}
