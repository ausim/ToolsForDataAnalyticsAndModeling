{
 "cells": [
  {
   "cell_type": "code",
   "execution_count": null,
   "id": "758e68e6",
   "metadata": {},
   "outputs": [],
   "source": [
    "from sklearn import tree\n",
    "import pandas as pd\n",
    "from IPython.display import display\n",
    "from sklearn import metrics"
   ]
  },
  {
   "cell_type": "code",
   "execution_count": null,
   "id": "fe32ce09",
   "metadata": {},
   "outputs": [],
   "source": [
    "# the train data\n",
    "fname1 = \"../data/BankChurnersTrainSet.csv\"\n",
    "# read the data into a pandas dataframe\n",
    "train = pd.read_csv(fname1)\n",
    "display(train.head())\n",
    "# the test data\n",
    "fname2 = \"../data/BankChurnersTestSet.csv\"\n",
    "# read the data into a pandas dataframe \n",
    "test = pd.read_csv(fname2)\n",
    "display(test.head())"
   ]
  },
  {
   "cell_type": "code",
   "execution_count": null,
   "id": "342d3033",
   "metadata": {},
   "outputs": [],
   "source": [
    "# input and output variables from train set\n",
    "# I just randomly choose 3 vairables\n",
    "InputV = train[['Dependent_count','Months_on_book', 'Total_Relationship_Count']]\n",
    "TargetV = train['Attrition_Flag']\n",
    "# decision tree object \n",
    "clf = tree.DecisionTreeClassifier(max_depth=5)\n",
    "# training model \n",
    "clf = clf.fit(InputV, TargetV)"
   ]
  },
  {
   "cell_type": "code",
   "execution_count": null,
   "id": "4e087bc7",
   "metadata": {},
   "outputs": [],
   "source": [
    "# input and output variables from test set\n",
    "InputV_test = test[['Dependent_count','Months_on_book', 'Total_Relationship_Count']]\n",
    "TargetV_test = test['Attrition_Flag']\n",
    "# use our model to make predictions for our test set\n",
    "pred = clf.predict(InputV_test)\n",
    "# use total accuracy as a metric to evaluate our model\n",
    "metrics.accuracy_score(TargetV_test, pred)"
   ]
  },
  {
   "cell_type": "code",
   "execution_count": null,
   "id": "8529a89b-1b86-45ad-a2db-12f1f440c719",
   "metadata": {},
   "outputs": [],
   "source": [
    "# WRONG USE!!!\n",
    "# Although you can run the codes, this is not a correct way to evaluate your model because we use train set here.\n",
    "pred_w = clf.predict(InputV)\n",
    "metrics.accuracy_score(TargetV, pred_w)"
   ]
  },
  {
   "cell_type": "code",
   "execution_count": null,
   "id": "1542ff0d-dc99-4a5d-bc1b-06421d126d64",
   "metadata": {},
   "outputs": [],
   "source": []
  }
 ],
 "metadata": {
  "kernelspec": {
   "display_name": "Python 3",
   "language": "python",
   "name": "python3"
  },
  "language_info": {
   "codemirror_mode": {
    "name": "ipython",
    "version": 3
   },
   "file_extension": ".py",
   "mimetype": "text/x-python",
   "name": "python",
   "nbconvert_exporter": "python",
   "pygments_lexer": "ipython3",
   "version": "3.8.8"
  }
 },
 "nbformat": 4,
 "nbformat_minor": 5
}
