{
 "cells": [
  {
   "cell_type": "markdown",
   "metadata": {},
   "source": [
    "# 1.3.1 File Reading Example - Foreign Exchange Rate Dataset\n",
    "\n",
    "Datafile: \"14_Foreign_Exchange_Rates_PureNumeric.csv.csv\"\n",
    "\n",
    "Originally developed by Jingwei Liu (2020-08-29)\n"
   ]
  },
  {
   "cell_type": "markdown",
   "metadata": {},
   "source": [
    "### Let's first define some functions to show the data we will read and help us get some basic information about the dataset.\n",
    "In this example, the dataset will be read as<font color = \"red\"> **a list of lists** </font>, so we will define a small function to show the values in the list of lists"
   ]
  },
  {
   "cell_type": "code",
   "execution_count": null,
   "metadata": {},
   "outputs": [],
   "source": [
    "# Define a \"ShowData\" function - note the default value for the (now) optional parameter.\n",
    "#  dataset is a list of lists\n",
    "def ShowData(dataset = [[\"No dataset sent\"]]):\n",
    "    for r in dataset:\n",
    "        # print elements in a tab-separated format\n",
    "        print (\"\\t\".join(r))\n",
    "\n",
    "# sample calls\n",
    "ShowData([[\"one\", \"two\", \"three\"], [\"four\", \"five\", \"six\"], [\"seven\", \"eight\", \"nine\"]])\n",
    "#show()"
   ]
  },
  {
   "cell_type": "markdown",
   "metadata": {},
   "source": [
    "### Also, it is always good to check the shape of the dataset you read \n",
    "*The function below will show the number of rows and columns in the list of lists.*\n",
    "<br>\n",
    "**Here, Row number means how many elements in the list. Column number means how many elements in each element list.**"
   ]
  },
  {
   "cell_type": "code",
   "execution_count": null,
   "metadata": {},
   "outputs": [],
   "source": [
    "# Define a \"ShowRowsAndCols\" function which show the number of rows and columns in the dataset\n",
    "# dataset is a list of list. Row number means how many elements in the list. Column number means how many elements in each element list.\n",
    "def ShowRowsAndCols(dataset = [[\"No dataset sent\"]]): \n",
    "    print(\"There are {} rows in the dataset\".format(len(dataset)))\n",
    "    print(\"There are {} columns in the dataset\".format(len(dataset[1])))\n",
    "    \n",
    "# sample calls\n",
    "ShowRowsAndCols([[\"one\", \"two\", \"three\"], [\"four\", \"five\", \"six\"]])\n",
    "#show()"
   ]
  },
  {
   "cell_type": "markdown",
   "metadata": {},
   "source": [
    "### Now, let's read the data set into a list of lists using different Python methods"
   ]
  },
  {
   "cell_type": "markdown",
   "metadata": {},
   "source": [
    "One thing you should know is , each element in the list of lists is stored <font color = \"red\">**as string**</font>. (even it is a number)."
   ]
  },
  {
   "cell_type": "code",
   "execution_count": null,
   "metadata": {},
   "outputs": [],
   "source": [
    "# Initial version - \"standard programming\"\n",
    "#\n",
    "# Define a list for the data.  Will be a list of lists.\n",
    "data = []\n",
    "# open the file\n",
    "fname = \"../data/14_Foreign_Exchange_Rates_PureNumeric.csv\"\n",
    "f = open(fname, \"r\")\n",
    "# ignore the first 5 lines\n",
    "for i in range(6):\n",
    "    line = f.readline()\n",
    "# loop until we run out of lines\n",
    "while (line):\n",
    "    # strip the newline and tokenize (split on commas, in this case)\n",
    "    tokens = line.rstrip().split(',')\n",
    "    # append this record to the dataset\n",
    "    data.append(tokens)\n",
    "    # read the next line\n",
    "    line = f.readline()\n",
    "# close the file\n",
    "f.close()\n",
    "# show the data\n",
    "ShowData(data)"
   ]
  },
  {
   "cell_type": "markdown",
   "metadata": {},
   "source": [
    "After running the above cell, you should see the data is read as a list of lists. We read all rows in the dataset and each row is a list and also an element of a bigger list. **So, that's why we call this a list of lists**\n",
    "\n",
    "Now, Let's try to check the value and data type of the first element of the first row *(keep in mind that the subscript in python starts from 0)*"
   ]
  },
  {
   "cell_type": "code",
   "execution_count": null,
   "metadata": {},
   "outputs": [],
   "source": [
    "data[0][0]"
   ]
  },
  {
   "cell_type": "code",
   "execution_count": null,
   "metadata": {},
   "outputs": [],
   "source": [
    "type(data[0][0])"
   ]
  },
  {
   "cell_type": "markdown",
   "metadata": {},
   "source": [
    "#### A Python-esque version of the code.\n",
    "You can see in this cell, it uses fewer lines to do the same work.  For your assignment, you are free to use any of the code versions as a starting point."
   ]
  },
  {
   "cell_type": "code",
   "execution_count": null,
   "metadata": {},
   "outputs": [],
   "source": [
    "#\n",
    "# Python-esque version 1\n",
    "#\n",
    "# Grab all the lines from the file starting with line 6, strip\n",
    "# the newline and tokenize\n",
    "with open(\"../data/14_Foreign_Exchange_Rates_PureNumeric.csv\") as f:\n",
    "    vdataset = [line.rstrip().split(',') for line in f.readlines()[5:]]\n",
    "# show the data\n",
    "ShowData(vdataset)\n"
   ]
  },
  {
   "cell_type": "markdown",
   "metadata": {},
   "source": [
    "#### Another Python-esque version of the codes\n",
    "This time we use a module to help us read the dataset and we will read all rows.  Note that this version retains the column heading rows."
   ]
  },
  {
   "cell_type": "code",
   "execution_count": null,
   "metadata": {},
   "outputs": [],
   "source": [
    "#\n",
    "# Python-esque version 2 \n",
    "#\n",
    "# use the csv module\n",
    "import csv\n",
    "ds = []\n",
    "with open(\"../data/14_Foreign_Exchange_Rates_PureNumeric.csv\") as f:\n",
    "    reader = csv.reader(f)\n",
    "    for row in reader:\n",
    "        ds.append(row)\n",
    "# show the data\n",
    "ShowData(ds)"
   ]
  },
  {
   "cell_type": "markdown",
   "metadata": {},
   "source": [
    "### After reading the file, check row and column number in the list of lists (all three versions)"
   ]
  },
  {
   "cell_type": "code",
   "execution_count": null,
   "metadata": {},
   "outputs": [],
   "source": [
    "ShowRowsAndCols(data)\n",
    "ShowRowsAndCols(vdataset)\n",
    "ShowRowsAndCols(ds)"
   ]
  },
  {
   "cell_type": "markdown",
   "metadata": {},
   "source": [
    "### We can do some simple calculation with the dataset we read\n",
    "Here, I just show you about calculating the mean value of Australia data. "
   ]
  },
  {
   "cell_type": "code",
   "execution_count": null,
   "metadata": {},
   "outputs": [],
   "source": [
    "sum = 0\n",
    "# iterate from first row to last row\n",
    "for i in data:\n",
    "    # add Australia data of every row to sum\n",
    "    sum = sum + float(i[2])\n",
    "mean = sum/len(data)\n",
    "mean"
   ]
  },
  {
   "cell_type": "markdown",
   "metadata": {},
   "source": [
    "### Look at the column headers"
   ]
  },
  {
   "cell_type": "code",
   "execution_count": null,
   "metadata": {},
   "outputs": [],
   "source": [
    "# Use the dataset that includes the headers (ds)\n",
    "ds[0]"
   ]
  }
 ],
 "metadata": {
  "kernelspec": {
   "display_name": "Python 3 (ipykernel)",
   "language": "python",
   "name": "python3"
  },
  "language_info": {
   "codemirror_mode": {
    "name": "ipython",
    "version": 3
   },
   "file_extension": ".py",
   "mimetype": "text/x-python",
   "name": "python",
   "nbconvert_exporter": "python",
   "pygments_lexer": "ipython3",
   "version": "3.8.5"
  }
 },
 "nbformat": 4,
 "nbformat_minor": 4
}
