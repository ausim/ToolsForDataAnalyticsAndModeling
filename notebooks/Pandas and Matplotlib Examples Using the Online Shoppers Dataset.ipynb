{
 "cells": [
  {
   "cell_type": "markdown",
   "metadata": {
    "tags": []
   },
   "source": [
    "# Pandas and Matplotlib Example Using the Online Shoppers Dataset\n",
    "## A case study about online shoppers purchasing intention\n",
    "Data Source: https://archive.ics.uci.edu/ml/datasets/Online+Shoppers+Purchasing+Intention+Dataset\n",
    "\n",
    "Description: Online shoppers - Description.pdf\n",
    "\n",
    "Created by Jingwei Liu and Jeff Smith\n"
   ]
  },
  {
   "cell_type": "markdown",
   "metadata": {
    "tags": []
   },
   "source": [
    "### Suppose one of your friends want to build an online shopping website, one day,  you found he seems worring about something. After talking with him, you knew he is currently have some problems when building the website:\n",
    "#### <font color=\"blue\">1. Due to the limited budget, he wants to know which way is better: designing a good infomation page or a good product-related page.</font>\n",
    "#### <font color=\"blue\">2. He plans to have an offline promotion activity in one region, but he doesn't know which region is a better choice.</font>\n",
    "#### <font color=\"blue\">3. He also plans to have an online promotion activity during one month except the conventional monthes (Nov. and Dec.). But, he can't decide which month is better.</font>\n",
    "#### <font color=\"blue\">4. Are there any differences in behaviors between new users and returned users?</font>"
   ]
  },
  {
   "cell_type": "markdown",
   "metadata": {},
   "source": [
    "### Fortunately, you just have a dataset about online shopper purchasing intention. You decide to explore the data and try to find some useful information to help your friend."
   ]
  },
  {
   "cell_type": "markdown",
   "metadata": {},
   "source": [
    "### Let's import the tools at first and then read teh data as a dataframe using Pandas"
   ]
  },
  {
   "cell_type": "code",
   "execution_count": null,
   "metadata": {},
   "outputs": [],
   "source": [
    "#import the tools:numpy,pandas and matplotlib\n",
    "%matplotlib inline\n",
    "import numpy as np\n",
    "import pandas as pd\n",
    "import matplotlib.pyplot as plt"
   ]
  },
  {
   "cell_type": "code",
   "execution_count": null,
   "metadata": {},
   "outputs": [],
   "source": [
    "# the file path\n",
    "fname = \"../data/16_online_shoppers_purchasing_intention.csv\"\n",
    "# read the data into a pandas dataframe and show the fist five lines\n",
    "data = pd.read_csv(fname)\n",
    "data.head()"
   ]
  },
  {
   "cell_type": "code",
   "execution_count": null,
   "metadata": {},
   "outputs": [],
   "source": [
    "# a simple dataframe information\n",
    "data.info()"
   ]
  },
  {
   "cell_type": "markdown",
   "metadata": {},
   "source": [
    "### Now, let's use this dataset to find some useful information. Let's check the average, min, max and std on time shoppers spend in informational page and product-related page."
   ]
  },
  {
   "cell_type": "code",
   "execution_count": null,
   "metadata": {},
   "outputs": [],
   "source": [
    "# use pandas embeded function to compute some statistics in attribute [Informational_Duration] and [ProductRelated_Duration]\n",
    "print(\"Max value in Informational_Duration  : {:0.2f} \".format(data['Informational_Duration'].max()))\n",
    "print(\"Min value in Informational_Duration  : {:0.2f} \".format(data['Informational_Duration'].min()))\n",
    "print(\"Mean value in Informational_Duration : {:0.2f} \".format(data['Informational_Duration'].mean()))\n",
    "print(\"The std in Informational_Duration    : {:0.2f}\".format(data['Informational_Duration'].std()))\n",
    "print(50 * '-')\n",
    "print(\"Max value in ProductRelated_Duration  : {:0.2f} \".format(data['ProductRelated_Duration'].max()))\n",
    "print(\"Min value in ProductRelated_Duration  : {:0.2f} \".format(data['ProductRelated_Duration'].min()))\n",
    "print(\"Mean value in ProductRelated_Duration : {:0.2f} \".format(data['ProductRelated_Duration'].mean()))\n",
    "print(\"The std in ProductRelated_Duration    : {:0.2f}\".format(data['ProductRelated_Duration'].std()))"
   ]
  },
  {
   "cell_type": "code",
   "execution_count": null,
   "metadata": {},
   "outputs": [],
   "source": [
    "# You can also use the embeded function 'describe' to find the same values\n",
    "data[['Informational_Duration','ProductRelated_Duration']].describe()"
   ]
  },
  {
   "cell_type": "markdown",
   "metadata": {},
   "source": [
    "### <font color = \"red\"> Now, you can tell your friend, based some online data, online shoppers will spend more time on product-related page. </font>"
   ]
  },
  {
   "cell_type": "markdown",
   "metadata": {},
   "source": [
    "### Now, let's try to find the shopper numbers in different region"
   ]
  },
  {
   "cell_type": "code",
   "execution_count": null,
   "metadata": {},
   "outputs": [],
   "source": [
    "# Show how many shoppers shop in different region\n",
    "data.groupby('Region')[['Index']].count()"
   ]
  },
  {
   "cell_type": "code",
   "execution_count": null,
   "metadata": {},
   "outputs": [],
   "source": [
    "# you can also use histogram plot to show the difference\n",
    "Reg = data['Region']\n",
    "plt.hist(Reg);"
   ]
  },
  {
   "cell_type": "markdown",
   "metadata": {},
   "source": [
    "#### we can clearly see that the number of online shoppers is very high in region 1. But does shopper in region 1 really have a higher percentage end up withing buying something? Let's check that!"
   ]
  },
  {
   "cell_type": "code",
   "execution_count": null,
   "metadata": {},
   "outputs": [],
   "source": [
    "# The number of shopppers in region1\n",
    "region1_shopper_a = data[data['Region'] == 1]['Index'].size\n",
    "# The number of shoppers end up buying somthing in region1\n",
    "region1_shopper_b = data[(data['Region'] == 1) &( data['Revenue'] == True)]['Index'].size\n",
    "# The number of shoppers in other regions \n",
    "regiono_shopper_a = data[data['Region'] != 1]['Index'].size\n",
    "# The number of shoppers in other regions end up buying something\n",
    "regiono_shopper_b = data[(data['Region'] != 1) & (data['Revenue'] == True)]['Index'].size\n",
    "\n",
    "print(\"There is {:0.2f} percent of shoppers in region1 buy products\".format(region1_shopper_b/region1_shopper_a))\n",
    "print(\"There is {:0.2f} percent of shoppers in other regions(not region1) buy products\".format(regiono_shopper_b/regiono_shopper_a))"
   ]
  },
  {
   "cell_type": "markdown",
   "metadata": {},
   "source": [
    "#### Let's use Pie chart to see the percentage of buying something in region 1 and other regions"
   ]
  },
  {
   "cell_type": "code",
   "execution_count": null,
   "metadata": {},
   "outputs": [],
   "source": [
    "# labels for pie chart\n",
    "labels = 'Buy something','Not buy something' \n",
    "# The number of shoppers end up not buying somthing in region1\n",
    "region1_shopper_n = data[(data['Region'] == 1) &( data['Revenue'] != True)]['Index'].size\n",
    "# The number of shoppers end up not buying somthing in other region\n",
    "regiono_shopper_n = data[(data['Region'] != 1) & (data['Revenue'] != True)]['Index'].size\n",
    "# the size(number) for each label in region1\n",
    "region1_sizes = [region1_shopper_b,region1_shopper_n]    \n",
    "# the size(number) for each label in other regions\n",
    "regiono_sizes = [regiono_shopper_b,regiono_shopper_n] \n",
    "\n",
    "# optional parameters for better visualizition\n",
    "plt.rcParams['figure.figsize'] = (20.0, 9.0) #figure size\n",
    "colors = ['gold', 'yellowgreen']\n",
    "explode = (0,0.1)\n",
    "\n",
    "#plot pie chart for region 1\n",
    "ax1 = plt.subplot(1, 2, 1)\n",
    "patches, texts, autotexts = plt.pie(region1_sizes, explode=explode, labels=labels, colors=colors,\n",
    "        autopct='%1.1f%%', shadow=True, startangle=30) \n",
    "ax1.set_title(\"region 1\")\n",
    "\n",
    "#plot pie chart for other regions\n",
    "ax2 = plt.subplot(1, 2, 2)\n",
    "patches, texts, autotexts = plt.pie(regiono_sizes, explode=explode, labels=labels, colors=colors,\n",
    "        autopct='%1.1f%%', shadow=True, startangle=30) \n",
    "ax2.set_title(\"other regions\");\n",
    "# the semicolon is used to suppress the returned values from calling matplotlib functions. You can remove it to check what will heppen."
   ]
  },
  {
   "cell_type": "markdown",
   "metadata": {},
   "source": [
    "### So, it seems although there are more online shoppers in region 1, the shoppers shopping behavior are similiar to other regions"
   ]
  },
  {
   "cell_type": "markdown",
   "metadata": {},
   "source": [
    "### <font color = \"red\"> Based on the above cells, you can tell your friend that region 1 has more online shoppers and the shoppers there are similiar to other regions so that hold a promotion activity in region 1 could be better</font>"
   ]
  },
  {
   "cell_type": "markdown",
   "metadata": {},
   "source": [
    "### Now we can try to find something related with Month"
   ]
  },
  {
   "cell_type": "code",
   "execution_count": null,
   "metadata": {},
   "outputs": [],
   "source": [
    "# Show how many shoppers shop in different month\n",
    "data.groupby('Month')[['Index']].count()"
   ]
  },
  {
   "cell_type": "markdown",
   "metadata": {},
   "source": [
    "#### Let's also use barplot to see the shopper number by month "
   ]
  },
  {
   "cell_type": "code",
   "execution_count": null,
   "metadata": {},
   "outputs": [],
   "source": [
    "#re-ordered the month sequence\n",
    "month = data.groupby('Month')['Index'].size().reset_index(name = 'Shoppers number')\n",
    "month['Month_No'] = [8,12,2,7,6,3,5,11,10,9]\n",
    "month_ordered = month.sort_values(by='Month_No')\n",
    "\n",
    "#plot the distribution\n",
    "month_label = ('Feb','Mar','May','June','Jul','Aug','Sep','Oct','Nov','Dec')\n",
    "fig,ax = plt.subplots(figsize=(20,10))\n",
    "plt.bar(month_label,month_ordered['Shoppers number'])\n",
    "plt.ylabel('Shoppers number',fontsize = 20)\n",
    "plt.title('Number of shoppers in month distribution',fontsize = 20)\n",
    "plt.xticks(fontsize=20)\n",
    "plt.yticks(fontsize=15)\n",
    "\n",
    "#plot the mean value line\n",
    "mean = month_ordered['Shoppers number'].mean()\n",
    "ax.axhline(mean,color = 'red')\n",
    "\n",
    "#plot lengend\n",
    "import matplotlib.patches as mpatches\n",
    "import matplotlib.lines as mlines\n",
    "monthly_num = mpatches.Patch(color='blue', label='The monthly numbers')\n",
    "monthly_avg = mlines.Line2D([],[], color='red', label='monthly average')\n",
    "plt.legend(handles=[monthly_avg,monthly_num],loc=2);"
   ]
  },
  {
   "cell_type": "markdown",
   "metadata": {},
   "source": [
    "### We can find that except Nov and Dec, online shoppers shop more in May."
   ]
  },
  {
   "cell_type": "markdown",
   "metadata": {},
   "source": [
    "### <font color = \"red\"> Based on the above cells, you can tell your friend that hold an online promotion activity in May could be better</font>"
   ]
  },
  {
   "cell_type": "markdown",
   "metadata": {},
   "source": [
    "### Last, let's try to find some difference between new visitor and return visitor"
   ]
  },
  {
   "cell_type": "markdown",
   "metadata": {},
   "source": [
    "#### Add a column to show the total time a shopper spend in all kinds of pages"
   ]
  },
  {
   "cell_type": "code",
   "execution_count": null,
   "metadata": {},
   "outputs": [],
   "source": [
    "# add a column[Total_Duration] to show hoy much total time \n",
    "# (Administrative_Duration + Informational_Duration + ProductRelated_Duration) a shopper spend\n",
    "data['Total_Duration'] = data['Administrative_Duration'] + data['Informational_Duration'] + data['ProductRelated_Duration']\n",
    "data[['Total_Duration']].head()"
   ]
  },
  {
   "cell_type": "code",
   "execution_count": null,
   "metadata": {},
   "outputs": [],
   "source": [
    "# show mean and median of total_duration between different visitortype\n",
    "data.groupby('VisitorType')[['Total_Duration']].aggregate(['mean','median'])"
   ]
  },
  {
   "cell_type": "markdown",
   "metadata": {},
   "source": [
    "#### It shows returning visitor spend more time on the online shopping website. You can also get a deeper look about the difference among  regions"
   ]
  },
  {
   "cell_type": "code",
   "execution_count": null,
   "metadata": {},
   "outputs": [],
   "source": [
    "# Whether each type of visitors have similiar behaviors in different regions\n",
    "data.groupby(['Region', 'VisitorType'])['Total_Duration'].aggregate(['mean','median']).unstack()"
   ]
  },
  {
   "cell_type": "markdown",
   "metadata": {},
   "source": [
    "#### Based on the median values, there seems no significant difference among regions"
   ]
  },
  {
   "cell_type": "markdown",
   "metadata": {},
   "source": [
    "### Here just show some simple analysis, you can compare other parts among different visitor types. And you could get different conclusions based on your analysis."
   ]
  },
  {
   "cell_type": "markdown",
   "metadata": {},
   "source": [
    "### <font color = \"red\"> Based on the simple analysis above, you can tell your friend that returning visitor seems spend more time on the website</font>"
   ]
  },
  {
   "cell_type": "markdown",
   "metadata": {},
   "source": [
    "## This notebook provides an example about using Pandas and Matplotlib to help us find some useful infomation. Pandas and Matplotlib are very powerful packages, besides the above usage, they provide lots of other useful functions. If you are interested in those functions, please refer to:\n",
    "### Pandas: https://pandas.pydata.org/\n",
    "### Matplotlib: https://matplotlib.org/"
   ]
  },
  {
   "cell_type": "code",
   "execution_count": null,
   "metadata": {},
   "outputs": [],
   "source": []
  }
 ],
 "metadata": {
  "kernelspec": {
   "display_name": "Python 3 (ipykernel)",
   "language": "python",
   "name": "python3"
  },
  "language_info": {
   "codemirror_mode": {
    "name": "ipython",
    "version": 3
   },
   "file_extension": ".py",
   "mimetype": "text/x-python",
   "name": "python",
   "nbconvert_exporter": "python",
   "pygments_lexer": "ipython3",
   "version": "3.8.8"
  }
 },
 "nbformat": 4,
 "nbformat_minor": 4
}
