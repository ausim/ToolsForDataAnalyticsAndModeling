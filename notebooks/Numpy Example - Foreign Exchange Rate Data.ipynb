{
 "cells": [
  {
   "cell_type": "markdown",
   "metadata": {},
   "source": [
    "# Numpy Example - Foreign Exchange Rate Data\n",
    "## A Simple Case Study About Vacation Decision\n",
    "Datafile: \"14_Foreign_Exchange_Rates_PureNumeric.csv.csv\""
   ]
  },
  {
   "cell_type": "code",
   "execution_count": null,
   "metadata": {},
   "outputs": [],
   "source": [
    "# import the tools numpy\n",
    "import numpy as np"
   ]
  },
  {
   "cell_type": "markdown",
   "metadata": {},
   "source": [
    "### Suppose you want to take a vacation on next July. You have several places you want to visit in your mind : Australia, United Kingdom and Singapore. Because you want to try to explore the visited country carefully, you can just choose one country among them and you plan to stay there for a month (30 days). \n",
    "### However, these three destinations are all appealing to you, you find it's hard to make the final decision. Recently, you find some data that contain the exchange rate for several countries. You decide to take the estimated cost to help you make the decision."
   ]
  },
  {
   "cell_type": "markdown",
   "metadata": {},
   "source": [
    "### Let's start with reading the data\n",
    "Just pick a favorite way from the previous example(Foreign Exchange Rate Dataset File Reading)to read the data. Be careful, there are some minor changes in the codes below."
   ]
  },
  {
   "cell_type": "code",
   "execution_count": null,
   "metadata": {},
   "outputs": [],
   "source": [
    "# Define a \"ShowData\" function - note the default value for the (now) optional parameter.\n",
    "#  dataset is a list of lists of strings.\n",
    "def ShowData(dataset = [[\"No dataset sent\"]]):\n",
    "    for r in dataset:\n",
    "        # print elements in a tab-separated format\n",
    "        print (*r, sep =\"\\t\")\n",
    "\n",
    "# sample calls\n",
    "ShowData([[\"one\", \"two\", \"three\"], [\"four\", \"five\", \"six\"], [\"seven\", \"eight\", \"nine\"]])\n",
    "#show()"
   ]
  },
  {
   "cell_type": "code",
   "execution_count": null,
   "metadata": {},
   "outputs": [],
   "source": [
    "#\n",
    "# Initial version - \"standard programming\"\n",
    "#\n",
    "# Define a list for the data.  Will be a list of lists.\n",
    "data = []\n",
    "# open the file\n",
    "fname = \"../data/14_Foreign_Exchange_Rates_PureNumeric.csv\"\n",
    "f = open(fname, \"r\")\n",
    "# ignore the first 1 lines\n",
    "for i in range(2):\n",
    "    line = f.readline()\n",
    "# loop until we run out of lines\n",
    "while (line):\n",
    "    # strip the newline and tokenize (split on commas, in this case)\n",
    "    tokens = line.rstrip().split(',')\n",
    "    # pick the target columns\n",
    "    target = [float(tokens[2]), float(tokens[5]),float(tokens[14])]\n",
    "    # append this record to the dataset\n",
    "    data.append(target)\n",
    "    # read the next line\n",
    "    line = f.readline()\n",
    "# close the file\n",
    "f.close()\n",
    "# show the data\n",
    "ShowData(data)"
   ]
  },
  {
   "cell_type": "markdown",
   "metadata": {},
   "source": [
    "### Generally, it is always better to make sure that you select the correct data points. By checking the csv file, we can make sure that in our output data we have 3 columns:  Australia data; United Kingdom data and Singapore data."
   ]
  },
  {
   "cell_type": "markdown",
   "metadata": {},
   "source": [
    "### Next, you start to search the websites to find what interesting places you could visit in these three countries and the expenses for food, accommodation, travel and so on. After a careful investigation, you have the following findings:\n",
    "#### Daily Expense in Australia : 500 Australia Dollar \n",
    "#### Daily Expense in United Kingdom: 275 Pound\n",
    "#### Daily Expense in Singapore: 580 Singapore Dollar"
   ]
  },
  {
   "cell_type": "markdown",
   "metadata": {},
   "source": [
    "## There comes a question: what exchange rate should I use? \n",
    "#### There is no \"Correct\" answer, it depends on you. You can use the maximum value, minimum value, the latest value, the mean value of last year and so on. But you need to understand that different choice may provide different result and then influence your final decision."
   ]
  },
  {
   "cell_type": "markdown",
   "metadata": {},
   "source": [
    "### Here we will show three examples. We will use the mean and min value of whole time and mean value of july in 2019. \n",
    "### The first is using mean value of whole time\n",
    "If you still remember the previous example, we write our own code for calculating the mean value by summing values of each row and then divide it by it's length. But we can use Numpy to simplify this process."
   ]
  },
  {
   "cell_type": "code",
   "execution_count": null,
   "metadata": {},
   "outputs": [],
   "source": [
    "# Convert data to a numpy array\n",
    "npdata = np.array(data)\n",
    "npdata"
   ]
  },
  {
   "cell_type": "code",
   "execution_count": null,
   "metadata": {},
   "outputs": [],
   "source": [
    "# Australia mean exchange rate\n",
    "AUSMean = npdata[:,0].mean()\n",
    "# United Kingdom mean exchange rate\n",
    "UKMean = npdata[:,1].mean()\n",
    "# Singapore mean exchange rate\n",
    "SGMean = npdata[:,2].mean()"
   ]
  },
  {
   "cell_type": "code",
   "execution_count": null,
   "metadata": {},
   "outputs": [],
   "source": [
    "AUSMean"
   ]
  },
  {
   "cell_type": "markdown",
   "metadata": {},
   "source": [
    "#### You can find that this is exactly the same value in our previous example. So, what are the estimated costs in US dollar?"
   ]
  },
  {
   "cell_type": "code",
   "execution_count": null,
   "metadata": {},
   "outputs": [],
   "source": [
    "# Estimated cost in AUS\n",
    "AUSCost = 500/AUSMean *30\n",
    "# Estimated cost in UK\n",
    "UKCost = 275/UKMean *30\n",
    "# Estimated cost in SG\n",
    "SGCost = 580/SGMean *30\n",
    "# print results\n",
    "print(\"The estimated cost for travelling to Australia is ${:.2f} \".format(AUSCost))\n",
    "print(\"The estimated cost for travelling to United Kingdom is ${:.2f} \".format(UKCost))\n",
    "print(\"The estimated cost for travelling to Singapore is ${:.2f} \".format(SGCost))"
   ]
  },
  {
   "cell_type": "markdown",
   "metadata": {},
   "source": [
    "## According to the above estimated costs, we know, if we use the mean value(of whole time), the estimated cost for having a vacation in Australia is the lowest one.\n",
    "### Now, let's use minimum value of whole time"
   ]
  },
  {
   "cell_type": "code",
   "execution_count": null,
   "metadata": {},
   "outputs": [],
   "source": [
    "# Australia max exchange rate\n",
    "AUSMin = npdata[:,0].min()\n",
    "# United Kingdom max exchange rate\n",
    "UKMin = npdata[:,1].min()\n",
    "# Singapore max exchange rate\n",
    "SGMin = npdata[:,2].min()"
   ]
  },
  {
   "cell_type": "code",
   "execution_count": null,
   "metadata": {},
   "outputs": [],
   "source": [
    "# Estimated cost in AUS\n",
    "AUSCost = 500/AUSMin *30\n",
    "# Estimated cost in UK\n",
    "UKCost = 275/UKMin *30\n",
    "# Estimated cost in SG\n",
    "SGCost = 580/SGMin *30\n",
    "\n",
    "# print results\n",
    "print(\"The estimated cost for travelling to Australia is ${:.2f} \".format(AUSCost))\n",
    "print(\"The estimated cost for travelling to United Kingdom is ${:.2f} \".format(UKCost))\n",
    "print(\"The estimated cost for travelling to Singapore is ${:.2f} \".format(SGCost))"
   ]
  },
  {
   "cell_type": "markdown",
   "metadata": {},
   "source": [
    "## So, when we use minimum value(of whole time), we get a different result that the estimated cost for having a vacation in Singapore is the lowest one.\n",
    "### Last, let's use mean value of July in 2019"
   ]
  },
  {
   "cell_type": "code",
   "execution_count": null,
   "metadata": {},
   "outputs": [],
   "source": [
    "# Get the date column\n",
    "# Initial version - \"standard programming\"\n",
    "#\n",
    "# Define a list for the data.  Will be a list of lists.\n",
    "data = []\n",
    "# open the file\n",
    "fname = \"../data/14_Foreign_Exchange_Rates_PureNumeric.csv\"\n",
    "f = open(fname, \"r\")\n",
    "# ignore the first 1 lines\n",
    "for i in range(2):\n",
    "    line = f.readline()\n",
    "# loop until we run out of lines\n",
    "while (line):\n",
    "    # strip the newline and tokenize (split on commas, in this case)\n",
    "    tokens = line.rstrip().split(',')\n",
    "    # pick the target columns\n",
    "    target = [tokens[1]]\n",
    "    # append this record to the dataset\n",
    "    data.append(target)\n",
    "    # read the next line\n",
    "    line = f.readline()\n",
    "# close the file\n",
    "f.close()\n",
    "# show the data\n",
    "ShowData(data)"
   ]
  },
  {
   "cell_type": "code",
   "execution_count": null,
   "metadata": {},
   "outputs": [],
   "source": [
    "# Convert the date column to Numpy array\n",
    "date = np.array(data)\n",
    "date"
   ]
  },
  {
   "cell_type": "code",
   "execution_count": null,
   "metadata": {},
   "outputs": [],
   "source": [
    "# Find the indices for the first and last day of Jul. 2019\n",
    "# YOU NEED TO MAKE SURE THE DATES REALLY EXIST IN YOUR DATA\n",
    "FirstDate = '7/1/2019'\n",
    "LastDate = '7/31/2019'\n",
    "FirstIndex = np.where(date == FirstDate)\n",
    "LastIndex = np.where(date == LastDate)\n",
    "print(\"The {}th row is for date {}'\".format(FirstIndex[0][0],date[FirstIndex]))\n",
    "print(\"The {}th row is for date {}'\".format(LastIndex[0][0],date[LastIndex]))"
   ]
  },
  {
   "cell_type": "markdown",
   "metadata": {},
   "source": [
    "#### We can use the indices we get from date in npdata"
   ]
  },
  {
   "cell_type": "code",
   "execution_count": null,
   "metadata": {},
   "outputs": [],
   "source": [
    "# Let's calculte the mean values of the exchange rate\n",
    "# Australia mean exchange rate\n",
    "AUSJulMean = npdata[FirstIndex[0][0]:LastIndex[0][0]+1,0].mean()\n",
    "# United Kingdom mean exchange rate\n",
    "UKJulMean = npdata[FirstIndex[0][0]:LastIndex[0][0]+1,1].mean()\n",
    "# Singapore mean exchange rate\n",
    "SGJulMean = npdata[FirstIndex[0][0]:LastIndex[0][0]+1,2].mean()"
   ]
  },
  {
   "cell_type": "code",
   "execution_count": null,
   "metadata": {},
   "outputs": [],
   "source": [
    "# Estimated cost in AUS\n",
    "AUSCost = 500/AUSJulMean *30\n",
    "# Estimated cost in UK\n",
    "UKCost = 275/UKJulMean *30\n",
    "# Estimated cost in SG\n",
    "SGCost = 580/SGJulMean *30\n",
    "\n",
    "# print results\n",
    "print(\"The estimated cost for travelling to Australia is ${:.2f} \".format(AUSCost))\n",
    "print(\"The estimated cost for travelling to United Kingdom is ${:.2f} \".format(UKCost))\n",
    "print(\"The estimated cost for travelling to Singapore is ${:.2f} \".format(SGCost))"
   ]
  },
  {
   "cell_type": "markdown",
   "metadata": {},
   "source": [
    " ## So, based on the mean values of July in 2019, the estimated cost for having a vacation in United Kingdom is the lowest one."
   ]
  },
  {
   "cell_type": "markdown",
   "metadata": {},
   "source": [
    "## In this small example, we show how to use the powerful package 'Numpy' to calculate some values and help us make decision. Comparing with the previous example, we can figure out by using some existing package, we don't need to consider how to build our own code to compute some values. "
   ]
  },
  {
   "cell_type": "code",
   "execution_count": null,
   "metadata": {},
   "outputs": [],
   "source": []
  },
  {
   "cell_type": "code",
   "execution_count": null,
   "metadata": {},
   "outputs": [],
   "source": []
  }
 ],
 "metadata": {
  "kernelspec": {
   "display_name": "Python 3 (ipykernel)",
   "language": "python",
   "name": "python3"
  },
  "language_info": {
   "codemirror_mode": {
    "name": "ipython",
    "version": 3
   },
   "file_extension": ".py",
   "mimetype": "text/x-python",
   "name": "python",
   "nbconvert_exporter": "python",
   "pygments_lexer": "ipython3",
   "version": "3.8.13"
  }
 },
 "nbformat": 4,
 "nbformat_minor": 4
}
