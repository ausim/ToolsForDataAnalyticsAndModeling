{
 "cells": [
  {
   "cell_type": "markdown",
   "metadata": {},
   "source": [
    "# Foreign Exchange Rate Dataset File Reading\n",
    "Datafile: \"14_Foreign_Exchange_Rates.csv\"\n"
   ]
  },
  {
   "cell_type": "markdown",
   "metadata": {},
   "source": [
    "## Reading the data sets\n",
    "Initially, we are simply reading the data in as strings are are not doing any data type converions."
   ]
  },
  {
   "cell_type": "code",
   "execution_count": null,
   "metadata": {},
   "outputs": [],
   "source": [
    "# Define a \"ShowData\" function - note the default value for the (now) optional parameter.\n",
    "#  dataset is a list of lists of strings.\n",
    "def ShowData(dataset = [[\"No dataset sent\"]]):\n",
    "    for r in dataset:\n",
    "        # print elements in a tab-separated format\n",
    "        print (\"\\t\".join(r))\n",
    "\n",
    "# sample calls\n",
    "show([[\"one\", \"two\", \"three\"], [\"four\", \"five\", \"six\"], [\"seven\", \"eight\", \"nine\"]])\n",
    "#show()"
   ]
  },
  {
   "cell_type": "code",
   "execution_count": null,
   "metadata": {},
   "outputs": [],
   "source": [
    "# Define a \"ShowRowsAndCols\" function which show the number of rows and columns in the dataset\n",
    "# dataset is a list of list. Row number means how many elements in the list. Column number means how many elements in each element list.\n",
    "def ShowRowsAndCols(dataset = [[\"No dataset sent\"]]): \n",
    "    print(\"There are {} rows in the dataset\".format(len(dataset)))\n",
    "    print(\"There are {} columns in the dataset\".format(len(dataset[1])))\n",
    "    \n",
    "# sample calls\n",
    "ShowRowsAndCols([[\"one\", \"two\", \"three\"], [\"four\", \"five\", \"six\"]])\n",
    "#show()"
   ]
  },
  {
   "cell_type": "markdown",
   "metadata": {},
   "source": [
    "### Start with the \"vertical\" version of the dataset"
   ]
  },
  {
   "cell_type": "code",
   "execution_count": null,
   "metadata": {},
   "outputs": [],
   "source": [
    "#\n",
    "# Initial version - \"standard programming\"\n",
    "#\n",
    "# Define a list for the data.  Will be a list of lists.\n",
    "data = []\n",
    "# open the file\n",
    "fname = \"../../data/14_Foreign_Exchange_Rates.csv\"\n",
    "f = open(fname, \"r\")\n",
    "# ignore the first 5 lines\n",
    "for i in range(6):\n",
    "    line = f.readline()\n",
    "# loop until we run out of lines\n",
    "while (line):\n",
    "    # strip the newline and tokenize (split on commas, in this case)\n",
    "    tokens = line.rstrip().split(',')\n",
    "    # append this record to the dataset\n",
    "    data.append(tokens)\n",
    "    # read the next line\n",
    "    line = f.readline()\n",
    "# close the file\n",
    "f.close()\n",
    "# show the data\n",
    "ShowData(data)"
   ]
  },
  {
   "cell_type": "code",
   "execution_count": null,
   "metadata": {},
   "outputs": [],
   "source": [
    "#\n",
    "# Python-esque version 1\n",
    "#\n",
    "# Grab all the lines from the file starting with line 6, strip\n",
    "# the newline and tokenize\n",
    "with open(\"../../data/14_Foreign_Exchange_Rates.csv\") as f:\n",
    "    vdataset = [line.rstrip().split(',') for line in f.readlines()[5:]]\n",
    "# show the data\n",
    "ShowData(vdataset)\n"
   ]
  },
  {
   "cell_type": "code",
   "execution_count": null,
   "metadata": {},
   "outputs": [],
   "source": [
    "#\n",
    "# Python-esque version 2 - this time as a list of strings\n",
    "#\n",
    "# use the csv module\n",
    "import csv\n",
    "ds = []\n",
    "with open(\"../../data/14_Foreign_Exchange_Rates.csv\") as f:\n",
    "    reader = csv.reader(f)\n",
    "    for row in reader:\n",
    "        ds.append(row)\n",
    "# show the data\n",
    "ShowData(ds)"
   ]
  },
  {
   "cell_type": "markdown",
   "metadata": {},
   "source": [
    "### The row version of the Laspeyres index"
   ]
  },
  {
   "cell_type": "code",
   "execution_count": null,
   "metadata": {},
   "outputs": [],
   "source": [
    "# original version\n",
    "with open(\"../../data/14_Foreign_Exchange_Rates.csv\") as f:\n",
    "    ldataset = [line.rstrip().split(',') for line in f.readlines()[7:]]\n",
    "# show\n",
    "ShowData(ldataset)"
   ]
  },
  {
   "cell_type": "code",
   "execution_count": null,
   "metadata": {},
   "outputs": [],
   "source": [
    "# removed spacing columns\n",
    "with open(\"../../data/14_Foreign_Exchange_Rates.csv\") as f:\n",
    "    ldataset = [line.rstrip().split(',') for line in f.readlines()[4:]]\n",
    "# show\n",
    "ShowData(ldataset)"
   ]
  },
  {
   "cell_type": "markdown",
   "metadata": {},
   "source": [
    "### After reading the file, check row and column number in the file"
   ]
  },
  {
   "cell_type": "code",
   "execution_count": null,
   "metadata": {},
   "outputs": [],
   "source": [
    "ShowRowsAndCols(data)"
   ]
  },
  {
   "cell_type": "code",
   "execution_count": null,
   "metadata": {},
   "outputs": [],
   "source": []
  }
 ],
 "metadata": {
  "kernelspec": {
   "display_name": "Python 3",
   "language": "python",
   "name": "python3"
  },
  "language_info": {
   "codemirror_mode": {
    "name": "ipython",
    "version": 3
   },
   "file_extension": ".py",
   "mimetype": "text/x-python",
   "name": "python",
   "nbconvert_exporter": "python",
   "pygments_lexer": "ipython3",
   "version": "3.6.5"
  }
 },
 "nbformat": 4,
 "nbformat_minor": 2
}
